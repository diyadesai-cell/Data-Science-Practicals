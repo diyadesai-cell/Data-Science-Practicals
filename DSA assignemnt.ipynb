{
 "cells": [
  {
   "cell_type": "code",
   "execution_count": 7,
   "id": "8fb68561-20ca-46c3-b1c6-2bdd5359d7ef",
   "metadata": {},
   "outputs": [
    {
     "data": {
      "text/html": [
       "<div>\n",
       "<style scoped>\n",
       "    .dataframe tbody tr th:only-of-type {\n",
       "        vertical-align: middle;\n",
       "    }\n",
       "\n",
       "    .dataframe tbody tr th {\n",
       "        vertical-align: top;\n",
       "    }\n",
       "\n",
       "    .dataframe thead tr th {\n",
       "        text-align: left;\n",
       "    }\n",
       "\n",
       "    .dataframe thead tr:last-of-type th {\n",
       "        text-align: right;\n",
       "    }\n",
       "</style>\n",
       "<table border=\"1\" class=\"dataframe\">\n",
       "  <thead>\n",
       "    <tr>\n",
       "      <th></th>\n",
       "      <th></th>\n",
       "      <th colspan=\"2\" halign=\"left\">Sales</th>\n",
       "      <th colspan=\"2\" halign=\"left\">Expenses</th>\n",
       "    </tr>\n",
       "    <tr>\n",
       "      <th></th>\n",
       "      <th></th>\n",
       "      <th>Online</th>\n",
       "      <th>In-Store</th>\n",
       "      <th>Online</th>\n",
       "      <th>In-Store</th>\n",
       "    </tr>\n",
       "    <tr>\n",
       "      <th>Year</th>\n",
       "      <th>Quarter</th>\n",
       "      <th></th>\n",
       "      <th></th>\n",
       "      <th></th>\n",
       "      <th></th>\n",
       "    </tr>\n",
       "  </thead>\n",
       "  <tbody>\n",
       "    <tr>\n",
       "      <th rowspan=\"4\" valign=\"top\">2021</th>\n",
       "      <th>Q1</th>\n",
       "      <td>1000</td>\n",
       "      <td>1500</td>\n",
       "      <td>300</td>\n",
       "      <td>700</td>\n",
       "    </tr>\n",
       "    <tr>\n",
       "      <th>Q2</th>\n",
       "      <td>1200</td>\n",
       "      <td>1600</td>\n",
       "      <td>400</td>\n",
       "      <td>750</td>\n",
       "    </tr>\n",
       "    <tr>\n",
       "      <th>Q3</th>\n",
       "      <td>1100</td>\n",
       "      <td>1700</td>\n",
       "      <td>350</td>\n",
       "      <td>800</td>\n",
       "    </tr>\n",
       "    <tr>\n",
       "      <th>Q4</th>\n",
       "      <td>1300</td>\n",
       "      <td>1800</td>\n",
       "      <td>450</td>\n",
       "      <td>850</td>\n",
       "    </tr>\n",
       "    <tr>\n",
       "      <th rowspan=\"4\" valign=\"top\">2022</th>\n",
       "      <th>Q1</th>\n",
       "      <td>1400</td>\n",
       "      <td>1900</td>\n",
       "      <td>500</td>\n",
       "      <td>900</td>\n",
       "    </tr>\n",
       "    <tr>\n",
       "      <th>Q2</th>\n",
       "      <td>1500</td>\n",
       "      <td>2000</td>\n",
       "      <td>550</td>\n",
       "      <td>950</td>\n",
       "    </tr>\n",
       "    <tr>\n",
       "      <th>Q3</th>\n",
       "      <td>1600</td>\n",
       "      <td>2100</td>\n",
       "      <td>600</td>\n",
       "      <td>1000</td>\n",
       "    </tr>\n",
       "    <tr>\n",
       "      <th>Q4</th>\n",
       "      <td>1700</td>\n",
       "      <td>2200</td>\n",
       "      <td>650</td>\n",
       "      <td>1050</td>\n",
       "    </tr>\n",
       "  </tbody>\n",
       "</table>\n",
       "</div>"
      ],
      "text/plain": [
       "              Sales          Expenses         \n",
       "             Online In-Store   Online In-Store\n",
       "Year Quarter                                  \n",
       "2021 Q1        1000     1500      300      700\n",
       "     Q2        1200     1600      400      750\n",
       "     Q3        1100     1700      350      800\n",
       "     Q4        1300     1800      450      850\n",
       "2022 Q1        1400     1900      500      900\n",
       "     Q2        1500     2000      550      950\n",
       "     Q3        1600     2100      600     1000\n",
       "     Q4        1700     2200      650     1050"
      ]
     },
     "execution_count": 7,
     "metadata": {},
     "output_type": "execute_result"
    }
   ],
   "source": [
    "#1. Create a DataFrame named financial_data that contains quarterly financial metrics for the years 2021 and 2022. The metrics include \"Sales\" and \"Expenses,\" which are further divided into \"Online\" and \"In-Store\" channels. \n",
    "import pandas as pd\n",
    "\n",
    "index = pd.MultiIndex.from_product([[2021, 2022], ['Q1', 'Q2', 'Q3', 'Q4']], names=['Year', 'Quarter'])\n",
    "data = {\n",
    "    ('Sales', 'Online'): [1000, 1200, 1100, 1300, 1400, 1500, 1600, 1700],\n",
    "    ('Sales', 'In-Store'): [1500, 1600, 1700, 1800, 1900, 2000, 2100, 2200],\n",
    "    ('Expenses', 'Online'): [300, 400, 350, 450, 500, 550, 600, 650],\n",
    "    ('Expenses', 'In-Store'): [700, 750, 800, 850, 900, 950, 1000, 1050]\n",
    "}\n",
    "financial_data = pd.DataFrame(data, index=index)\n",
    "financial_data"
   ]
  },
  {
   "cell_type": "code",
   "execution_count": 39,
   "id": "af4e351c-95c4-4caa-b5a7-80b066e9d18f",
   "metadata": {},
   "outputs": [
    {
     "data": {
      "text/plain": [
       "1400"
      ]
     },
     "execution_count": 39,
     "metadata": {},
     "output_type": "execute_result"
    }
   ],
   "source": [
    "#a. What are the online sales for Q1 2022? \n",
    "online_sales_2022 = financial_data.loc[(2022, 'Q1'), ('Sales', 'Online')]\n",
    "online_sales_2022"
   ]
  },
  {
   "cell_type": "code",
   "execution_count": 41,
   "id": "12c7c859-938f-4960-9a8f-b7842b192b7a",
   "metadata": {},
   "outputs": [
    {
     "data": {
      "text/plain": [
       "800"
      ]
     },
     "execution_count": 41,
     "metadata": {},
     "output_type": "execute_result"
    }
   ],
   "source": [
    "#b. How much were the in-store expenses in Q3 2021? \n",
    "instore_expenses_2021 = financial_data.loc[(2021, 'Q3'), ('Expenses', 'In-Store')]\n",
    "instore_expenses_2021"
   ]
  },
  {
   "cell_type": "code",
   "execution_count": 43,
   "id": "9a165378-50ef-43b7-8a8f-fb9656c1b82b",
   "metadata": {},
   "outputs": [
    {
     "data": {
      "text/plain": [
       "3100"
      ]
     },
     "execution_count": 43,
     "metadata": {},
     "output_type": "execute_result"
    }
   ],
   "source": [
    "#c. What are the total sales for Q4 2021? \n",
    "total_sales_2021 = financial_data.loc[(2021, 'Q4'), ('Sales', 'Online')] + financial_data.loc[(2021, 'Q4'), ('Sales', 'In-Store')]\n",
    "total_sales_2021"
   ]
  },
  {
   "cell_type": "code",
   "execution_count": 45,
   "id": "c9cfef77-98d6-410d-a414-e82b8d3407f8",
   "metadata": {},
   "outputs": [
    {
     "data": {
      "text/plain": [
       "Quarter\n",
       "Q1    500\n",
       "Q2    550\n",
       "Q3    600\n",
       "Q4    650\n",
       "Name: (Expenses, Online), dtype: int64"
      ]
     },
     "execution_count": 45,
     "metadata": {},
     "output_type": "execute_result"
    }
   ],
   "source": [
    "#d.What were the expenses for the online channel in 2022?\n",
    "online_expenses_2022 = financial_data.loc[2022, ('Expenses', 'Online')]\n",
    "online_expenses_2022"
   ]
  },
  {
   "cell_type": "code",
   "execution_count": 47,
   "id": "24b31f6f-62cf-41fb-b743-26189b47ba90",
   "metadata": {},
   "outputs": [
    {
     "data": {
      "text/plain": [
       "Online      1200\n",
       "In-Store    1600\n",
       "Name: (2021, Q2), dtype: int64"
      ]
     },
     "execution_count": 47,
     "metadata": {},
     "output_type": "execute_result"
    }
   ],
   "source": [
    "#e. Retrieve sales data for Q2 2021. \n",
    "sales_2021 = financial_data.loc[(2021, 'Q2'), 'Sales']\n",
    "sales_2021"
   ]
  },
  {
   "cell_type": "code",
   "execution_count": 49,
   "id": "5ef27be8-e99d-4cce-8018-ab5ef87b46bc",
   "metadata": {},
   "outputs": [
    {
     "data": {
      "text/plain": [
       "1050"
      ]
     },
     "execution_count": 49,
     "metadata": {},
     "output_type": "execute_result"
    }
   ],
   "source": [
    "#f.What is the maximum expense recorded in 2022?\n",
    "max_expense_2022 = financial_data.loc[2022, 'Expenses'].max().max()\n",
    "max_expense_2022"
   ]
  },
  {
   "cell_type": "code",
   "execution_count": 57,
   "id": "046e4ca7-75bb-4c2d-b2cd-b3663293fcee",
   "metadata": {},
   "outputs": [
    {
     "data": {
      "text/plain": [
       "Store  Product       \n",
       "A      P1       Sales    100\n",
       "B      P1       Sales    200\n",
       "A      P2       Sales    150\n",
       "B      P2       Sales    250\n",
       "dtype: int64"
      ]
     },
     "execution_count": 57,
     "metadata": {},
     "output_type": "execute_result"
    }
   ],
   "source": [
    "#2. Stack a DataFrame of Store, Product, and Sales. \n",
    "# Sample data for stacking\n",
    "store_data = pd.DataFrame({\n",
    "    'Store': ['A', 'B', 'A', 'B'],\n",
    "    'Product': ['P1', 'P1', 'P2', 'P2'],\n",
    "    'Sales': [100, 200, 150, 250]\n",
    "})\n",
    "store_data"
   ]
  },
  {
   "cell_type": "code",
   "execution_count": 55,
   "id": "a6adad86-934d-4bc9-b1b2-a9f5d9864981",
   "metadata": {},
   "outputs": [
    {
     "data": {
      "text/plain": [
       "Store  Product       \n",
       "A      P1       Sales    100\n",
       "B      P1       Sales    200\n",
       "A      P2       Sales    150\n",
       "B      P2       Sales    250\n",
       "dtype: int64"
      ]
     },
     "execution_count": 55,
     "metadata": {},
     "output_type": "execute_result"
    }
   ],
   "source": [
    "# Stack the DataFrame\n",
    "stacked_store_data = store_data.set_index(['Store', 'Product']).stack()\n",
    "stacked_store_data"
   ]
  },
  {
   "cell_type": "code",
   "execution_count": 61,
   "id": "c97e31c5-984a-4422-be51-e7446c836975",
   "metadata": {},
   "outputs": [
    {
     "data": {
      "text/html": [
       "<div>\n",
       "<style scoped>\n",
       "    .dataframe tbody tr th:only-of-type {\n",
       "        vertical-align: middle;\n",
       "    }\n",
       "\n",
       "    .dataframe tbody tr th {\n",
       "        vertical-align: top;\n",
       "    }\n",
       "\n",
       "    .dataframe thead th {\n",
       "        text-align: right;\n",
       "    }\n",
       "</style>\n",
       "<table border=\"1\" class=\"dataframe\">\n",
       "  <thead>\n",
       "    <tr style=\"text-align: right;\">\n",
       "      <th></th>\n",
       "      <th>Store</th>\n",
       "      <th>A</th>\n",
       "      <th>B</th>\n",
       "    </tr>\n",
       "    <tr>\n",
       "      <th>Product</th>\n",
       "      <th></th>\n",
       "      <th></th>\n",
       "      <th></th>\n",
       "    </tr>\n",
       "  </thead>\n",
       "  <tbody>\n",
       "    <tr>\n",
       "      <th>P1</th>\n",
       "      <th>Sales</th>\n",
       "      <td>100</td>\n",
       "      <td>200</td>\n",
       "    </tr>\n",
       "    <tr>\n",
       "      <th>P2</th>\n",
       "      <th>Sales</th>\n",
       "      <td>150</td>\n",
       "      <td>250</td>\n",
       "    </tr>\n",
       "  </tbody>\n",
       "</table>\n",
       "</div>"
      ],
      "text/plain": [
       "Store            A    B\n",
       "Product                \n",
       "P1      Sales  100  200\n",
       "P2      Sales  150  250"
      ]
     },
     "execution_count": 61,
     "metadata": {},
     "output_type": "execute_result"
    }
   ],
   "source": [
    "#3. Unstack it to show sales by store.\n",
    "unstacked_sales_by_store = stacked_store_data.unstack(level='Store')\n",
    "unstacked_sales_by_store"
   ]
  },
  {
   "cell_type": "code",
   "execution_count": 65,
   "id": "d5b0da3b-4b1a-4109-aefc-7d8edc46bed5",
   "metadata": {},
   "outputs": [
    {
     "data": {
      "text/html": [
       "<div>\n",
       "<style scoped>\n",
       "    .dataframe tbody tr th:only-of-type {\n",
       "        vertical-align: middle;\n",
       "    }\n",
       "\n",
       "    .dataframe tbody tr th {\n",
       "        vertical-align: top;\n",
       "    }\n",
       "\n",
       "    .dataframe thead th {\n",
       "        text-align: right;\n",
       "    }\n",
       "</style>\n",
       "<table border=\"1\" class=\"dataframe\">\n",
       "  <thead>\n",
       "    <tr style=\"text-align: right;\">\n",
       "      <th></th>\n",
       "      <th></th>\n",
       "      <th>Employee</th>\n",
       "    </tr>\n",
       "    <tr>\n",
       "      <th>Department</th>\n",
       "      <th>Role</th>\n",
       "      <th></th>\n",
       "    </tr>\n",
       "  </thead>\n",
       "  <tbody>\n",
       "    <tr>\n",
       "      <th rowspan=\"2\" valign=\"top\">Sales</th>\n",
       "      <th>Manager</th>\n",
       "      <td>Alice</td>\n",
       "    </tr>\n",
       "    <tr>\n",
       "      <th>Assistant</th>\n",
       "      <td>Bob</td>\n",
       "    </tr>\n",
       "    <tr>\n",
       "      <th rowspan=\"2\" valign=\"top\">HR</th>\n",
       "      <th>Manager</th>\n",
       "      <td>Charlie</td>\n",
       "    </tr>\n",
       "    <tr>\n",
       "      <th>Assistant</th>\n",
       "      <td>David</td>\n",
       "    </tr>\n",
       "    <tr>\n",
       "      <th rowspan=\"2\" valign=\"top\">IT</th>\n",
       "      <th>Manager</th>\n",
       "      <td>Eve</td>\n",
       "    </tr>\n",
       "    <tr>\n",
       "      <th>Assistant</th>\n",
       "      <td>Frank</td>\n",
       "    </tr>\n",
       "  </tbody>\n",
       "</table>\n",
       "</div>"
      ],
      "text/plain": [
       "                     Employee\n",
       "Department Role              \n",
       "Sales      Manager      Alice\n",
       "           Assistant      Bob\n",
       "HR         Manager    Charlie\n",
       "           Assistant    David\n",
       "IT         Manager        Eve\n",
       "           Assistant    Frank"
      ]
     },
     "execution_count": 65,
     "metadata": {},
     "output_type": "execute_result"
    }
   ],
   "source": [
    "#4. Create a multi-index with Department and Role. \n",
    "employee_data = pd.DataFrame({\n",
    "    'Department': ['Sales', 'Sales', 'HR', 'HR', 'IT', 'IT'],\n",
    "    'Role': ['Manager', 'Assistant', 'Manager', 'Assistant', 'Manager', 'Assistant'],\n",
    "    'Employee': ['Alice', 'Bob', 'Charlie', 'David', 'Eve', 'Frank']\n",
    "})\n",
    "\n",
    "# Set multi-index\n",
    "employee_data = employee_data.set_index(['Department', 'Role'])\n",
    "employee_data"
   ]
  },
  {
   "cell_type": "code",
   "execution_count": 67,
   "id": "0ffbdef2-20ea-43c1-8cb2-6c51cee47df8",
   "metadata": {},
   "outputs": [
    {
     "data": {
      "text/html": [
       "<div>\n",
       "<style scoped>\n",
       "    .dataframe tbody tr th:only-of-type {\n",
       "        vertical-align: middle;\n",
       "    }\n",
       "\n",
       "    .dataframe tbody tr th {\n",
       "        vertical-align: top;\n",
       "    }\n",
       "\n",
       "    .dataframe thead th {\n",
       "        text-align: right;\n",
       "    }\n",
       "</style>\n",
       "<table border=\"1\" class=\"dataframe\">\n",
       "  <thead>\n",
       "    <tr style=\"text-align: right;\">\n",
       "      <th></th>\n",
       "      <th>Employee</th>\n",
       "    </tr>\n",
       "    <tr>\n",
       "      <th>Role</th>\n",
       "      <th></th>\n",
       "    </tr>\n",
       "  </thead>\n",
       "  <tbody>\n",
       "    <tr>\n",
       "      <th>Manager</th>\n",
       "      <td>Charlie</td>\n",
       "    </tr>\n",
       "    <tr>\n",
       "      <th>Assistant</th>\n",
       "      <td>David</td>\n",
       "    </tr>\n",
       "  </tbody>\n",
       "</table>\n",
       "</div>"
      ],
      "text/plain": [
       "          Employee\n",
       "Role              \n",
       "Manager    Charlie\n",
       "Assistant    David"
      ]
     },
     "execution_count": 67,
     "metadata": {},
     "output_type": "execute_result"
    }
   ],
   "source": [
    "#5.Access employees from a specific department. \n",
    "hr_employees = employee_data.loc['HR']\n",
    "hr_employees"
   ]
  },
  {
   "cell_type": "code",
   "execution_count": 71,
   "id": "d4792a8a-1ba7-4b10-860a-653c840de9db",
   "metadata": {},
   "outputs": [
    {
     "data": {
      "text/html": [
       "<div>\n",
       "<style scoped>\n",
       "    .dataframe tbody tr th:only-of-type {\n",
       "        vertical-align: middle;\n",
       "    }\n",
       "\n",
       "    .dataframe tbody tr th {\n",
       "        vertical-align: top;\n",
       "    }\n",
       "\n",
       "    .dataframe thead th {\n",
       "        text-align: right;\n",
       "    }\n",
       "</style>\n",
       "<table border=\"1\" class=\"dataframe\">\n",
       "  <thead>\n",
       "    <tr style=\"text-align: right;\">\n",
       "      <th></th>\n",
       "      <th>Student</th>\n",
       "      <th>Subject</th>\n",
       "      <th>Grade</th>\n",
       "    </tr>\n",
       "  </thead>\n",
       "  <tbody>\n",
       "    <tr>\n",
       "      <th>2</th>\n",
       "      <td>Bob</td>\n",
       "      <td>Math</td>\n",
       "      <td>78</td>\n",
       "    </tr>\n",
       "    <tr>\n",
       "      <th>0</th>\n",
       "      <td>John</td>\n",
       "      <td>Math</td>\n",
       "      <td>85</td>\n",
       "    </tr>\n",
       "    <tr>\n",
       "      <th>3</th>\n",
       "      <td>Daisy</td>\n",
       "      <td>Science</td>\n",
       "      <td>88</td>\n",
       "    </tr>\n",
       "    <tr>\n",
       "      <th>1</th>\n",
       "      <td>Alice</td>\n",
       "      <td>Science</td>\n",
       "      <td>90</td>\n",
       "    </tr>\n",
       "  </tbody>\n",
       "</table>\n",
       "</div>"
      ],
      "text/plain": [
       "  Student  Subject  Grade\n",
       "2     Bob     Math     78\n",
       "0    John     Math     85\n",
       "3   Daisy  Science     88\n",
       "1   Alice  Science     90"
      ]
     },
     "execution_count": 71,
     "metadata": {},
     "output_type": "execute_result"
    }
   ],
   "source": [
    "#6.  Sort a DataFrame of student grades by Subject and Grade\n",
    "grades_data = pd.DataFrame({\n",
    "    'Student': ['John', 'Alice', 'Bob', 'Daisy'],\n",
    "    'Subject': ['Math', 'Science', 'Math', 'Science'],\n",
    "    'Grade': [85, 90, 78, 88]\n",
    "})\n",
    "\n",
    "# Sort by Subject and then by Grade\n",
    "sorted_grades = grades_data.sort_values(by=['Subject', 'Grade'])\n",
    "sorted_grades"
   ]
  },
  {
   "cell_type": "code",
   "execution_count": 73,
   "id": "881aa163-a15e-4703-b196-4821d098d7b1",
   "metadata": {},
   "outputs": [
    {
     "data": {
      "text/html": [
       "<div>\n",
       "<style scoped>\n",
       "    .dataframe tbody tr th:only-of-type {\n",
       "        vertical-align: middle;\n",
       "    }\n",
       "\n",
       "    .dataframe tbody tr th {\n",
       "        vertical-align: top;\n",
       "    }\n",
       "\n",
       "    .dataframe thead th {\n",
       "        text-align: right;\n",
       "    }\n",
       "</style>\n",
       "<table border=\"1\" class=\"dataframe\">\n",
       "  <thead>\n",
       "    <tr style=\"text-align: right;\">\n",
       "      <th></th>\n",
       "      <th>Student</th>\n",
       "      <th>Subject</th>\n",
       "      <th>Grade</th>\n",
       "    </tr>\n",
       "  </thead>\n",
       "  <tbody>\n",
       "    <tr>\n",
       "      <th>0</th>\n",
       "      <td>Bob</td>\n",
       "      <td>Math</td>\n",
       "      <td>78</td>\n",
       "    </tr>\n",
       "    <tr>\n",
       "      <th>1</th>\n",
       "      <td>John</td>\n",
       "      <td>Math</td>\n",
       "      <td>85</td>\n",
       "    </tr>\n",
       "    <tr>\n",
       "      <th>2</th>\n",
       "      <td>Daisy</td>\n",
       "      <td>Science</td>\n",
       "      <td>88</td>\n",
       "    </tr>\n",
       "    <tr>\n",
       "      <th>3</th>\n",
       "      <td>Alice</td>\n",
       "      <td>Science</td>\n",
       "      <td>90</td>\n",
       "    </tr>\n",
       "  </tbody>\n",
       "</table>\n",
       "</div>"
      ],
      "text/plain": [
       "  Student  Subject  Grade\n",
       "0     Bob     Math     78\n",
       "1    John     Math     85\n",
       "2   Daisy  Science     88\n",
       "3   Alice  Science     90"
      ]
     },
     "execution_count": 73,
     "metadata": {},
     "output_type": "execute_result"
    }
   ],
   "source": [
    "#7. Reset the index of the sorted grades.\n",
    "reset_sorted_grades = sorted_grades.reset_index(drop=True)\n",
    "reset_sorted_grades"
   ]
  },
  {
   "cell_type": "code",
   "execution_count": 75,
   "id": "a3c4411e-fa2f-4f4b-a153-732006002e68",
   "metadata": {},
   "outputs": [
    {
     "data": {
      "text/html": [
       "<div>\n",
       "<style scoped>\n",
       "    .dataframe tbody tr th:only-of-type {\n",
       "        vertical-align: middle;\n",
       "    }\n",
       "\n",
       "    .dataframe tbody tr th {\n",
       "        vertical-align: top;\n",
       "    }\n",
       "\n",
       "    .dataframe thead th {\n",
       "        text-align: right;\n",
       "    }\n",
       "</style>\n",
       "<table border=\"1\" class=\"dataframe\">\n",
       "  <thead>\n",
       "    <tr style=\"text-align: right;\">\n",
       "      <th></th>\n",
       "      <th>Temperature</th>\n",
       "      <th>Humidity</th>\n",
       "    </tr>\n",
       "    <tr>\n",
       "      <th>Date</th>\n",
       "      <th></th>\n",
       "      <th></th>\n",
       "    </tr>\n",
       "  </thead>\n",
       "  <tbody>\n",
       "    <tr>\n",
       "      <th>2024-01-01</th>\n",
       "      <td>32</td>\n",
       "      <td>80</td>\n",
       "    </tr>\n",
       "    <tr>\n",
       "      <th>2024-01-02</th>\n",
       "      <td>35</td>\n",
       "      <td>85</td>\n",
       "    </tr>\n",
       "    <tr>\n",
       "      <th>2024-01-03</th>\n",
       "      <td>30</td>\n",
       "      <td>90</td>\n",
       "    </tr>\n",
       "  </tbody>\n",
       "</table>\n",
       "</div>"
      ],
      "text/plain": [
       "            Temperature  Humidity\n",
       "Date                             \n",
       "2024-01-01           32        80\n",
       "2024-01-02           35        85\n",
       "2024-01-03           30        90"
      ]
     },
     "execution_count": 75,
     "metadata": {},
     "output_type": "execute_result"
    }
   ],
   "source": [
    "#8.  Set the Date column as the index in a weather DataFrame \n",
    "weather_data = pd.DataFrame({\n",
    "    'Date': pd.to_datetime(['2024-01-01', '2024-01-02', '2024-01-03']),\n",
    "    'Temperature': [32, 35, 30],\n",
    "    'Humidity': [80, 85, 90]\n",
    "})\n",
    "\n",
    "# Set Date as the index\n",
    "weather_data.set_index('Date', inplace=True)\n",
    "weather_data"
   ]
  },
  {
   "cell_type": "code",
   "execution_count": 77,
   "id": "08f33796-7ea6-432b-bbed-6f87b2d3c90d",
   "metadata": {},
   "outputs": [
    {
     "data": {
      "text/html": [
       "<div>\n",
       "<style scoped>\n",
       "    .dataframe tbody tr th:only-of-type {\n",
       "        vertical-align: middle;\n",
       "    }\n",
       "\n",
       "    .dataframe tbody tr th {\n",
       "        vertical-align: top;\n",
       "    }\n",
       "\n",
       "    .dataframe thead th {\n",
       "        text-align: right;\n",
       "    }\n",
       "</style>\n",
       "<table border=\"1\" class=\"dataframe\">\n",
       "  <thead>\n",
       "    <tr style=\"text-align: right;\">\n",
       "      <th></th>\n",
       "      <th>Category_Type</th>\n",
       "      <th>Metrics_Sales</th>\n",
       "    </tr>\n",
       "  </thead>\n",
       "  <tbody>\n",
       "    <tr>\n",
       "      <th>0</th>\n",
       "      <td>(Electronics, Laptop)</td>\n",
       "      <td>1500</td>\n",
       "    </tr>\n",
       "    <tr>\n",
       "      <th>1</th>\n",
       "      <td>(Electronics, Phone)</td>\n",
       "      <td>1000</td>\n",
       "    </tr>\n",
       "    <tr>\n",
       "      <th>2</th>\n",
       "      <td>(Clothing, Shirt)</td>\n",
       "      <td>500</td>\n",
       "    </tr>\n",
       "  </tbody>\n",
       "</table>\n",
       "</div>"
      ],
      "text/plain": [
       "           Category_Type  Metrics_Sales\n",
       "0  (Electronics, Laptop)           1500\n",
       "1   (Electronics, Phone)           1000\n",
       "2      (Clothing, Shirt)            500"
      ]
     },
     "execution_count": 77,
     "metadata": {},
     "output_type": "execute_result"
    }
   ],
   "source": [
    "#9. Flatten a multi-index DataFrame of product sales.\n",
    "product_sales = pd.DataFrame({\n",
    "    ('Category', 'Product'): [('Electronics', 'Laptop'), ('Electronics', 'Phone'), ('Clothing', 'Shirt')],\n",
    "    'Sales': [1500, 1000, 500]\n",
    "})\n",
    "product_sales.columns = pd.MultiIndex.from_tuples([('Category', 'Type'), ('Metrics', 'Sales')])\n",
    "\n",
    "# Flatten the multi-index columns\n",
    "product_sales.columns = ['_'.join(col).strip() for col in product_sales.columns.values]\n",
    "product_sales"
   ]
  },
  {
   "cell_type": "code",
   "execution_count": 79,
   "id": "80129340-6d1f-458c-b0a2-b6a4a0011f5d",
   "metadata": {},
   "outputs": [
    {
     "data": {
      "text/html": [
       "<div>\n",
       "<style scoped>\n",
       "    .dataframe tbody tr th:only-of-type {\n",
       "        vertical-align: middle;\n",
       "    }\n",
       "\n",
       "    .dataframe tbody tr th {\n",
       "        vertical-align: top;\n",
       "    }\n",
       "\n",
       "    .dataframe thead th {\n",
       "        text-align: right;\n",
       "    }\n",
       "</style>\n",
       "<table border=\"1\" class=\"dataframe\">\n",
       "  <thead>\n",
       "    <tr style=\"text-align: right;\">\n",
       "      <th></th>\n",
       "      <th>Price</th>\n",
       "    </tr>\n",
       "    <tr>\n",
       "      <th>Category</th>\n",
       "      <th></th>\n",
       "    </tr>\n",
       "  </thead>\n",
       "  <tbody>\n",
       "    <tr>\n",
       "      <th>Clothing</th>\n",
       "      <td>450.0</td>\n",
       "    </tr>\n",
       "    <tr>\n",
       "      <th>Electronics</th>\n",
       "      <td>1250.0</td>\n",
       "    </tr>\n",
       "  </tbody>\n",
       "</table>\n",
       "</div>"
      ],
      "text/plain": [
       "              Price\n",
       "Category           \n",
       "Clothing      450.0\n",
       "Electronics  1250.0"
      ]
     },
     "execution_count": 79,
     "metadata": {},
     "output_type": "execute_result"
    }
   ],
   "source": [
    "#10. Create a multi-index using Category and Product in a product DataFrame. Then, average the levels in the column.\n",
    "# Sample data\n",
    "product_data = pd.DataFrame({\n",
    "    'Category': ['Electronics', 'Electronics', 'Clothing', 'Clothing'],\n",
    "    'Product': ['Laptop', 'Phone', 'Shirt', 'Pants'],\n",
    "    'Price': [1500, 1000, 500, 400]\n",
    "})\n",
    "\n",
    "# Set multi-index\n",
    "product_data.set_index(['Category', 'Product'], inplace=True)\n",
    "\n",
    "# Average by category\n",
    "avg_price_by_category = product_data.groupby(level='Category').mean()\n",
    "avg_price_by_category"
   ]
  }
 ],
 "metadata": {
  "kernelspec": {
   "display_name": "Python 3 (ipykernel)",
   "language": "python",
   "name": "python3"
  },
  "language_info": {
   "codemirror_mode": {
    "name": "ipython",
    "version": 3
   },
   "file_extension": ".py",
   "mimetype": "text/x-python",
   "name": "python",
   "nbconvert_exporter": "python",
   "pygments_lexer": "ipython3",
   "version": "3.12.4"
  }
 },
 "nbformat": 4,
 "nbformat_minor": 5
}
