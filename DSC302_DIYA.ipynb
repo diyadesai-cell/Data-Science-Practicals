{
 "cells": [
  {
   "cell_type": "code",
   "execution_count": 1,
   "id": "76e9e527-45e6-423c-a452-65debc8c0852",
   "metadata": {},
   "outputs": [
    {
     "name": "stdout",
     "output_type": "stream",
     "text": [
      "2401\n"
     ]
    }
   ],
   "source": [
    "#Q1 What is 7 to the power of 4?\n",
    "x = 7\n",
    "y = 4\n",
    "z = 7**4\n",
    "print(z)"
   ]
  },
  {
   "cell_type": "code",
   "execution_count": 3,
   "id": "f5fb92ef-35f4-463e-9063-81ac6fb66eb6",
   "metadata": {},
   "outputs": [
    {
     "name": "stdout",
     "output_type": "stream",
     "text": [
      "['Hi', 'there', 'Sam']\n"
     ]
    }
   ],
   "source": [
    "#Q2 Split this string: S = \"Hi there Sam!\" into a list.\n",
    "a = \"Hi there Sam\"\n",
    "b = a.split()\n",
    "print(b)"
   ]
  },
  {
   "cell_type": "code",
   "execution_count": 15,
   "id": "adf360ca-8cdc-4d90-bc4f-2dc2f733d51a",
   "metadata": {},
   "outputs": [
    {
     "name": "stdout",
     "output_type": "stream",
     "text": [
      "The diameter of Earth is 12742 kilometers\n"
     ]
    }
   ],
   "source": [
    "#Q3 Given the variables:\n",
    "\n",
    "planet = \"Earth\"\n",
    "diameter = 12742\n",
    "print(\"The diameter of {} is {} kilometers\".format(planet,diameter))\n"
   ]
  },
  {
   "cell_type": "code",
   "execution_count": 3,
   "id": "167a17e4-410e-4fad-b663-f35067f1119c",
   "metadata": {},
   "outputs": [
    {
     "name": "stdout",
     "output_type": "stream",
     "text": [
      "hello\n"
     ]
    }
   ],
   "source": [
    "#Q4 Given this nested list, use indexing to grab the word \"hello\"\n",
    "       \n",
    "l = [1,2,[3,4],[5,[100,200,['hello']],23,11],1,7]\n",
    "a = l[3][1][2][0]\n",
    "print(a)"
   ]
  },
  {
   "cell_type": "code",
   "execution_count": 3,
   "id": "4fc196ff-0df9-435f-bc90-cfa8b3753856",
   "metadata": {},
   "outputs": [
    {
     "name": "stdout",
     "output_type": "stream",
     "text": [
      "{'tricky': ['oh', 'man', 'inception', {'target': [1, 2, 3, 'hello']}]}\n",
      "{'target': [1, 2, 3, 'hello']}\n",
      "[1, 2, 3, 'hello']\n",
      "hello\n"
     ]
    }
   ],
   "source": [
    "#Q5 Given this nested dictionary grab the word \"hello\".\n",
    "        \n",
    "d = {'k1': [1,2,3,{'tricky': ['oh','man','inception',{'target': [1,2,3,'hello']}]}]}\n",
    "print(d['k1'][3])\n",
    "print(d['k1'][3]['tricky'][3])\n",
    "print(d['k1'][3]['tricky'][3]['target'])\n",
    "print(d['k1'][3]['tricky'][3]['target'][3])\n"
   ]
  },
  {
   "cell_type": "code",
   "execution_count": null,
   "id": "8dcab261-f2a9-4760-acda-f230811f1c69",
   "metadata": {},
   "outputs": [],
   "source": [
    "#6 what is the main difference between a tuple and a list?\n",
    "tuple are immutable and tuple defined using ()\n",
    "\n",
    "list are mutable and list defined using []"
   ]
  },
  {
   "cell_type": "code",
   "execution_count": 57,
   "id": "d920344c-f2b3-41a0-a171-cd5c6b93218d",
   "metadata": {},
   "outputs": [
    {
     "name": "stdin",
     "output_type": "stream",
     "text": [
      "enter your email address diya234@gmail.com\n"
     ]
    },
    {
     "name": "stdout",
     "output_type": "stream",
     "text": [
      "gmail.com\n"
     ]
    }
   ],
   "source": [
    "#7 create a function that grabs the emial website domain form a string in the form:**user@.domain.com so for example, passing \"user@domain.com\"would return : domain.com\n",
    "\n",
    "def domainGet(strDomain): \n",
    "   return strDomain.split('@')[1]\n",
    "\n",
    "email = input(\"enter your email address\")\n",
    "out = domainGet(email)\n",
    "print(out)"
   ]
  },
  {
   "cell_type": "code",
   "execution_count": 51,
   "id": "0281213f-418a-48e2-8b11-a4a84103ee57",
   "metadata": {},
   "outputs": [
    {
     "name": "stdout",
     "output_type": "stream",
     "text": [
      "True\n",
      "False\n",
      "True\n"
     ]
    }
   ],
   "source": [
    "#Create a basic function that returns True if the word 'dog' is conatined in the input string.Don't worry about edge cases like a punctuation being attached to the word dog,but do account for capitalization:\n",
    "#findDog('Is there a dog here?')\n",
    "\n",
    "def findDog(input_str):\n",
    "    words = input_str.split()\n",
    "    for word in words:\n",
    "        cleaned_word = word.rstrip('!.?')\n",
    "        if cleaned_word == 'dog':\n",
    "            return True\n",
    "    return False\n",
    "\n",
    "print(findDog('IS there a dog?'))\n",
    "print(findDog('Where is the cat'))\n",
    "print(findDog('dog is loyal animal'))"
   ]
  },
  {
   "cell_type": "code",
   "execution_count": 47,
   "id": "08dd41c6-28dd-4d71-86f8-5004fbe5562c",
   "metadata": {},
   "outputs": [
    {
     "data": {
      "text/plain": [
       "['soup', 'salad']"
      ]
     },
     "execution_count": 47,
     "metadata": {},
     "output_type": "execute_result"
    }
   ],
   "source": [
    "#9 use lamda expressions and the filter() function to filter out words from a list that don't start with the letter 's'.for example\n",
    "\n",
    "seq =['soup','dog','salad','cat','great']\n",
    "list(filter(lambda item:item[0]=='s',seq))\n",
    "\n",
    "\n"
   ]
  },
  {
   "cell_type": "code",
   "execution_count": 67,
   "id": "788836ef-e5ed-4934-979a-9ccf1d893bb1",
   "metadata": {},
   "outputs": [
    {
     "name": "stdout",
     "output_type": "stream",
     "text": [
      "no ticket\n",
      "small ticket\n",
      "no ticket\n",
      "big ticket\n"
     ]
    }
   ],
   "source": [
    "#10 you are driving a little too fast and a police officer stops you.write a function to returnone of 3 possible results:\"no ticket\",\"small ticket\", or \"big ticket\". if your speed is 60 or less,the result is \"no ticket\".if speed is between 61 and 80 inclusive,the result is \"small ticket\".if speed is 81 or more,the result is \"big ticket\". unless it is your birthday(encoded as a boolean value in the parameters of the function)--on your birthday, your speed can be 5 higher in all cases\n",
    "\n",
    "def check_speed(speed, is_birthday):\n",
    "    if is_birthday:\n",
    "        speed_limits = {'no_ticket': 65, 'small_ticket': 85}\n",
    "    else:\n",
    "        speed_limits = {'no_ticket': 60, 'small_ticket': 80}\n",
    "    if speed <= speed_limits['no_ticket']:\n",
    "        return \"no ticket\"\n",
    "    elif speed <= speed_limits['small_ticket']:\n",
    "        return \"small ticket\"\n",
    "    else:\n",
    "        return \"big ticket\"\n",
    "print(check_speed(60, False)) \n",
    "print(check_speed(80, False))\n",
    "print(check_speed(60, True))\n",
    "print(check_speed(90, False))\n",
    "   \n"
   ]
  },
  {
   "cell_type": "code",
   "execution_count": 21,
   "id": "371b4ed3-33ae-43f1-b376-83e37e834dd1",
   "metadata": {},
   "outputs": [
    {
     "name": "stdin",
     "output_type": "stream",
     "text": [
      "Enter roll number:  10\n",
      "Enter student name:  jkbdbcudc\n",
      "Enter marks for Physics (0-100):  60\n",
      "Enter marks for Chemistry (0-100):  70\n",
      "Enter marks for Maths (0-100):  80\n"
     ]
    },
    {
     "name": "stdout",
     "output_type": "stream",
     "text": [
      "\n",
      "--- Student Result ---\n",
      "Roll Number: 10\n",
      "Name: jkbdbcudc\n",
      "Total Marks: 210\n",
      "Percentage: 70.00%\n",
      "Status: pass\n",
      "Grade: first class\n"
     ]
    }
   ],
   "source": [
    "#11 write a program to input roll no, student name, marks of physics, chemistry and maths out of 100. (0-100).calculate total, percentage, calculate status(pass,fail) if student scores above 40 in all the 3 subjects the status should be pass otherwise fail. calculate grade if status is pass. grade must be based on percentage value. #if percentage is above 70, then grade must be distinction if percentage is above 60, then grade must be first class , if percentage is above 50, then grade must be second class if percentage is above 40,then grade must be pass class\n",
    "\n",
    "\n",
    "def get_student_details():\n",
    "    roll_no = input(\"Enter roll number: \")\n",
    "    name = input(\"Enter student name: \")\n",
    "\n",
    "    physics = int(input(\"Enter marks for Physics (0-100): \"))\n",
    "    chemistry = int(input(\"Enter marks for Chemistry (0-100): \"))\n",
    "    maths = int(input(\"Enter marks for Maths (0-100): \"))\n",
    "    \n",
    "    return roll_no, name, physics, chemistry, maths\n",
    "\n",
    "def calculate_results(physics, chemistry, maths):\n",
    "    total = physics + chemistry + maths\n",
    "    percentage = total / 3\n",
    "    status = \"pass\" if physics > 40 and chemistry > 40 and maths > 40 else \"fail\"\n",
    "    \n",
    "    if status == \"pass\":\n",
    "        if percentage > 70:\n",
    "            grade = \"distinction\"\n",
    "        elif percentage > 60:\n",
    "            grade = \"first class\"\n",
    "        elif percentage > 50:\n",
    "            grade = \"second class\"\n",
    "        else:\n",
    "            grade = \"pass class\"\n",
    "    else:\n",
    "        grade = \"fail\"\n",
    "    \n",
    "    return total, percentage, status, grade\n",
    "\n",
    "def display_results(roll_no, name, total, percentage, status, grade):\n",
    "    print(\"\\n--- Student Result ---\")\n",
    "    print(f\"Roll Number: {roll_no}\")\n",
    "    print(f\"Name: {name}\")\n",
    "    print(f\"Total Marks: {total}\")\n",
    "    print(f\"Percentage: {percentage:.2f}%\")\n",
    "    print(f\"Status: {status}\")\n",
    "    print(f\"Grade: {grade}\")\n",
    "\n",
    "def result():\n",
    "    roll_no, name, physics, chemistry, maths = get_student_details()\n",
    "    total, percentage, status, grade = calculate_results(physics, chemistry, maths)\n",
    "    display_results(roll_no, name, total, percentage, status, grade)\n",
    "\n",
    "if __name__ == \"__main__\":\n",
    "    result()\n"
   ]
  },
  {
   "cell_type": "code",
   "execution_count": 1,
   "id": "52740c69-f0c8-486a-8eac-f9bee7362923",
   "metadata": {},
   "outputs": [
    {
     "name": "stdout",
     "output_type": "stream",
     "text": [
      "no ticket\n",
      "small ticket\n",
      "no ticket\n",
      "big ticket\n"
     ]
    }
   ],
   "source": [
    "def check_speed(speed, is_birthday):\n",
    "    if is_birthday.lower() == 'yes':\n",
    "        is_birthday = True\n",
    "    elif is_birthday.lower() == 'no':\n",
    "        is_birthday = False\n",
    "    else:\n",
    "        raise ValueError(\"is_birthday must be 'yes' or 'no'\")\n",
    "    \n",
    "    if is_birthday:\n",
    "        speed_limits = {'no_ticket': 65, 'small_ticket': 85}\n",
    "    else:\n",
    "        speed_limits = {'no_ticket': 60, 'small_ticket': 80}\n",
    "    \n",
    "    if speed <= speed_limits['no_ticket']:\n",
    "        return \"no ticket\"\n",
    "    elif speed <= speed_limits['small_ticket']:\n",
    "        return \"small ticket\"\n",
    "    else:\n",
    "        return \"big ticket\"\n",
    "\n",
    "print(check_speed(60, 'no'))      \n",
    "print(check_speed(80, 'no'))       \n",
    "print(check_speed(60, 'yes'))      \n",
    "print(check_speed(90, 'no'))      \n"
   ]
  },
  {
   "cell_type": "code",
   "execution_count": null,
   "id": "903aeea0-e73c-488c-ba34-ddb949508516",
   "metadata": {},
   "outputs": [],
   "source": [
    "def calculate_salary(empid, name, basic_salary, experience_years):\n",
    "    # Calculate HRA, DA, and PF\n",
    "    hra = 0.35 * basic_salary\n",
    "    da = 0.58 * basic_salary\n",
    "    pf = 0.095 * basic_salary\n",
    "    \n",
    "    \n",
    "    if experience_years >= 30:\n",
    "        bonus = 0.59 * basic_salary\n",
    "    elif experience_years >= 23:\n",
    "        bonus = 0.51 * basic_salary\n",
    "    elif experience_years >= 15:\n",
    "        bonus = 0.45 * basic_salary\n",
    "    elif experience_years >= 7:\n",
    "        bonus = 0.33 * basic_salary\n",
    "    else:\n",
    "        bonus = 0.16 * basic_salary\n",
    "    \n",
    "   \n",
    "    net_salary = basic_salary + hra + da - pf + bonus\n",
    "    \n",
    "   \n",
    "    print(f\"Employee ID: {empid}\")\n",
    "    print(f\"Name: {name}\")\n",
    "    print(f\"Basic Salary: {basic_salary}\")\n",
    "    print(f\"HRA: {hra}\")\n",
    "    print(f\"DA: {da}\")\n",
    "    print(f\"PF: {pf}\")\n",
    "    print(f\"Bonus: {bonus}\")\n",
    "    print(f\"Net Salary: {net_salary}\")\n",
    "\n",
    "\n",
    "empid = input(\"Enter Employee ID: \")\n",
    "name = input(\"Enter Employee Name: \")\n",
    "basic_salary = float(input(\"Enter Basic Salary: \"))\n",
    "experience_years = int(input(\"Enter Number of Years of Experience: \"))\n",
    "\n",
    "\n",
    "calculate_salary(empid, name, basic_salary, experience_years)\n"
   ]
  }
 ],
 "metadata": {
  "kernelspec": {
   "display_name": "Python 3 (ipykernel)",
   "language": "python",
   "name": "python3"
  },
  "language_info": {
   "codemirror_mode": {
    "name": "ipython",
    "version": 3
   },
   "file_extension": ".py",
   "mimetype": "text/x-python",
   "name": "python",
   "nbconvert_exporter": "python",
   "pygments_lexer": "ipython3",
   "version": "3.12.4"
  }
 },
 "nbformat": 4,
 "nbformat_minor": 5
}
