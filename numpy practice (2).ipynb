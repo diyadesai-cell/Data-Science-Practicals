{
 "cells": [
  {
   "cell_type": "code",
   "execution_count": 1,
   "id": "993b0ba7-10bd-4c30-973c-997a474995a2",
   "metadata": {},
   "outputs": [],
   "source": [
    "import numpy as np"
   ]
  },
  {
   "cell_type": "markdown",
   "id": "921c2493-d564-4115-a6e8-efeb1b7e1a8c",
   "metadata": {},
   "source": [
    "#python list\n",
    "#list  comprehension\n",
    "#array module(import lib array)\n",
    "#numpy array:\n",
    "     zero\n",
    "     ones\n",
    "     full\n",
    "     eye\n",
    "     arrange\n",
    "     reshape\n",
    "     transpose\n",
    "     indexing"
   ]
  },
  {
   "cell_type": "code",
   "execution_count": 13,
   "id": "c02ee262-5d55-4bb7-a992-3f0e8434907a",
   "metadata": {},
   "outputs": [
    {
     "data": {
      "text/plain": [
       "'1.26.4'"
      ]
     },
     "execution_count": 13,
     "metadata": {},
     "output_type": "execute_result"
    }
   ],
   "source": [
    "np.__version__"
   ]
  },
  {
   "cell_type": "code",
   "execution_count": 15,
   "id": "d0727c73-9dc2-4af7-90fc-d41d3c90bc1b",
   "metadata": {},
   "outputs": [
    {
     "data": {
      "text/plain": [
       "\u001b[1;31mDocstring:\u001b[0m\n",
       "zeros(shape, dtype=float, order='C', *, like=None)\n",
       "\n",
       "Return a new array of given shape and type, filled with zeros.\n",
       "\n",
       "Parameters\n",
       "----------\n",
       "shape : int or tuple of ints\n",
       "    Shape of the new array, e.g., ``(2, 3)`` or ``2``.\n",
       "dtype : data-type, optional\n",
       "    The desired data-type for the array, e.g., `numpy.int8`.  Default is\n",
       "    `numpy.float64`.\n",
       "order : {'C', 'F'}, optional, default: 'C'\n",
       "    Whether to store multi-dimensional data in row-major\n",
       "    (C-style) or column-major (Fortran-style) order in\n",
       "    memory.\n",
       "like : array_like, optional\n",
       "    Reference object to allow the creation of arrays which are not\n",
       "    NumPy arrays. If an array-like passed in as ``like`` supports\n",
       "    the ``__array_function__`` protocol, the result will be defined\n",
       "    by it. In this case, it ensures the creation of an array object\n",
       "    compatible with that passed in via this argument.\n",
       "\n",
       "    .. versionadded:: 1.20.0\n",
       "\n",
       "Returns\n",
       "-------\n",
       "out : ndarray\n",
       "    Array of zeros with the given shape, dtype, and order.\n",
       "\n",
       "See Also\n",
       "--------\n",
       "zeros_like : Return an array of zeros with shape and type of input.\n",
       "empty : Return a new uninitialized array.\n",
       "ones : Return a new array setting values to one.\n",
       "full : Return a new array of given shape filled with value.\n",
       "\n",
       "Examples\n",
       "--------\n",
       ">>> np.zeros(5)\n",
       "array([ 0.,  0.,  0.,  0.,  0.])\n",
       "\n",
       ">>> np.zeros((5,), dtype=int)\n",
       "array([0, 0, 0, 0, 0])\n",
       "\n",
       ">>> np.zeros((2, 1))\n",
       "array([[ 0.],\n",
       "       [ 0.]])\n",
       "\n",
       ">>> s = (2,2)\n",
       ">>> np.zeros(s)\n",
       "array([[ 0.,  0.],\n",
       "       [ 0.,  0.]])\n",
       "\n",
       ">>> np.zeros((2,), dtype=[('x', 'i4'), ('y', 'i4')]) # custom dtype\n",
       "array([(0, 0), (0, 0)],\n",
       "      dtype=[('x', '<i4'), ('y', '<i4')])\n",
       "\u001b[1;31mType:\u001b[0m      builtin_function_or_method"
      ]
     },
     "metadata": {},
     "output_type": "display_data"
    }
   ],
   "source": [
    "np.zeros?\n",
    "#np then . and click tab "
   ]
  },
  {
   "cell_type": "code",
   "execution_count": 17,
   "id": "375bb549-dd21-4448-be20-991208744f94",
   "metadata": {},
   "outputs": [
    {
     "name": "stdout",
     "output_type": "stream",
     "text": [
      "Help on built-in function len in module builtins:\n",
      "\n",
      "len(obj, /)\n",
      "    Return the number of items in a container.\n",
      "\n"
     ]
    }
   ],
   "source": [
    "help(len)"
   ]
  },
  {
   "cell_type": "code",
   "execution_count": 21,
   "id": "261db83a-02be-4683-8e8b-8e2c5da55aca",
   "metadata": {},
   "outputs": [],
   "source": [
    "arr= np.arange(0,100)"
   ]
  },
  {
   "cell_type": "code",
   "execution_count": 23,
   "id": "f2386340-f112-4bad-a7c0-1ddc737b23b4",
   "metadata": {},
   "outputs": [
    {
     "data": {
      "text/plain": [
       "array([ 0,  1,  2,  3,  4,  5,  6,  7,  8,  9, 10, 11, 12, 13, 14, 15, 16,\n",
       "       17, 18, 19, 20, 21, 22, 23, 24, 25, 26, 27, 28, 29, 30, 31, 32, 33,\n",
       "       34, 35, 36, 37, 38, 39, 40, 41, 42, 43, 44, 45, 46, 47, 48, 49, 50,\n",
       "       51, 52, 53, 54, 55, 56, 57, 58, 59, 60, 61, 62, 63, 64, 65, 66, 67,\n",
       "       68, 69, 70, 71, 72, 73, 74, 75, 76, 77, 78, 79, 80, 81, 82, 83, 84,\n",
       "       85, 86, 87, 88, 89, 90, 91, 92, 93, 94, 95, 96, 97, 98, 99])"
      ]
     },
     "execution_count": 23,
     "metadata": {},
     "output_type": "execute_result"
    }
   ],
   "source": [
    "arr"
   ]
  },
  {
   "cell_type": "code",
   "execution_count": 25,
   "id": "0a1a6ef9-7dec-4a54-84fe-b0463caae264",
   "metadata": {},
   "outputs": [
    {
     "data": {
      "text/plain": [
       "array([ 0,  2,  4,  6,  8, 10, 12, 14, 16, 18, 20, 22, 24, 26, 28, 30, 32,\n",
       "       34, 36, 38, 40, 42, 44, 46, 48, 50, 52, 54, 56, 58, 60, 62, 64, 66,\n",
       "       68, 70, 72, 74, 76, 78, 80, 82, 84, 86, 88, 90, 92, 94, 96, 98])"
      ]
     },
     "execution_count": 25,
     "metadata": {},
     "output_type": "execute_result"
    }
   ],
   "source": [
    "np.arange(0,100,2)"
   ]
  },
  {
   "cell_type": "code",
   "execution_count": 29,
   "id": "33bad32f-8269-4d2f-b714-758c935528b0",
   "metadata": {},
   "outputs": [
    {
     "data": {
      "text/plain": [
       "array([ 0,  4,  8, 12, 16, 20, 24, 28, 32, 36, 40, 44, 48, 52, 56, 60, 64,\n",
       "       68, 72, 76, 80, 84, 88, 92, 96])"
      ]
     },
     "execution_count": 29,
     "metadata": {},
     "output_type": "execute_result"
    }
   ],
   "source": [
    "np.arange(0,100,4)"
   ]
  },
  {
   "cell_type": "code",
   "execution_count": 33,
   "id": "e4ef80b1-2ae6-4614-a240-ef816c31c924",
   "metadata": {},
   "outputs": [
    {
     "data": {
      "text/plain": [
       "array([-100,  -99,  -98,  -97,  -96,  -95,  -94,  -93,  -92,  -91,  -90,\n",
       "        -89,  -88,  -87,  -86,  -85,  -84,  -83,  -82,  -81,  -80,  -79,\n",
       "        -78,  -77,  -76,  -75,  -74,  -73,  -72,  -71,  -70,  -69,  -68,\n",
       "        -67,  -66,  -65,  -64,  -63,  -62,  -61,  -60,  -59,  -58,  -57,\n",
       "        -56,  -55,  -54,  -53,  -52,  -51,  -50,  -49,  -48,  -47,  -46,\n",
       "        -45,  -44,  -43,  -42,  -41,  -40,  -39,  -38,  -37,  -36,  -35,\n",
       "        -34,  -33,  -32,  -31,  -30,  -29,  -28,  -27,  -26,  -25,  -24,\n",
       "        -23,  -22,  -21,  -20,  -19,  -18,  -17,  -16,  -15,  -14,  -13,\n",
       "        -12,  -11,  -10,   -9,   -8,   -7,   -6,   -5,   -4,   -3,   -2,\n",
       "         -1])"
      ]
     },
     "execution_count": 33,
     "metadata": {},
     "output_type": "execute_result"
    }
   ],
   "source": [
    "np.arange(-100,0)"
   ]
  },
  {
   "cell_type": "code",
   "execution_count": 35,
   "id": "54716f28-5399-44f9-abf6-14adcc622b6a",
   "metadata": {},
   "outputs": [
    {
     "data": {
      "text/plain": [
       "array([-78, -77, -76, -75, -74, -73, -72, -71, -70, -69, -68, -67, -66,\n",
       "       -65, -64, -63, -62, -61, -60, -59, -58, -57, -56, -55, -54, -53,\n",
       "       -52, -51, -50, -49, -48, -47, -46, -45, -44, -43, -42, -41, -40,\n",
       "       -39, -38, -37, -36, -35, -34, -33, -32, -31, -30, -29, -28, -27,\n",
       "       -26, -25, -24, -23, -22, -21, -20, -19, -18, -17, -16, -15, -14,\n",
       "       -13, -12, -11, -10,  -9,  -8,  -7,  -6,  -5,  -4,  -3,  -2,  -1,\n",
       "         0,   1,   2,   3,   4,   5,   6,   7,   8,   9,  10,  11,  12,\n",
       "        13,  14,  15,  16,  17,  18,  19,  20,  21,  22,  23,  24,  25,\n",
       "        26,  27,  28,  29,  30,  31,  32,  33,  34,  35,  36,  37,  38,\n",
       "        39,  40,  41,  42,  43,  44,  45,  46,  47,  48,  49,  50,  51,\n",
       "        52,  53,  54,  55,  56,  57,  58,  59,  60,  61,  62,  63,  64,\n",
       "        65,  66,  67,  68,  69,  70,  71,  72,  73,  74,  75,  76,  77])"
      ]
     },
     "execution_count": 35,
     "metadata": {},
     "output_type": "execute_result"
    }
   ],
   "source": [
    "np.arange(-78,78)"
   ]
  },
  {
   "cell_type": "code",
   "execution_count": 37,
   "id": "bd22cddf-033d-48c5-87e8-a47464896f19",
   "metadata": {},
   "outputs": [
    {
     "data": {
      "text/plain": [
       "array([[0, 1, 2],\n",
       "       [3, 4, 5],\n",
       "       [6, 7, 8]])"
      ]
     },
     "execution_count": 37,
     "metadata": {},
     "output_type": "execute_result"
    }
   ],
   "source": [
    "np.arange(0,9).reshape(3,3)"
   ]
  },
  {
   "cell_type": "code",
   "execution_count": 43,
   "id": "88c247d8-4b31-4f4c-afbb-dae52da5a737",
   "metadata": {},
   "outputs": [
    {
     "data": {
      "text/plain": [
       "array([0, 1, 2, 3, 4])"
      ]
     },
     "execution_count": 43,
     "metadata": {},
     "output_type": "execute_result"
    }
   ],
   "source": [
    "np.array([0,1,2,3,4])"
   ]
  },
  {
   "cell_type": "code",
   "execution_count": 3,
   "id": "4564a6d9-d12e-4ea9-971f-a9a6c954a040",
   "metadata": {},
   "outputs": [
    {
     "data": {
      "text/plain": [
       "[0, 1, 2, 3, 4, 5, 6, 7, 8, 9]"
      ]
     },
     "execution_count": 3,
     "metadata": {},
     "output_type": "execute_result"
    }
   ],
   "source": [
    "list(range(0,10)) "
   ]
  },
  {
   "cell_type": "code",
   "execution_count": 5,
   "id": "bad2d1ec-d58d-491b-8c5c-1b1ccce125cb",
   "metadata": {},
   "outputs": [],
   "source": [
    "l=[1,2,3,4,5]"
   ]
  },
  {
   "cell_type": "code",
   "execution_count": 7,
   "id": "c8dceb57-d5c7-4f86-bf0d-99099dbe23a4",
   "metadata": {},
   "outputs": [
    {
     "data": {
      "text/plain": [
       "[1, 2, 3, 4, 5]"
      ]
     },
     "execution_count": 7,
     "metadata": {},
     "output_type": "execute_result"
    }
   ],
   "source": [
    "l"
   ]
  },
  {
   "cell_type": "markdown",
   "id": "a5f5551a-adf9-4a99-a6db-80d75e57daa7",
   "metadata": {},
   "source": [
    "#d/f b/w list and array\n",
    "#list store characters and numeric values \n",
    "#array store only numeric values"
   ]
  },
  {
   "cell_type": "code",
   "execution_count": 9,
   "id": "d54d4253-5fd1-47c8-9638-89b04a2d5af8",
   "metadata": {},
   "outputs": [],
   "source": [
    "l2=[x for x in range(0,10)]"
   ]
  },
  {
   "cell_type": "code",
   "execution_count": 12,
   "id": "5a08e038-7570-480d-808f-73246487f3d1",
   "metadata": {},
   "outputs": [
    {
     "data": {
      "text/plain": [
       "[0, 1, 2, 3, 4, 5, 6, 7, 8, 9]"
      ]
     },
     "execution_count": 12,
     "metadata": {},
     "output_type": "execute_result"
    }
   ],
   "source": [
    "l2 #list  comprehension"
   ]
  },
  {
   "cell_type": "code",
   "execution_count": 16,
   "id": "072dc7f2-19c1-4f79-aebf-c87b0814c8b9",
   "metadata": {},
   "outputs": [],
   "source": [
    "l3=[str(x) for x in l2]"
   ]
  },
  {
   "cell_type": "code",
   "execution_count": 18,
   "id": "2bea12e5-e608-415f-9611-b575e40de9da",
   "metadata": {},
   "outputs": [
    {
     "data": {
      "text/plain": [
       "['0', '1', '2', '3', '4', '5', '6', '7', '8', '9']"
      ]
     },
     "execution_count": 18,
     "metadata": {},
     "output_type": "execute_result"
    }
   ],
   "source": [
    "l3"
   ]
  },
  {
   "cell_type": "code",
   "execution_count": 20,
   "id": "83c54371-ef18-4a55-9cc5-646648fa4e1d",
   "metadata": {},
   "outputs": [],
   "source": [
    "l4=[x**2 for x in l2]"
   ]
  },
  {
   "cell_type": "code",
   "execution_count": 22,
   "id": "9105c34b-79c3-4a1d-bbb8-6aca79c7f6d7",
   "metadata": {},
   "outputs": [
    {
     "data": {
      "text/plain": [
       "[0, 1, 4, 9, 16, 25, 36, 49, 64, 81]"
      ]
     },
     "execution_count": 22,
     "metadata": {},
     "output_type": "execute_result"
    }
   ],
   "source": [
    "l4"
   ]
  },
  {
   "cell_type": "code",
   "execution_count": 31,
   "id": "3d616c70-acb2-49e1-933c-cd5c02764a3e",
   "metadata": {},
   "outputs": [
    {
     "data": {
      "text/plain": [
       "list"
      ]
     },
     "execution_count": 31,
     "metadata": {},
     "output_type": "execute_result"
    }
   ],
   "source": [
    "type(l4)"
   ]
  },
  {
   "cell_type": "code",
   "execution_count": 37,
   "id": "b3513392-434f-42b2-b268-f9f0ac43e454",
   "metadata": {},
   "outputs": [],
   "source": [
    "import array"
   ]
  },
  {
   "cell_type": "code",
   "execution_count": 29,
   "id": "a870e109-c23d-481b-b48a-d19e766fb869",
   "metadata": {},
   "outputs": [
    {
     "name": "stdout",
     "output_type": "stream",
     "text": [
      "Help on built-in module array:\n",
      "\n",
      "NAME\n",
      "    array\n",
      "\n",
      "DESCRIPTION\n",
      "    This module defines an object type which can efficiently represent\n",
      "    an array of basic values: characters, integers, floating point\n",
      "    numbers.  Arrays are sequence types and behave very much like lists,\n",
      "    except that the type of objects stored in them is constrained.\n",
      "\n",
      "CLASSES\n",
      "    builtins.object\n",
      "        array\n",
      "\n",
      "    ArrayType = class array(builtins.object)\n",
      "     |  array(typecode [, initializer]) -> array\n",
      "     |\n",
      "     |  Return a new array whose items are restricted by typecode, and\n",
      "     |  initialized from the optional initializer value, which must be a list,\n",
      "     |  string or iterable over elements of the appropriate type.\n",
      "     |\n",
      "     |  Arrays represent basic values and behave very much like lists, except\n",
      "     |  the type of objects stored in them is constrained. The type is specified\n",
      "     |  at object creation time by using a type code, which is a single character.\n",
      "     |  The following type codes are defined:\n",
      "     |\n",
      "     |      Type code   C Type             Minimum size in bytes\n",
      "     |      'b'         signed integer     1\n",
      "     |      'B'         unsigned integer   1\n",
      "     |      'u'         Unicode character  2 (see note)\n",
      "     |      'h'         signed integer     2\n",
      "     |      'H'         unsigned integer   2\n",
      "     |      'i'         signed integer     2\n",
      "     |      'I'         unsigned integer   2\n",
      "     |      'l'         signed integer     4\n",
      "     |      'L'         unsigned integer   4\n",
      "     |      'q'         signed integer     8 (see note)\n",
      "     |      'Q'         unsigned integer   8 (see note)\n",
      "     |      'f'         floating point     4\n",
      "     |      'd'         floating point     8\n",
      "     |\n",
      "     |  NOTE: The 'u' typecode corresponds to Python's unicode character. On\n",
      "     |  narrow builds this is 2-bytes on wide builds this is 4-bytes.\n",
      "     |\n",
      "     |  NOTE: The 'q' and 'Q' type codes are only available if the platform\n",
      "     |  C compiler used to build Python supports 'long long', or, on Windows,\n",
      "     |  '__int64'.\n",
      "     |\n",
      "     |  Methods:\n",
      "     |\n",
      "     |  append() -- append a new item to the end of the array\n",
      "     |  buffer_info() -- return information giving the current memory info\n",
      "     |  byteswap() -- byteswap all the items of the array\n",
      "     |  count() -- return number of occurrences of an object\n",
      "     |  extend() -- extend array by appending multiple elements from an iterable\n",
      "     |  fromfile() -- read items from a file object\n",
      "     |  fromlist() -- append items from the list\n",
      "     |  frombytes() -- append items from the string\n",
      "     |  index() -- return index of first occurrence of an object\n",
      "     |  insert() -- insert a new item into the array at a provided position\n",
      "     |  pop() -- remove and return item (default last)\n",
      "     |  remove() -- remove first occurrence of an object\n",
      "     |  reverse() -- reverse the order of the items in the array\n",
      "     |  tofile() -- write all items to a file object\n",
      "     |  tolist() -- return the array converted to an ordinary list\n",
      "     |  tobytes() -- return the array converted to a string\n",
      "     |\n",
      "     |  Attributes:\n",
      "     |\n",
      "     |  typecode -- the typecode character used to create the array\n",
      "     |  itemsize -- the length in bytes of one array item\n",
      "     |\n",
      "     |  Methods defined here:\n",
      "     |\n",
      "     |  __add__(self, value, /)\n",
      "     |      Return self+value.\n",
      "     |\n",
      "     |  __buffer__(self, flags, /)\n",
      "     |      Return a buffer object that exposes the underlying memory of the object.\n",
      "     |\n",
      "     |  __contains__(self, key, /)\n",
      "     |      Return bool(key in self).\n",
      "     |\n",
      "     |  __copy__(self, /)\n",
      "     |      Return a copy of the array.\n",
      "     |\n",
      "     |  __deepcopy__(self, unused, /)\n",
      "     |      Return a copy of the array.\n",
      "     |\n",
      "     |  __delitem__(self, key, /)\n",
      "     |      Delete self[key].\n",
      "     |\n",
      "     |  __eq__(self, value, /)\n",
      "     |      Return self==value.\n",
      "     |\n",
      "     |  __ge__(self, value, /)\n",
      "     |      Return self>=value.\n",
      "     |\n",
      "     |  __getattribute__(self, name, /)\n",
      "     |      Return getattr(self, name).\n",
      "     |\n",
      "     |  __getitem__(self, key, /)\n",
      "     |      Return self[key].\n",
      "     |\n",
      "     |  __gt__(self, value, /)\n",
      "     |      Return self>value.\n",
      "     |\n",
      "     |  __iadd__(self, value, /)\n",
      "     |      Implement self+=value.\n",
      "     |\n",
      "     |  __imul__(self, value, /)\n",
      "     |      Implement self*=value.\n",
      "     |\n",
      "     |  __iter__(self, /)\n",
      "     |      Implement iter(self).\n",
      "     |\n",
      "     |  __le__(self, value, /)\n",
      "     |      Return self<=value.\n",
      "     |\n",
      "     |  __len__(self, /)\n",
      "     |      Return len(self).\n",
      "     |\n",
      "     |  __lt__(self, value, /)\n",
      "     |      Return self<value.\n",
      "     |\n",
      "     |  __mul__(self, value, /)\n",
      "     |      Return self*value.\n",
      "     |\n",
      "     |  __ne__(self, value, /)\n",
      "     |      Return self!=value.\n",
      "     |\n",
      "     |  __reduce_ex__(self, value, /)\n",
      "     |      Return state information for pickling.\n",
      "     |\n",
      "     |  __release_buffer__(self, buffer, /)\n",
      "     |      Release the buffer object that exposes the underlying memory of the object.\n",
      "     |\n",
      "     |  __repr__(self, /)\n",
      "     |      Return repr(self).\n",
      "     |\n",
      "     |  __rmul__(self, value, /)\n",
      "     |      Return value*self.\n",
      "     |\n",
      "     |  __setitem__(self, key, value, /)\n",
      "     |      Set self[key] to value.\n",
      "     |\n",
      "     |  __sizeof__(self, /)\n",
      "     |      Size of the array in memory, in bytes.\n",
      "     |\n",
      "     |  append(self, v, /)\n",
      "     |      Append new value v to the end of the array.\n",
      "     |\n",
      "     |  buffer_info(self, /)\n",
      "     |      Return a tuple (address, length) giving the current memory address and the length in items of the buffer used to hold array's contents.\n",
      "     |\n",
      "     |      The length should be multiplied by the itemsize attribute to calculate\n",
      "     |      the buffer length in bytes.\n",
      "     |\n",
      "     |  byteswap(self, /)\n",
      "     |      Byteswap all items of the array.\n",
      "     |\n",
      "     |      If the items in the array are not 1, 2, 4, or 8 bytes in size, RuntimeError is\n",
      "     |      raised.\n",
      "     |\n",
      "     |  count(self, v, /)\n",
      "     |      Return number of occurrences of v in the array.\n",
      "     |\n",
      "     |  extend(self, bb, /)\n",
      "     |      Append items to the end of the array.\n",
      "     |\n",
      "     |  frombytes(self, buffer, /)\n",
      "     |      Appends items from the string, interpreting it as an array of machine values, as if it had been read from a file using the fromfile() method.\n",
      "     |\n",
      "     |  fromfile(self, f, n, /)\n",
      "     |      Read n objects from the file object f and append them to the end of the array.\n",
      "     |\n",
      "     |  fromlist(self, list, /)\n",
      "     |      Append items to array from list.\n",
      "     |\n",
      "     |  fromunicode(self, ustr, /)\n",
      "     |      Extends this array with data from the unicode string ustr.\n",
      "     |\n",
      "     |      The array must be a unicode type array; otherwise a ValueError is raised.\n",
      "     |      Use array.frombytes(ustr.encode(...)) to append Unicode data to an array of\n",
      "     |      some other type.\n",
      "     |\n",
      "     |  index(self, v, start=0, stop=9223372036854775807, /)\n",
      "     |      Return index of first occurrence of v in the array.\n",
      "     |\n",
      "     |      Raise ValueError if the value is not present.\n",
      "     |\n",
      "     |  insert(self, i, v, /)\n",
      "     |      Insert a new item v into the array before position i.\n",
      "     |\n",
      "     |  pop(self, i=-1, /)\n",
      "     |      Return the i-th element and delete it from the array.\n",
      "     |\n",
      "     |      i defaults to -1.\n",
      "     |\n",
      "     |  remove(self, v, /)\n",
      "     |      Remove the first occurrence of v in the array.\n",
      "     |\n",
      "     |  reverse(self, /)\n",
      "     |      Reverse the order of the items in the array.\n",
      "     |\n",
      "     |  tobytes(self, /)\n",
      "     |      Convert the array to an array of machine values and return the bytes representation.\n",
      "     |\n",
      "     |  tofile(self, f, /)\n",
      "     |      Write all items (as machine values) to the file object f.\n",
      "     |\n",
      "     |  tolist(self, /)\n",
      "     |      Convert array to an ordinary list with the same items.\n",
      "     |\n",
      "     |  tounicode(self, /)\n",
      "     |      Extends this array with data from the unicode string ustr.\n",
      "     |\n",
      "     |      Convert the array to a unicode string.  The array must be a unicode type array;\n",
      "     |      otherwise a ValueError is raised.  Use array.tobytes().decode() to obtain a\n",
      "     |      unicode string from an array of some other type.\n",
      "     |\n",
      "     |  ----------------------------------------------------------------------\n",
      "     |  Class methods defined here:\n",
      "     |\n",
      "     |  __class_getitem__(...)\n",
      "     |      See PEP 585\n",
      "     |\n",
      "     |  ----------------------------------------------------------------------\n",
      "     |  Static methods defined here:\n",
      "     |\n",
      "     |  __new__(*args, **kwargs)\n",
      "     |      Create and return a new object.  See help(type) for accurate signature.\n",
      "     |\n",
      "     |  ----------------------------------------------------------------------\n",
      "     |  Data descriptors defined here:\n",
      "     |\n",
      "     |  itemsize\n",
      "     |      the size, in bytes, of one array item\n",
      "     |\n",
      "     |  typecode\n",
      "     |      the typecode character used to create the array\n",
      "     |\n",
      "     |  ----------------------------------------------------------------------\n",
      "     |  Data and other attributes defined here:\n",
      "     |\n",
      "     |  __hash__ = None\n",
      "\n",
      "    class array(builtins.object)\n",
      "     |  array(typecode [, initializer]) -> array\n",
      "     |\n",
      "     |  Return a new array whose items are restricted by typecode, and\n",
      "     |  initialized from the optional initializer value, which must be a list,\n",
      "     |  string or iterable over elements of the appropriate type.\n",
      "     |\n",
      "     |  Arrays represent basic values and behave very much like lists, except\n",
      "     |  the type of objects stored in them is constrained. The type is specified\n",
      "     |  at object creation time by using a type code, which is a single character.\n",
      "     |  The following type codes are defined:\n",
      "     |\n",
      "     |      Type code   C Type             Minimum size in bytes\n",
      "     |      'b'         signed integer     1\n",
      "     |      'B'         unsigned integer   1\n",
      "     |      'u'         Unicode character  2 (see note)\n",
      "     |      'h'         signed integer     2\n",
      "     |      'H'         unsigned integer   2\n",
      "     |      'i'         signed integer     2\n",
      "     |      'I'         unsigned integer   2\n",
      "     |      'l'         signed integer     4\n",
      "     |      'L'         unsigned integer   4\n",
      "     |      'q'         signed integer     8 (see note)\n",
      "     |      'Q'         unsigned integer   8 (see note)\n",
      "     |      'f'         floating point     4\n",
      "     |      'd'         floating point     8\n",
      "     |\n",
      "     |  NOTE: The 'u' typecode corresponds to Python's unicode character. On\n",
      "     |  narrow builds this is 2-bytes on wide builds this is 4-bytes.\n",
      "     |\n",
      "     |  NOTE: The 'q' and 'Q' type codes are only available if the platform\n",
      "     |  C compiler used to build Python supports 'long long', or, on Windows,\n",
      "     |  '__int64'.\n",
      "     |\n",
      "     |  Methods:\n",
      "     |\n",
      "     |  append() -- append a new item to the end of the array\n",
      "     |  buffer_info() -- return information giving the current memory info\n",
      "     |  byteswap() -- byteswap all the items of the array\n",
      "     |  count() -- return number of occurrences of an object\n",
      "     |  extend() -- extend array by appending multiple elements from an iterable\n",
      "     |  fromfile() -- read items from a file object\n",
      "     |  fromlist() -- append items from the list\n",
      "     |  frombytes() -- append items from the string\n",
      "     |  index() -- return index of first occurrence of an object\n",
      "     |  insert() -- insert a new item into the array at a provided position\n",
      "     |  pop() -- remove and return item (default last)\n",
      "     |  remove() -- remove first occurrence of an object\n",
      "     |  reverse() -- reverse the order of the items in the array\n",
      "     |  tofile() -- write all items to a file object\n",
      "     |  tolist() -- return the array converted to an ordinary list\n",
      "     |  tobytes() -- return the array converted to a string\n",
      "     |\n",
      "     |  Attributes:\n",
      "     |\n",
      "     |  typecode -- the typecode character used to create the array\n",
      "     |  itemsize -- the length in bytes of one array item\n",
      "     |\n",
      "     |  Methods defined here:\n",
      "     |\n",
      "     |  __add__(self, value, /)\n",
      "     |      Return self+value.\n",
      "     |\n",
      "     |  __buffer__(self, flags, /)\n",
      "     |      Return a buffer object that exposes the underlying memory of the object.\n",
      "     |\n",
      "     |  __contains__(self, key, /)\n",
      "     |      Return bool(key in self).\n",
      "     |\n",
      "     |  __copy__(self, /)\n",
      "     |      Return a copy of the array.\n",
      "     |\n",
      "     |  __deepcopy__(self, unused, /)\n",
      "     |      Return a copy of the array.\n",
      "     |\n",
      "     |  __delitem__(self, key, /)\n",
      "     |      Delete self[key].\n",
      "     |\n",
      "     |  __eq__(self, value, /)\n",
      "     |      Return self==value.\n",
      "     |\n",
      "     |  __ge__(self, value, /)\n",
      "     |      Return self>=value.\n",
      "     |\n",
      "     |  __getattribute__(self, name, /)\n",
      "     |      Return getattr(self, name).\n",
      "     |\n",
      "     |  __getitem__(self, key, /)\n",
      "     |      Return self[key].\n",
      "     |\n",
      "     |  __gt__(self, value, /)\n",
      "     |      Return self>value.\n",
      "     |\n",
      "     |  __iadd__(self, value, /)\n",
      "     |      Implement self+=value.\n",
      "     |\n",
      "     |  __imul__(self, value, /)\n",
      "     |      Implement self*=value.\n",
      "     |\n",
      "     |  __iter__(self, /)\n",
      "     |      Implement iter(self).\n",
      "     |\n",
      "     |  __le__(self, value, /)\n",
      "     |      Return self<=value.\n",
      "     |\n",
      "     |  __len__(self, /)\n",
      "     |      Return len(self).\n",
      "     |\n",
      "     |  __lt__(self, value, /)\n",
      "     |      Return self<value.\n",
      "     |\n",
      "     |  __mul__(self, value, /)\n",
      "     |      Return self*value.\n",
      "     |\n",
      "     |  __ne__(self, value, /)\n",
      "     |      Return self!=value.\n",
      "     |\n",
      "     |  __reduce_ex__(self, value, /)\n",
      "     |      Return state information for pickling.\n",
      "     |\n",
      "     |  __release_buffer__(self, buffer, /)\n",
      "     |      Release the buffer object that exposes the underlying memory of the object.\n",
      "     |\n",
      "     |  __repr__(self, /)\n",
      "     |      Return repr(self).\n",
      "     |\n",
      "     |  __rmul__(self, value, /)\n",
      "     |      Return value*self.\n",
      "     |\n",
      "     |  __setitem__(self, key, value, /)\n",
      "     |      Set self[key] to value.\n",
      "     |\n",
      "     |  __sizeof__(self, /)\n",
      "     |      Size of the array in memory, in bytes.\n",
      "     |\n",
      "     |  append(self, v, /)\n",
      "     |      Append new value v to the end of the array.\n",
      "     |\n",
      "     |  buffer_info(self, /)\n",
      "     |      Return a tuple (address, length) giving the current memory address and the length in items of the buffer used to hold array's contents.\n",
      "     |\n",
      "     |      The length should be multiplied by the itemsize attribute to calculate\n",
      "     |      the buffer length in bytes.\n",
      "     |\n",
      "     |  byteswap(self, /)\n",
      "     |      Byteswap all items of the array.\n",
      "     |\n",
      "     |      If the items in the array are not 1, 2, 4, or 8 bytes in size, RuntimeError is\n",
      "     |      raised.\n",
      "     |\n",
      "     |  count(self, v, /)\n",
      "     |      Return number of occurrences of v in the array.\n",
      "     |\n",
      "     |  extend(self, bb, /)\n",
      "     |      Append items to the end of the array.\n",
      "     |\n",
      "     |  frombytes(self, buffer, /)\n",
      "     |      Appends items from the string, interpreting it as an array of machine values, as if it had been read from a file using the fromfile() method.\n",
      "     |\n",
      "     |  fromfile(self, f, n, /)\n",
      "     |      Read n objects from the file object f and append them to the end of the array.\n",
      "     |\n",
      "     |  fromlist(self, list, /)\n",
      "     |      Append items to array from list.\n",
      "     |\n",
      "     |  fromunicode(self, ustr, /)\n",
      "     |      Extends this array with data from the unicode string ustr.\n",
      "     |\n",
      "     |      The array must be a unicode type array; otherwise a ValueError is raised.\n",
      "     |      Use array.frombytes(ustr.encode(...)) to append Unicode data to an array of\n",
      "     |      some other type.\n",
      "     |\n",
      "     |  index(self, v, start=0, stop=9223372036854775807, /)\n",
      "     |      Return index of first occurrence of v in the array.\n",
      "     |\n",
      "     |      Raise ValueError if the value is not present.\n",
      "     |\n",
      "     |  insert(self, i, v, /)\n",
      "     |      Insert a new item v into the array before position i.\n",
      "     |\n",
      "     |  pop(self, i=-1, /)\n",
      "     |      Return the i-th element and delete it from the array.\n",
      "     |\n",
      "     |      i defaults to -1.\n",
      "     |\n",
      "     |  remove(self, v, /)\n",
      "     |      Remove the first occurrence of v in the array.\n",
      "     |\n",
      "     |  reverse(self, /)\n",
      "     |      Reverse the order of the items in the array.\n",
      "     |\n",
      "     |  tobytes(self, /)\n",
      "     |      Convert the array to an array of machine values and return the bytes representation.\n",
      "     |\n",
      "     |  tofile(self, f, /)\n",
      "     |      Write all items (as machine values) to the file object f.\n",
      "     |\n",
      "     |  tolist(self, /)\n",
      "     |      Convert array to an ordinary list with the same items.\n",
      "     |\n",
      "     |  tounicode(self, /)\n",
      "     |      Extends this array with data from the unicode string ustr.\n",
      "     |\n",
      "     |      Convert the array to a unicode string.  The array must be a unicode type array;\n",
      "     |      otherwise a ValueError is raised.  Use array.tobytes().decode() to obtain a\n",
      "     |      unicode string from an array of some other type.\n",
      "     |\n",
      "     |  ----------------------------------------------------------------------\n",
      "     |  Class methods defined here:\n",
      "     |\n",
      "     |  __class_getitem__(...)\n",
      "     |      See PEP 585\n",
      "     |\n",
      "     |  ----------------------------------------------------------------------\n",
      "     |  Static methods defined here:\n",
      "     |\n",
      "     |  __new__(*args, **kwargs)\n",
      "     |      Create and return a new object.  See help(type) for accurate signature.\n",
      "     |\n",
      "     |  ----------------------------------------------------------------------\n",
      "     |  Data descriptors defined here:\n",
      "     |\n",
      "     |  itemsize\n",
      "     |      the size, in bytes, of one array item\n",
      "     |\n",
      "     |  typecode\n",
      "     |      the typecode character used to create the array\n",
      "     |\n",
      "     |  ----------------------------------------------------------------------\n",
      "     |  Data and other attributes defined here:\n",
      "     |\n",
      "     |  __hash__ = None\n",
      "\n",
      "DATA\n",
      "    typecodes = 'bBuhHiIlLqQfd'\n",
      "\n",
      "FILE\n",
      "    (built-in)\n",
      "\n",
      "\n"
     ]
    }
   ],
   "source": [
    "help(array)"
   ]
  },
  {
   "cell_type": "code",
   "execution_count": 41,
   "id": "4398f72f-95e9-47d8-af18-8d65bbbbd7b6",
   "metadata": {},
   "outputs": [],
   "source": [
    "arr=array.array('i',l2)"
   ]
  },
  {
   "cell_type": "code",
   "execution_count": 43,
   "id": "d0bdaf92-1c28-43b6-9698-fafb97140da0",
   "metadata": {},
   "outputs": [
    {
     "data": {
      "text/plain": [
       "array('i', [0, 1, 2, 3, 4, 5, 6, 7, 8, 9])"
      ]
     },
     "execution_count": 43,
     "metadata": {},
     "output_type": "execute_result"
    }
   ],
   "source": [
    "arr"
   ]
  },
  {
   "cell_type": "code",
   "execution_count": 45,
   "id": "28096d42-64e5-4dbd-af30-e69767cff680",
   "metadata": {},
   "outputs": [
    {
     "data": {
      "text/plain": [
       "array.array"
      ]
     },
     "execution_count": 45,
     "metadata": {},
     "output_type": "execute_result"
    }
   ],
   "source": [
    "type(arr)"
   ]
  },
  {
   "cell_type": "code",
   "execution_count": 59,
   "id": "e368deb1-c187-4420-8ff4-07c06bd61b41",
   "metadata": {},
   "outputs": [],
   "source": [
    "arr1=array.array('i',[x**2 for x in l2])"
   ]
  },
  {
   "cell_type": "code",
   "execution_count": 61,
   "id": "4b8ad821-8aef-4aa7-9d97-d89cea4bc280",
   "metadata": {},
   "outputs": [
    {
     "data": {
      "text/plain": [
       "array('i', [0, 1, 4, 9, 16, 25, 36, 49, 64, 81])"
      ]
     },
     "execution_count": 61,
     "metadata": {},
     "output_type": "execute_result"
    }
   ],
   "source": [
    "arr1"
   ]
  },
  {
   "cell_type": "code",
   "execution_count": 63,
   "id": "dd06c99c-d9c6-4bf1-a9ad-e623b7a8af25",
   "metadata": {},
   "outputs": [
    {
     "data": {
      "text/plain": [
       "array([0, 1, 2, 3, 4, 5, 6, 7, 8, 9])"
      ]
     },
     "execution_count": 63,
     "metadata": {},
     "output_type": "execute_result"
    }
   ],
   "source": [
    "np.array(l2)"
   ]
  },
  {
   "cell_type": "code",
   "execution_count": 66,
   "id": "ef93d0a6-a725-4d18-9b51-ae9ad1dbf512",
   "metadata": {},
   "outputs": [
    {
     "data": {
      "text/plain": [
       "array([ 3,  4,  5,  6,  7,  8,  9, 10, 11, 12])"
      ]
     },
     "execution_count": 66,
     "metadata": {},
     "output_type": "execute_result"
    }
   ],
   "source": [
    "np.array([x+3 for x in range(0,10)])"
   ]
  },
  {
   "cell_type": "code",
   "execution_count": 69,
   "id": "bbe4be8e-6345-435e-a66c-dbb5f989a3f2",
   "metadata": {},
   "outputs": [
    {
     "data": {
      "text/plain": [
       "array([1, 2, 3, 4])"
      ]
     },
     "execution_count": 69,
     "metadata": {},
     "output_type": "execute_result"
    }
   ],
   "source": [
    "np.array([1,2,3,4])"
   ]
  },
  {
   "cell_type": "code",
   "execution_count": 71,
   "id": "d43ceab4-c8ea-40ba-8ade-009a3ff39497",
   "metadata": {},
   "outputs": [
    {
     "data": {
      "text/plain": [
       "array([1., 2., 3., 6.])"
      ]
     },
     "execution_count": 71,
     "metadata": {},
     "output_type": "execute_result"
    }
   ],
   "source": [
    "np.array([1,2,3,6],dtype='float')"
   ]
  },
  {
   "cell_type": "code",
   "execution_count": 73,
   "id": "66e0935c-c21a-4cee-a454-9da3d3b79718",
   "metadata": {},
   "outputs": [
    {
     "data": {
      "text/plain": [
       "array(['1', '2', '3', '6'], dtype='<U1')"
      ]
     },
     "execution_count": 73,
     "metadata": {},
     "output_type": "execute_result"
    }
   ],
   "source": [
    "np.array([1,2,3,6],dtype='str')"
   ]
  },
  {
   "cell_type": "code",
   "execution_count": 75,
   "id": "a8c90087-3de2-4a93-9832-80232c7353e4",
   "metadata": {},
   "outputs": [
    {
     "data": {
      "text/plain": [
       "array([1., 2., 3., 6.], dtype=float32)"
      ]
     },
     "execution_count": 75,
     "metadata": {},
     "output_type": "execute_result"
    }
   ],
   "source": [
    "np.array([1,2,3,6],dtype=np.float32)"
   ]
  },
  {
   "cell_type": "code",
   "execution_count": 77,
   "id": "a775924a-689f-4a6b-b7dd-9b28e0531964",
   "metadata": {},
   "outputs": [],
   "source": [
    "l2d=[[1,2,3],[4,5,6]]"
   ]
  },
  {
   "cell_type": "code",
   "execution_count": 80,
   "id": "b2f5744e-5d70-4d70-943e-be172bc4ce8b",
   "metadata": {},
   "outputs": [
    {
     "data": {
      "text/plain": [
       "[[1, 2, 3], [4, 5, 6]]"
      ]
     },
     "execution_count": 80,
     "metadata": {},
     "output_type": "execute_result"
    }
   ],
   "source": [
    "l2d"
   ]
  },
  {
   "cell_type": "code",
   "execution_count": 117,
   "id": "b5062203-6f7f-4da0-8c7f-5713f82bc7b5",
   "metadata": {},
   "outputs": [],
   "source": [
    "lc2d=[range(i,i+3) for i in [1,3]]"
   ]
  },
  {
   "cell_type": "code",
   "execution_count": 121,
   "id": "52adcc78-96d0-44c6-9a34-725603aef26e",
   "metadata": {},
   "outputs": [
    {
     "data": {
      "text/plain": [
       "array([[1, 2, 3],\n",
       "       [3, 4, 5]])"
      ]
     },
     "execution_count": 121,
     "metadata": {},
     "output_type": "execute_result"
    }
   ],
   "source": [
    "np.array(lc2d)"
   ]
  },
  {
   "cell_type": "code",
   "execution_count": 127,
   "id": "89b4d065-26c7-45a6-86fc-9a4f7d1cf433",
   "metadata": {},
   "outputs": [],
   "source": [
    "lc3d=[range(i,i+3) for i in [1,4,7]]"
   ]
  },
  {
   "cell_type": "code",
   "execution_count": 129,
   "id": "bf089eee-3e1d-4202-b210-563d62f1234b",
   "metadata": {},
   "outputs": [
    {
     "data": {
      "text/plain": [
       "array([[1, 2, 3],\n",
       "       [4, 5, 6],\n",
       "       [7, 8, 9]])"
      ]
     },
     "execution_count": 129,
     "metadata": {},
     "output_type": "execute_result"
    }
   ],
   "source": [
    "np.array(lc3d)"
   ]
  },
  {
   "cell_type": "code",
   "execution_count": 140,
   "id": "8038bca3-f279-4bb1-913f-2648cdd61daa",
   "metadata": {},
   "outputs": [
    {
     "data": {
      "text/plain": [
       "array([0, 0, 0, 0, 0, 0, 0, 0, 0, 0])"
      ]
     },
     "execution_count": 140,
     "metadata": {},
     "output_type": "execute_result"
    }
   ],
   "source": [
    "np.zeros(10,dtype=int)"
   ]
  },
  {
   "cell_type": "code",
   "execution_count": 137,
   "id": "5b117661-34b5-4a3b-b982-68d62dfe3805",
   "metadata": {},
   "outputs": [
    {
     "data": {
      "text/plain": [
       "array([[0., 0.],\n",
       "       [0., 0.]])"
      ]
     },
     "execution_count": 137,
     "metadata": {},
     "output_type": "execute_result"
    }
   ],
   "source": [
    "np.zeros([2,2])"
   ]
  },
  {
   "cell_type": "code",
   "execution_count": 142,
   "id": "e0b9edbc-fcd4-4308-96d3-33f9647e4adb",
   "metadata": {},
   "outputs": [
    {
     "data": {
      "text/plain": [
       "array([[0., 0., 0., 0.],\n",
       "       [0., 0., 0., 0.],\n",
       "       [0., 0., 0., 0.]])"
      ]
     },
     "execution_count": 142,
     "metadata": {},
     "output_type": "execute_result"
    }
   ],
   "source": [
    "np.zeros([3,4])"
   ]
  },
  {
   "cell_type": "code",
   "execution_count": 146,
   "id": "fba056bc-56e0-4008-aade-c84762d0bcde",
   "metadata": {},
   "outputs": [
    {
     "data": {
      "text/plain": [
       "array([1., 1., 1., 1., 1., 1., 1., 1., 1., 1.])"
      ]
     },
     "execution_count": 146,
     "metadata": {},
     "output_type": "execute_result"
    }
   ],
   "source": [
    "np.ones(10)"
   ]
  },
  {
   "cell_type": "code",
   "execution_count": 148,
   "id": "d392c8f5-617d-46f5-8a1f-eab244da0776",
   "metadata": {},
   "outputs": [
    {
     "data": {
      "text/plain": [
       "array([[1., 1.],\n",
       "       [1., 1.]])"
      ]
     },
     "execution_count": 148,
     "metadata": {},
     "output_type": "execute_result"
    }
   ],
   "source": [
    "np.ones([2,2])"
   ]
  },
  {
   "cell_type": "code",
   "execution_count": 198,
   "id": "1fc9a35f-f967-48be-b4a7-0d8d5109f5d4",
   "metadata": {},
   "outputs": [],
   "source": [
    "arr=np.ones([10,10], dtype = int)"
   ]
  },
  {
   "cell_type": "code",
   "execution_count": 200,
   "id": "d7fd3660-902e-4a36-ba0a-aea81202c7d4",
   "metadata": {},
   "outputs": [
    {
     "data": {
      "text/plain": [
       "array([[1, 1, 1, 1, 1, 1, 1, 1, 1, 1],\n",
       "       [1, 1, 1, 1, 1, 1, 1, 1, 1, 1],\n",
       "       [1, 1, 1, 1, 1, 1, 1, 1, 1, 1],\n",
       "       [1, 1, 1, 1, 1, 1, 1, 1, 1, 1],\n",
       "       [1, 1, 1, 1, 1, 1, 1, 1, 1, 1],\n",
       "       [1, 1, 1, 1, 1, 1, 1, 1, 1, 1],\n",
       "       [1, 1, 1, 1, 1, 1, 1, 1, 1, 1],\n",
       "       [1, 1, 1, 1, 1, 1, 1, 1, 1, 1],\n",
       "       [1, 1, 1, 1, 1, 1, 1, 1, 1, 1],\n",
       "       [1, 1, 1, 1, 1, 1, 1, 1, 1, 1]])"
      ]
     },
     "execution_count": 200,
     "metadata": {},
     "output_type": "execute_result"
    }
   ],
   "source": [
    "arr"
   ]
  },
  {
   "cell_type": "code",
   "execution_count": 202,
   "id": "a437b7d4-36d8-4c68-98fc-e03afb15fafe",
   "metadata": {},
   "outputs": [],
   "source": [
    "arr[1:9,1:9]=0"
   ]
  },
  {
   "cell_type": "code",
   "execution_count": 204,
   "id": "c836dcec-6993-44b8-a9c0-b1c54defed4a",
   "metadata": {},
   "outputs": [
    {
     "data": {
      "text/plain": [
       "array([[1, 1, 1, 1, 1, 1, 1, 1, 1, 1],\n",
       "       [1, 0, 0, 0, 0, 0, 0, 0, 0, 1],\n",
       "       [1, 0, 0, 0, 0, 0, 0, 0, 0, 1],\n",
       "       [1, 0, 0, 0, 0, 0, 0, 0, 0, 1],\n",
       "       [1, 0, 0, 0, 0, 0, 0, 0, 0, 1],\n",
       "       [1, 0, 0, 0, 0, 0, 0, 0, 0, 1],\n",
       "       [1, 0, 0, 0, 0, 0, 0, 0, 0, 1],\n",
       "       [1, 0, 0, 0, 0, 0, 0, 0, 0, 1],\n",
       "       [1, 0, 0, 0, 0, 0, 0, 0, 0, 1],\n",
       "       [1, 1, 1, 1, 1, 1, 1, 1, 1, 1]])"
      ]
     },
     "execution_count": 204,
     "metadata": {},
     "output_type": "execute_result"
    }
   ],
   "source": [
    "arr"
   ]
  },
  {
   "cell_type": "code",
   "execution_count": 206,
   "id": "7b5a1d9e-b624-4989-b78b-af27e69e1685",
   "metadata": {},
   "outputs": [],
   "source": [
    "arr[1:9,1:9]=9"
   ]
  },
  {
   "cell_type": "code",
   "execution_count": 208,
   "id": "4a667862-e75e-4178-aef2-cde5d02292a8",
   "metadata": {},
   "outputs": [
    {
     "data": {
      "text/plain": [
       "array([[1, 1, 1, 1, 1, 1, 1, 1, 1, 1],\n",
       "       [1, 9, 9, 9, 9, 9, 9, 9, 9, 1],\n",
       "       [1, 9, 9, 9, 9, 9, 9, 9, 9, 1],\n",
       "       [1, 9, 9, 9, 9, 9, 9, 9, 9, 1],\n",
       "       [1, 9, 9, 9, 9, 9, 9, 9, 9, 1],\n",
       "       [1, 9, 9, 9, 9, 9, 9, 9, 9, 1],\n",
       "       [1, 9, 9, 9, 9, 9, 9, 9, 9, 1],\n",
       "       [1, 9, 9, 9, 9, 9, 9, 9, 9, 1],\n",
       "       [1, 9, 9, 9, 9, 9, 9, 9, 9, 1],\n",
       "       [1, 1, 1, 1, 1, 1, 1, 1, 1, 1]])"
      ]
     },
     "execution_count": 208,
     "metadata": {},
     "output_type": "execute_result"
    }
   ],
   "source": [
    "arr"
   ]
  },
  {
   "cell_type": "code",
   "execution_count": 210,
   "id": "5270020e-bf6a-4d1f-901a-859096450bb0",
   "metadata": {},
   "outputs": [],
   "source": [
    "arr[2:8,2:8]=8"
   ]
  },
  {
   "cell_type": "code",
   "execution_count": 212,
   "id": "b7bf1431-c0be-446b-995b-f71d31a5d865",
   "metadata": {},
   "outputs": [
    {
     "data": {
      "text/plain": [
       "array([[1, 1, 1, 1, 1, 1, 1, 1, 1, 1],\n",
       "       [1, 9, 9, 9, 9, 9, 9, 9, 9, 1],\n",
       "       [1, 9, 8, 8, 8, 8, 8, 8, 9, 1],\n",
       "       [1, 9, 8, 8, 8, 8, 8, 8, 9, 1],\n",
       "       [1, 9, 8, 8, 8, 8, 8, 8, 9, 1],\n",
       "       [1, 9, 8, 8, 8, 8, 8, 8, 9, 1],\n",
       "       [1, 9, 8, 8, 8, 8, 8, 8, 9, 1],\n",
       "       [1, 9, 8, 8, 8, 8, 8, 8, 9, 1],\n",
       "       [1, 9, 9, 9, 9, 9, 9, 9, 9, 1],\n",
       "       [1, 1, 1, 1, 1, 1, 1, 1, 1, 1]])"
      ]
     },
     "execution_count": 212,
     "metadata": {},
     "output_type": "execute_result"
    }
   ],
   "source": [
    "arr"
   ]
  },
  {
   "cell_type": "code",
   "execution_count": 214,
   "id": "4d51ebc9-b858-44c7-83ef-633a78eac043",
   "metadata": {},
   "outputs": [],
   "source": [
    "arr[3:7,3:7]=7"
   ]
  },
  {
   "cell_type": "code",
   "execution_count": 216,
   "id": "29ff70b9-392c-4d61-98d0-c99f5a5998b3",
   "metadata": {},
   "outputs": [
    {
     "data": {
      "text/plain": [
       "array([[1, 1, 1, 1, 1, 1, 1, 1, 1, 1],\n",
       "       [1, 9, 9, 9, 9, 9, 9, 9, 9, 1],\n",
       "       [1, 9, 8, 8, 8, 8, 8, 8, 9, 1],\n",
       "       [1, 9, 8, 7, 7, 7, 7, 8, 9, 1],\n",
       "       [1, 9, 8, 7, 7, 7, 7, 8, 9, 1],\n",
       "       [1, 9, 8, 7, 7, 7, 7, 8, 9, 1],\n",
       "       [1, 9, 8, 7, 7, 7, 7, 8, 9, 1],\n",
       "       [1, 9, 8, 8, 8, 8, 8, 8, 9, 1],\n",
       "       [1, 9, 9, 9, 9, 9, 9, 9, 9, 1],\n",
       "       [1, 1, 1, 1, 1, 1, 1, 1, 1, 1]])"
      ]
     },
     "execution_count": 216,
     "metadata": {},
     "output_type": "execute_result"
    }
   ],
   "source": [
    "arr"
   ]
  },
  {
   "cell_type": "code",
   "execution_count": 218,
   "id": "e759e423-da69-484c-b046-52306b955354",
   "metadata": {},
   "outputs": [],
   "source": [
    "arr[4:6,4:6]=6"
   ]
  },
  {
   "cell_type": "code",
   "execution_count": 220,
   "id": "44351ce0-7915-46c5-8572-63dbc451447a",
   "metadata": {},
   "outputs": [
    {
     "data": {
      "text/plain": [
       "array([[1, 1, 1, 1, 1, 1, 1, 1, 1, 1],\n",
       "       [1, 9, 9, 9, 9, 9, 9, 9, 9, 1],\n",
       "       [1, 9, 8, 8, 8, 8, 8, 8, 9, 1],\n",
       "       [1, 9, 8, 7, 7, 7, 7, 8, 9, 1],\n",
       "       [1, 9, 8, 7, 6, 6, 7, 8, 9, 1],\n",
       "       [1, 9, 8, 7, 6, 6, 7, 8, 9, 1],\n",
       "       [1, 9, 8, 7, 7, 7, 7, 8, 9, 1],\n",
       "       [1, 9, 8, 8, 8, 8, 8, 8, 9, 1],\n",
       "       [1, 9, 9, 9, 9, 9, 9, 9, 9, 1],\n",
       "       [1, 1, 1, 1, 1, 1, 1, 1, 1, 1]])"
      ]
     },
     "execution_count": 220,
     "metadata": {},
     "output_type": "execute_result"
    }
   ],
   "source": [
    "arr"
   ]
  },
  {
   "cell_type": "code",
   "execution_count": 224,
   "id": "41c5c338-5d35-4ce5-9799-3cd37ed3f00b",
   "metadata": {},
   "outputs": [],
   "source": [
    "ar=np.arange(0,9,dtype='float').reshape(3,3)"
   ]
  },
  {
   "cell_type": "code",
   "execution_count": 226,
   "id": "97039e3d-433a-4d42-85d5-f738203f7b89",
   "metadata": {},
   "outputs": [],
   "source": [
    "ar[:]=3.14"
   ]
  },
  {
   "cell_type": "code",
   "execution_count": 228,
   "id": "8c05a238-15d6-40c6-9476-08f3590ab841",
   "metadata": {},
   "outputs": [
    {
     "data": {
      "text/plain": [
       "array([[3.14, 3.14, 3.14],\n",
       "       [3.14, 3.14, 3.14],\n",
       "       [3.14, 3.14, 3.14]])"
      ]
     },
     "execution_count": 228,
     "metadata": {},
     "output_type": "execute_result"
    }
   ],
   "source": [
    "ar"
   ]
  },
  {
   "cell_type": "code",
   "execution_count": 238,
   "id": "fb405294-c2ba-4cc6-bd76-7a2492c319a0",
   "metadata": {},
   "outputs": [
    {
     "data": {
      "text/plain": [
       "array([['abc', 'abc', 'abc', 'abc'],\n",
       "       ['abc', 'abc', 'abc', 'abc'],\n",
       "       ['abc', 'abc', 'abc', 'abc']], dtype='<U3')"
      ]
     },
     "execution_count": 238,
     "metadata": {},
     "output_type": "execute_result"
    }
   ],
   "source": [
    "np.full((3,4),'abc')\n",
    "#full for all same values in matrix"
   ]
  },
  {
   "cell_type": "code",
   "execution_count": 240,
   "id": "20acd804-2a59-4ed0-ada8-e9f111fed54d",
   "metadata": {},
   "outputs": [
    {
     "data": {
      "text/plain": [
       "array([[1., 0., 0., 0.],\n",
       "       [0., 1., 0., 0.],\n",
       "       [0., 0., 1., 0.],\n",
       "       [0., 0., 0., 1.]])"
      ]
     },
     "execution_count": 240,
     "metadata": {},
     "output_type": "execute_result"
    }
   ],
   "source": [
    "#identity matrix \n",
    "np.eye(4)"
   ]
  },
  {
   "cell_type": "code",
   "execution_count": 246,
   "id": "9aa033b3-0471-4eb0-8c9c-4a8f9a492d04",
   "metadata": {},
   "outputs": [
    {
     "data": {
      "text/plain": [
       "array([[1., 0., 0., 0.],\n",
       "       [0., 1., 0., 0.],\n",
       "       [0., 0., 1., 0.],\n",
       "       [0., 0., 0., 1.]])"
      ]
     },
     "execution_count": 246,
     "metadata": {},
     "output_type": "execute_result"
    }
   ],
   "source": [
    "np.transpose(np.eye(4))"
   ]
  },
  {
   "cell_type": "code",
   "execution_count": 3,
   "id": "5a2d9435-d8bf-435b-8688-6f95f4d96442",
   "metadata": {},
   "outputs": [],
   "source": [
    "import numpy as np"
   ]
  },
  {
   "cell_type": "code",
   "execution_count": 5,
   "id": "e629f603-0c07-455c-b000-35c7803a6bfe",
   "metadata": {},
   "outputs": [
    {
     "data": {
      "text/plain": [
       "array([['64', '64', '64', '64', '64', '64'],\n",
       "       ['64', '64', '64', '64', '64', '64'],\n",
       "       ['64', '64', '64', '64', '64', '64'],\n",
       "       ['64', '64', '64', '64', '64', '64'],\n",
       "       ['64', '64', '64', '64', '64', '64'],\n",
       "       ['64', '64', '64', '64', '64', '64']], dtype='<U2')"
      ]
     },
     "execution_count": 5,
     "metadata": {},
     "output_type": "execute_result"
    }
   ],
   "source": [
    "np.full((6,6),'64')"
   ]
  },
  {
   "cell_type": "code",
   "execution_count": 17,
   "id": "7b59b374-8602-4933-b70a-9191e99c94c4",
   "metadata": {},
   "outputs": [
    {
     "data": {
      "text/plain": [
       "array([0.        , 0.11111111, 0.22222222, 0.33333333, 0.44444444,\n",
       "       0.55555556, 0.66666667, 0.77777778, 0.88888889, 1.        ])"
      ]
     },
     "execution_count": 17,
     "metadata": {},
     "output_type": "execute_result"
    }
   ],
   "source": [
    "#linspace - linearly spaced elements \n",
    "np.linspace(0,1,10)"
   ]
  },
  {
   "cell_type": "code",
   "execution_count": 19,
   "id": "ad014d75-a052-4aeb-86ab-7f46939a0161",
   "metadata": {},
   "outputs": [
    {
     "data": {
      "text/plain": [
       "array([15.        , 15.26315789, 15.52631579, 15.78947368, 16.05263158,\n",
       "       16.31578947, 16.57894737, 16.84210526, 17.10526316, 17.36842105,\n",
       "       17.63157895, 17.89473684, 18.15789474, 18.42105263, 18.68421053,\n",
       "       18.94736842, 19.21052632, 19.47368421, 19.73684211, 20.        ])"
      ]
     },
     "execution_count": 19,
     "metadata": {},
     "output_type": "execute_result"
    }
   ],
   "source": [
    "np.linspace(15,20,20)"
   ]
  },
  {
   "cell_type": "code",
   "execution_count": 23,
   "id": "1b254227-1f0e-4c24-b32c-9b67f7e38ca1",
   "metadata": {},
   "outputs": [
    {
     "data": {
      "text/plain": [
       "array([0.73699324, 0.25453786, 0.83764173])"
      ]
     },
     "execution_count": 23,
     "metadata": {},
     "output_type": "execute_result"
    }
   ],
   "source": [
    "np.random.random(3)\n",
    "#values between 0 to 1"
   ]
  },
  {
   "cell_type": "code",
   "execution_count": 25,
   "id": "8b81a839-b4dd-4210-a76b-22c2d2c7c76a",
   "metadata": {},
   "outputs": [
    {
     "data": {
      "text/plain": [
       "array([[0.50016082, 0.7095153 ],\n",
       "       [0.72906845, 0.90293696]])"
      ]
     },
     "execution_count": 25,
     "metadata": {},
     "output_type": "execute_result"
    }
   ],
   "source": [
    "np.random.random((2,2))"
   ]
  },
  {
   "cell_type": "code",
   "execution_count": 37,
   "id": "3313dbee-7298-4a9f-b8ec-492b563adb11",
   "metadata": {},
   "outputs": [
    {
     "data": {
      "text/plain": [
       "array([ 0.34018076,  0.10420654, -0.27847972, -0.48743594, -0.41967663,\n",
       "       -1.06965814, -0.80863911, -0.8177247 ,  0.97953569,  2.03513889])"
      ]
     },
     "execution_count": 37,
     "metadata": {},
     "output_type": "execute_result"
    }
   ],
   "source": [
    "np.random.normal(0,1,10)\n",
    "#values with mean 0 and std 1 \n",
    "#range is impo(loc,scale,size)"
   ]
  },
  {
   "cell_type": "code",
   "execution_count": 41,
   "id": "27404d59-f69e-421f-a8e5-4c34d744ac7c",
   "metadata": {},
   "outputs": [
    {
     "data": {
      "text/plain": [
       "array([[0.87367083, 0.74546272],\n",
       "       [0.92460675, 0.78526437]])"
      ]
     },
     "execution_count": 41,
     "metadata": {},
     "output_type": "execute_result"
    }
   ],
   "source": [
    "np.random.normal(0,1,(2,2))"
   ]
  },
  {
   "cell_type": "code",
   "execution_count": 45,
   "id": "e4b748ab-58c2-4f6f-8c2f-5cafc3ad3bed",
   "metadata": {},
   "outputs": [
    {
     "data": {
      "text/plain": [
       "array([0.77132064, 0.02075195, 0.63364823, 0.74880388, 0.49850701,\n",
       "       0.22479665, 0.19806286, 0.76053071, 0.16911084, 0.08833981])"
      ]
     },
     "execution_count": 45,
     "metadata": {},
     "output_type": "execute_result"
    }
   ],
   "source": [
    "np.random.seed(10)\n",
    "np.random.random(10)"
   ]
  },
  {
   "cell_type": "code",
   "execution_count": 49,
   "id": "d1c21a66-2c23-4ef2-a6c1-b950fc969594",
   "metadata": {},
   "outputs": [
    {
     "data": {
      "text/plain": [
       "array([86, 66, 86, 97, 61, 74, 93, 83, 58, 86, 64, 99, 63, 55, 63, 75, 63,\n",
       "       78, 72, 80, 80, 75, 62, 51, 81, 86, 77, 68, 79, 63, 72, 73, 80, 61,\n",
       "       78, 60])"
      ]
     },
     "execution_count": 49,
     "metadata": {},
     "output_type": "execute_result"
    }
   ],
   "source": [
    "np.random.randint(50,100,36)"
   ]
  },
  {
   "cell_type": "code",
   "execution_count": 51,
   "id": "2cd625a7-7dca-4718-8f10-e1a91aa39b7f",
   "metadata": {},
   "outputs": [
    {
     "data": {
      "text/plain": [
       "\u001b[1;31mDocstring:\u001b[0m\n",
       "randn(d0, d1, ..., dn)\n",
       "\n",
       "Return a sample (or samples) from the \"standard normal\" distribution.\n",
       "\n",
       ".. note::\n",
       "    This is a convenience function for users porting code from Matlab,\n",
       "    and wraps `standard_normal`. That function takes a\n",
       "    tuple to specify the size of the output, which is consistent with\n",
       "    other NumPy functions like `numpy.zeros` and `numpy.ones`.\n",
       "\n",
       ".. note::\n",
       "    New code should use the\n",
       "    `~numpy.random.Generator.standard_normal`\n",
       "    method of a `~numpy.random.Generator` instance instead;\n",
       "    please see the :ref:`random-quick-start`.\n",
       "\n",
       "If positive int_like arguments are provided, `randn` generates an array\n",
       "of shape ``(d0, d1, ..., dn)``, filled\n",
       "with random floats sampled from a univariate \"normal\" (Gaussian)\n",
       "distribution of mean 0 and variance 1. A single float randomly sampled\n",
       "from the distribution is returned if no argument is provided.\n",
       "\n",
       "Parameters\n",
       "----------\n",
       "d0, d1, ..., dn : int, optional\n",
       "    The dimensions of the returned array, must be non-negative.\n",
       "    If no argument is given a single Python float is returned.\n",
       "\n",
       "Returns\n",
       "-------\n",
       "Z : ndarray or float\n",
       "    A ``(d0, d1, ..., dn)``-shaped array of floating-point samples from\n",
       "    the standard normal distribution, or a single such float if\n",
       "    no parameters were supplied.\n",
       "\n",
       "See Also\n",
       "--------\n",
       "standard_normal : Similar, but takes a tuple as its argument.\n",
       "normal : Also accepts mu and sigma arguments.\n",
       "random.Generator.standard_normal: which should be used for new code.\n",
       "\n",
       "Notes\n",
       "-----\n",
       "For random samples from the normal distribution with mean ``mu`` and\n",
       "standard deviation ``sigma``, use::\n",
       "\n",
       "    sigma * np.random.randn(...) + mu\n",
       "\n",
       "Examples\n",
       "--------\n",
       ">>> np.random.randn()\n",
       "2.1923875335537315  # random\n",
       "\n",
       "Two-by-four array of samples from the normal distribution with\n",
       "mean 3 and standard deviation 2.5:\n",
       "\n",
       ">>> 3 + 2.5 * np.random.randn(2, 4)\n",
       "array([[-4.49401501,  4.00950034, -1.81814867,  7.29718677],   # random\n",
       "       [ 0.39924804,  4.68456316,  4.99394529,  4.84057254]])  # random\n",
       "\u001b[1;31mType:\u001b[0m      builtin_function_or_method"
      ]
     },
     "metadata": {},
     "output_type": "display_data"
    }
   ],
   "source": [
    "np.random.randn?\n",
    "#mean 0 and var 1"
   ]
  },
  {
   "cell_type": "code",
   "execution_count": 53,
   "id": "8882efc9-7083-49bf-a44f-06016fd6b7a5",
   "metadata": {},
   "outputs": [],
   "source": [
    "#operation on numpy array"
   ]
  },
  {
   "cell_type": "code",
   "execution_count": 59,
   "id": "bd0bfae3-890e-4f13-be30-b0577dd2297e",
   "metadata": {},
   "outputs": [],
   "source": [
    "arr=np.random.randint(0,100,20)"
   ]
  },
  {
   "cell_type": "code",
   "execution_count": 57,
   "id": "a587284e-aa80-4872-8a4d-5772796095b2",
   "metadata": {},
   "outputs": [
    {
     "data": {
      "text/plain": [
       "array([88,  9, 15, 18, 80, 71, 88, 11, 17, 46,  7, 75, 28, 33, 84, 96, 88,\n",
       "       44,  5,  4])"
      ]
     },
     "execution_count": 57,
     "metadata": {},
     "output_type": "execute_result"
    }
   ],
   "source": [
    "arr"
   ]
  },
  {
   "cell_type": "code",
   "execution_count": 63,
   "id": "68965826-dd15-4f73-bdd9-f2c6f8bef659",
   "metadata": {},
   "outputs": [
    {
     "data": {
      "text/plain": [
       "1"
      ]
     },
     "execution_count": 63,
     "metadata": {},
     "output_type": "execute_result"
    }
   ],
   "source": [
    "#the number of dimantion\n",
    "arr.ndim"
   ]
  },
  {
   "cell_type": "code",
   "execution_count": 65,
   "id": "dd1918f5-1843-4029-a473-fffd9f9d6d79",
   "metadata": {},
   "outputs": [
    {
     "data": {
      "text/plain": [
       "20"
      ]
     },
     "execution_count": 65,
     "metadata": {},
     "output_type": "execute_result"
    }
   ],
   "source": [
    "arr.size#total elements "
   ]
  },
  {
   "cell_type": "code",
   "execution_count": 67,
   "id": "0f79735c-6bcc-4763-b92f-2454163f6d43",
   "metadata": {},
   "outputs": [
    {
     "data": {
      "text/plain": [
       "(20,)"
      ]
     },
     "execution_count": 67,
     "metadata": {},
     "output_type": "execute_result"
    }
   ],
   "source": [
    "arr.shape#how many elements"
   ]
  },
  {
   "cell_type": "code",
   "execution_count": 69,
   "id": "65b7740f-0ef5-4d50-8225-4a8424477970",
   "metadata": {},
   "outputs": [
    {
     "data": {
      "text/plain": [
       "dtype('int32')"
      ]
     },
     "execution_count": 69,
     "metadata": {},
     "output_type": "execute_result"
    }
   ],
   "source": [
    "arr.dtype#data type of array"
   ]
  },
  {
   "cell_type": "markdown",
   "id": "b607c9bc-4ebf-4451-8b40-2ed183d884e3",
   "metadata": {},
   "source": [
    "#array indexing"
   ]
  },
  {
   "cell_type": "code",
   "execution_count": 81,
   "id": "457837f3-a43d-482d-b8bc-f7e9c2aea7c4",
   "metadata": {},
   "outputs": [],
   "source": [
    "arr1 = np.random.randint(0,40,10)"
   ]
  },
  {
   "cell_type": "code",
   "execution_count": 83,
   "id": "711b9c83-44b6-4e03-8267-fa55ec70720c",
   "metadata": {},
   "outputs": [
    {
     "data": {
      "text/plain": [
       "array([18, 14, 15, 17, 25, 17, 32, 17, 16, 26])"
      ]
     },
     "execution_count": 83,
     "metadata": {},
     "output_type": "execute_result"
    }
   ],
   "source": [
    "arr1"
   ]
  },
  {
   "cell_type": "code",
   "execution_count": 85,
   "id": "adda600f-f826-4037-bcd5-648dda111ab3",
   "metadata": {},
   "outputs": [
    {
     "data": {
      "text/plain": [
       "18"
      ]
     },
     "execution_count": 85,
     "metadata": {},
     "output_type": "execute_result"
    }
   ],
   "source": [
    "arr1[0]"
   ]
  },
  {
   "cell_type": "code",
   "execution_count": 91,
   "id": "786f1682-2aae-4100-a565-22c615ba8e8a",
   "metadata": {},
   "outputs": [
    {
     "data": {
      "text/plain": [
       "25"
      ]
     },
     "execution_count": 91,
     "metadata": {},
     "output_type": "execute_result"
    }
   ],
   "source": [
    "arr1[4]"
   ]
  },
  {
   "cell_type": "code",
   "execution_count": 89,
   "id": "d052da93-089b-4ddb-b302-1696a95d8756",
   "metadata": {},
   "outputs": [
    {
     "data": {
      "text/plain": [
       "26"
      ]
     },
     "execution_count": 89,
     "metadata": {},
     "output_type": "execute_result"
    }
   ],
   "source": [
    "arr1[-1]"
   ]
  },
  {
   "cell_type": "code",
   "execution_count": 93,
   "id": "b7ccf3f8-f5c6-4069-8175-e86192afceee",
   "metadata": {},
   "outputs": [
    {
     "data": {
      "text/plain": [
       "array([18, 14, 15, 17])"
      ]
     },
     "execution_count": 93,
     "metadata": {},
     "output_type": "execute_result"
    }
   ],
   "source": [
    "arr1[:4]"
   ]
  },
  {
   "cell_type": "code",
   "execution_count": 95,
   "id": "a98df5b1-913d-4ef5-ae29-afe2c043eeed",
   "metadata": {},
   "outputs": [
    {
     "data": {
      "text/plain": [
       "array([25, 17, 32, 17, 16, 26])"
      ]
     },
     "execution_count": 95,
     "metadata": {},
     "output_type": "execute_result"
    }
   ],
   "source": [
    "arr1[4:]"
   ]
  },
  {
   "cell_type": "code",
   "execution_count": 97,
   "id": "46954d89-66fb-4125-a380-6d5adca9436b",
   "metadata": {},
   "outputs": [
    {
     "data": {
      "text/plain": [
       "array([25, 17, 32])"
      ]
     },
     "execution_count": 97,
     "metadata": {},
     "output_type": "execute_result"
    }
   ],
   "source": [
    "arr1[4:7]"
   ]
  },
  {
   "cell_type": "code",
   "execution_count": 109,
   "id": "28e843cb-e7d9-42c5-a179-b7794c1e3f0d",
   "metadata": {},
   "outputs": [],
   "source": [
    "arr1[3]=45"
   ]
  },
  {
   "cell_type": "code",
   "execution_count": 111,
   "id": "e84b892a-e077-4664-b8ea-3c86302a36a1",
   "metadata": {},
   "outputs": [
    {
     "data": {
      "text/plain": [
       "array([18, 14, 15, 45, 25, 17, 32, 17, 16, 26])"
      ]
     },
     "execution_count": 111,
     "metadata": {},
     "output_type": "execute_result"
    }
   ],
   "source": [
    "arr1"
   ]
  },
  {
   "cell_type": "code",
   "execution_count": 66,
   "id": "322fc7ed-6e3d-44f8-a34d-96204abe7aeb",
   "metadata": {},
   "outputs": [],
   "source": [
    "import numpy as np"
   ]
  },
  {
   "cell_type": "code",
   "execution_count": 78,
   "id": "197891af-bc47-4d96-91e1-c0fcb1204fa8",
   "metadata": {},
   "outputs": [],
   "source": [
    "arr1 = np.random.randint(0,40,10)"
   ]
  },
  {
   "cell_type": "code",
   "execution_count": 80,
   "id": "73590861-fc48-42b2-ba78-cd71f0632485",
   "metadata": {},
   "outputs": [
    {
     "data": {
      "text/plain": [
       "array([ 9,  8,  9, 27, 20, 37,  9, 21, 11, 33])"
      ]
     },
     "execution_count": 80,
     "metadata": {},
     "output_type": "execute_result"
    }
   ],
   "source": [
    "arr1"
   ]
  },
  {
   "cell_type": "code",
   "execution_count": 74,
   "id": "73383c8d-7300-4e1c-a3aa-e23f5550c37a",
   "metadata": {},
   "outputs": [
    {
     "data": {
      "text/plain": [
       "array([ 7, 11])"
      ]
     },
     "execution_count": 74,
     "metadata": {},
     "output_type": "execute_result"
    }
   ],
   "source": [
    "arr1[2:6:2]"
   ]
  },
  {
   "cell_type": "code",
   "execution_count": 17,
   "id": "7391d681-55d7-4280-86e7-f7a1747d5a2f",
   "metadata": {},
   "outputs": [
    {
     "data": {
      "text/plain": [
       "array([23, 18,  5, 29,  6,  2, 16, 14])"
      ]
     },
     "execution_count": 17,
     "metadata": {},
     "output_type": "execute_result"
    }
   ],
   "source": [
    "arr1[2:]"
   ]
  },
  {
   "cell_type": "code",
   "execution_count": 19,
   "id": "6218407a-8e7d-4aa4-ac7c-daad93a9e96c",
   "metadata": {},
   "outputs": [
    {
     "data": {
      "text/plain": [
       "array([23,  5,  6, 16])"
      ]
     },
     "execution_count": 19,
     "metadata": {},
     "output_type": "execute_result"
    }
   ],
   "source": [
    "arr1[2:10:2]"
   ]
  },
  {
   "cell_type": "code",
   "execution_count": 21,
   "id": "f046e269-5c2c-4032-9e18-245471b2685d",
   "metadata": {},
   "outputs": [
    {
     "data": {
      "text/plain": [
       "array([ 7, 23,  5,  6, 16])"
      ]
     },
     "execution_count": 21,
     "metadata": {},
     "output_type": "execute_result"
    }
   ],
   "source": [
    "arr1[::2]"
   ]
  },
  {
   "cell_type": "code",
   "execution_count": 23,
   "id": "f468d468-dc1e-4efc-a198-0f4ddf107270",
   "metadata": {},
   "outputs": [
    {
     "data": {
      "text/plain": [
       "array([14, 16,  2,  6, 29,  5, 18, 23, 12,  7])"
      ]
     },
     "execution_count": 23,
     "metadata": {},
     "output_type": "execute_result"
    }
   ],
   "source": [
    "arr1[::-1]\n",
    "#reverse"
   ]
  },
  {
   "cell_type": "code",
   "execution_count": 25,
   "id": "cd93ba14-f9cf-4a72-bbdf-37c0c3d3801f",
   "metadata": {},
   "outputs": [
    {
     "data": {
      "text/plain": [
       "array([14,  2, 29, 18, 12])"
      ]
     },
     "execution_count": 25,
     "metadata": {},
     "output_type": "execute_result"
    }
   ],
   "source": [
    "arr1[::-2]"
   ]
  },
  {
   "cell_type": "code",
   "execution_count": 39,
   "id": "8706d1a9-7da1-4340-b12a-b72a280fd048",
   "metadata": {},
   "outputs": [],
   "source": [
    "arr2 =np.arange(0,25).reshape(5,5)"
   ]
  },
  {
   "cell_type": "code",
   "execution_count": 41,
   "id": "135dc033-5c8c-4dac-8404-2a80ba4d8dca",
   "metadata": {},
   "outputs": [
    {
     "data": {
      "text/plain": [
       "array([[ 0,  1,  2,  3,  4],\n",
       "       [ 5,  6,  7,  8,  9],\n",
       "       [10, 11, 12, 13, 14],\n",
       "       [15, 16, 17, 18, 19],\n",
       "       [20, 21, 22, 23, 24]])"
      ]
     },
     "execution_count": 41,
     "metadata": {},
     "output_type": "execute_result"
    }
   ],
   "source": [
    "arr2"
   ]
  },
  {
   "cell_type": "code",
   "execution_count": 43,
   "id": "5261c931-3311-45bb-890c-d4d78207ff32",
   "metadata": {},
   "outputs": [
    {
     "data": {
      "text/plain": [
       "array([1, 2, 3])"
      ]
     },
     "execution_count": 43,
     "metadata": {},
     "output_type": "execute_result"
    }
   ],
   "source": [
    "arr2[0,1:4]\n",
    "#slice[row no:col no+1]"
   ]
  },
  {
   "cell_type": "code",
   "execution_count": 45,
   "id": "74f85523-93b5-424e-a4bf-d73fe81dcee8",
   "metadata": {},
   "outputs": [
    {
     "data": {
      "text/plain": [
       "1"
      ]
     },
     "execution_count": 45,
     "metadata": {},
     "output_type": "execute_result"
    }
   ],
   "source": [
    "arr2[0,1]\n",
    "#single element[rowno:colno]"
   ]
  },
  {
   "cell_type": "code",
   "execution_count": 47,
   "id": "88846742-e8b9-4657-bd7d-536fc9c02048",
   "metadata": {},
   "outputs": [
    {
     "data": {
      "text/plain": [
       "11"
      ]
     },
     "execution_count": 47,
     "metadata": {},
     "output_type": "execute_result"
    }
   ],
   "source": [
    "arr2[2,1]"
   ]
  },
  {
   "cell_type": "code",
   "execution_count": 49,
   "id": "144ea6ee-9cb0-49e5-bbfc-3d28ee2cf196",
   "metadata": {},
   "outputs": [
    {
     "data": {
      "text/plain": [
       "18"
      ]
     },
     "execution_count": 49,
     "metadata": {},
     "output_type": "execute_result"
    }
   ],
   "source": [
    "arr2[3,3]"
   ]
  },
  {
   "cell_type": "code",
   "execution_count": 51,
   "id": "f08284a9-7625-4f40-9d3b-bccca59f99c4",
   "metadata": {},
   "outputs": [
    {
     "data": {
      "text/plain": [
       "14"
      ]
     },
     "execution_count": 51,
     "metadata": {},
     "output_type": "execute_result"
    }
   ],
   "source": [
    "arr2[2,4]"
   ]
  },
  {
   "cell_type": "code",
   "execution_count": 55,
   "id": "8e09cc0b-f49d-4fc5-9e0e-b2dc329c2070",
   "metadata": {},
   "outputs": [
    {
     "data": {
      "text/plain": [
       "array([ 1,  6, 11])"
      ]
     },
     "execution_count": 55,
     "metadata": {},
     "output_type": "execute_result"
    }
   ],
   "source": [
    "arr2[0:3,1]"
   ]
  },
  {
   "cell_type": "code",
   "execution_count": 57,
   "id": "71449834-dfe3-4826-81e5-ea15280b25ad",
   "metadata": {},
   "outputs": [
    {
     "data": {
      "text/plain": [
       "array([[ 1,  2],\n",
       "       [ 6,  7],\n",
       "       [11, 12]])"
      ]
     },
     "execution_count": 57,
     "metadata": {},
     "output_type": "execute_result"
    }
   ],
   "source": [
    "arr2[0:3,1:3]"
   ]
  },
  {
   "cell_type": "code",
   "execution_count": 61,
   "id": "8a7e7df3-335d-499e-bfcc-e16fd54d5d7b",
   "metadata": {},
   "outputs": [
    {
     "data": {
      "text/plain": [
       "array([[ 0,  1,  2],\n",
       "       [ 5,  6,  7],\n",
       "       [10, 11, 12]])"
      ]
     },
     "execution_count": 61,
     "metadata": {},
     "output_type": "execute_result"
    }
   ],
   "source": [
    "arr2[:3,:3]"
   ]
  },
  {
   "cell_type": "code",
   "execution_count": 67,
   "id": "a2ca4fb5-7750-41ba-8053-c8bd9072ff92",
   "metadata": {},
   "outputs": [
    {
     "data": {
      "text/plain": [
       "array([[13, 14],\n",
       "       [18, 19],\n",
       "       [23, 24]])"
      ]
     },
     "execution_count": 67,
     "metadata": {},
     "output_type": "execute_result"
    }
   ],
   "source": [
    "arr2[2:,3:]"
   ]
  },
  {
   "cell_type": "code",
   "execution_count": 69,
   "id": "f3f276de-fa85-4859-a643-c27f16dbdd9f",
   "metadata": {},
   "outputs": [
    {
     "data": {
      "text/plain": [
       "array([[20, 21, 22, 23, 24],\n",
       "       [15, 16, 17, 18, 19],\n",
       "       [10, 11, 12, 13, 14],\n",
       "       [ 5,  6,  7,  8,  9],\n",
       "       [ 0,  1,  2,  3,  4]])"
      ]
     },
     "execution_count": 69,
     "metadata": {},
     "output_type": "execute_result"
    }
   ],
   "source": [
    "arr2[::-1]"
   ]
  },
  {
   "cell_type": "code",
   "execution_count": 71,
   "id": "ab2a679d-4e3e-4ca1-a0d5-131926d088b7",
   "metadata": {},
   "outputs": [
    {
     "data": {
      "text/plain": [
       "array([[ 0,  1,  2,  3,  4],\n",
       "       [ 5,  6,  7,  8,  9],\n",
       "       [10, 11, 12, 13, 14],\n",
       "       [15, 16, 17, 18, 19],\n",
       "       [20, 21, 22, 23, 24]])"
      ]
     },
     "execution_count": 71,
     "metadata": {},
     "output_type": "execute_result"
    }
   ],
   "source": [
    "arr2[::1]"
   ]
  },
  {
   "cell_type": "code",
   "execution_count": 73,
   "id": "d950b75a-a636-47fd-b735-6d547704a753",
   "metadata": {},
   "outputs": [
    {
     "data": {
      "text/plain": [
       "array([[ 0,  1,  2,  3,  4],\n",
       "       [10, 11, 12, 13, 14],\n",
       "       [20, 21, 22, 23, 24]])"
      ]
     },
     "execution_count": 73,
     "metadata": {},
     "output_type": "execute_result"
    }
   ],
   "source": [
    "arr2[::2]"
   ]
  },
  {
   "cell_type": "code",
   "execution_count": 75,
   "id": "e9749265-6d7c-4d7d-bb22-6b425bf6f805",
   "metadata": {},
   "outputs": [
    {
     "data": {
      "text/plain": [
       "array([[ 0,  2,  4],\n",
       "       [ 5,  7,  9],\n",
       "       [10, 12, 14],\n",
       "       [15, 17, 19],\n",
       "       [20, 22, 24]])"
      ]
     },
     "execution_count": 75,
     "metadata": {},
     "output_type": "execute_result"
    }
   ],
   "source": [
    "arr2[::,::2]"
   ]
  },
  {
   "cell_type": "code",
   "execution_count": 81,
   "id": "bbec0acc-b4f0-433f-aad5-4b395fb0860e",
   "metadata": {},
   "outputs": [
    {
     "data": {
      "text/plain": [
       "array([[20, 21, 22, 23, 24],\n",
       "       [15, 16, 17, 18, 19],\n",
       "       [10, 11, 12, 13, 14],\n",
       "       [ 5,  6,  7,  8,  9],\n",
       "       [ 0,  1,  2,  3,  4]])"
      ]
     },
     "execution_count": 81,
     "metadata": {},
     "output_type": "execute_result"
    }
   ],
   "source": [
    "arr2[::-1,::]"
   ]
  },
  {
   "cell_type": "code",
   "execution_count": 83,
   "id": "54853ed3-6b02-41a5-8a82-33fccc36ec6c",
   "metadata": {},
   "outputs": [
    {
     "data": {
      "text/plain": [
       "array([[ 4,  3,  2,  1,  0],\n",
       "       [ 9,  8,  7,  6,  5],\n",
       "       [14, 13, 12, 11, 10],\n",
       "       [19, 18, 17, 16, 15],\n",
       "       [24, 23, 22, 21, 20]])"
      ]
     },
     "execution_count": 83,
     "metadata": {},
     "output_type": "execute_result"
    }
   ],
   "source": [
    "arr2[::,::-1]"
   ]
  },
  {
   "cell_type": "code",
   "execution_count": 1,
   "id": "12e48585-d402-4023-9d56-2cdd76242ccd",
   "metadata": {},
   "outputs": [],
   "source": [
    "import numpy as np"
   ]
  },
  {
   "cell_type": "code",
   "execution_count": 3,
   "id": "82b4c9c0-e0a7-4751-b3cd-f307f3e95e5e",
   "metadata": {},
   "outputs": [],
   "source": [
    "arr4 =np.arange(0,64).reshape(8,8)"
   ]
  },
  {
   "cell_type": "code",
   "execution_count": 5,
   "id": "2cab88b0-99be-4410-bfe8-967aa6e20d4b",
   "metadata": {},
   "outputs": [
    {
     "data": {
      "text/plain": [
       "array([[ 0,  1,  2,  3,  4,  5,  6,  7],\n",
       "       [ 8,  9, 10, 11, 12, 13, 14, 15],\n",
       "       [16, 17, 18, 19, 20, 21, 22, 23],\n",
       "       [24, 25, 26, 27, 28, 29, 30, 31],\n",
       "       [32, 33, 34, 35, 36, 37, 38, 39],\n",
       "       [40, 41, 42, 43, 44, 45, 46, 47],\n",
       "       [48, 49, 50, 51, 52, 53, 54, 55],\n",
       "       [56, 57, 58, 59, 60, 61, 62, 63]])"
      ]
     },
     "execution_count": 5,
     "metadata": {},
     "output_type": "execute_result"
    }
   ],
   "source": [
    "arr4"
   ]
  },
  {
   "cell_type": "code",
   "execution_count": 83,
   "id": "476816b1-168f-4968-ba6a-ca5114897e68",
   "metadata": {},
   "outputs": [
    {
     "data": {
      "text/plain": [
       "array([0.64157366])"
      ]
     },
     "execution_count": 83,
     "metadata": {},
     "output_type": "execute_result"
    }
   ],
   "source": [
    "np.random.random(1)"
   ]
  },
  {
   "cell_type": "code",
   "execution_count": 16,
   "id": "afffb79a-5eec-41d7-a05e-b115247218ff",
   "metadata": {},
   "outputs": [],
   "source": [
    "arr5= np.ones([10,10])"
   ]
  },
  {
   "cell_type": "code",
   "execution_count": 18,
   "id": "bb63b789-b3ca-414d-985a-f22172f713aa",
   "metadata": {},
   "outputs": [
    {
     "data": {
      "text/plain": [
       "array([[1., 1., 1., 1., 1., 1., 1., 1., 1., 1.],\n",
       "       [1., 1., 1., 1., 1., 1., 1., 1., 1., 1.],\n",
       "       [1., 1., 1., 1., 1., 1., 1., 1., 1., 1.],\n",
       "       [1., 1., 1., 1., 1., 1., 1., 1., 1., 1.],\n",
       "       [1., 1., 1., 1., 1., 1., 1., 1., 1., 1.],\n",
       "       [1., 1., 1., 1., 1., 1., 1., 1., 1., 1.],\n",
       "       [1., 1., 1., 1., 1., 1., 1., 1., 1., 1.],\n",
       "       [1., 1., 1., 1., 1., 1., 1., 1., 1., 1.],\n",
       "       [1., 1., 1., 1., 1., 1., 1., 1., 1., 1.],\n",
       "       [1., 1., 1., 1., 1., 1., 1., 1., 1., 1.]])"
      ]
     },
     "execution_count": 18,
     "metadata": {},
     "output_type": "execute_result"
    }
   ],
   "source": [
    "arr5"
   ]
  },
  {
   "cell_type": "code",
   "execution_count": 28,
   "id": "657ec81e-dc2a-4d39-9a4a-41fefac544e7",
   "metadata": {},
   "outputs": [],
   "source": [
    "arr5[1:9,1:9]=0"
   ]
  },
  {
   "cell_type": "code",
   "execution_count": 30,
   "id": "8e01a5fc-e798-4a4f-8edd-7e0625f4e460",
   "metadata": {},
   "outputs": [
    {
     "data": {
      "text/plain": [
       "array([[1., 1., 1., 1., 1., 1., 1., 1., 1., 1.],\n",
       "       [1., 0., 0., 0., 0., 0., 0., 0., 0., 1.],\n",
       "       [1., 0., 0., 0., 0., 0., 0., 0., 0., 1.],\n",
       "       [1., 0., 0., 0., 0., 0., 0., 0., 0., 1.],\n",
       "       [1., 0., 0., 0., 0., 0., 0., 0., 0., 1.],\n",
       "       [1., 0., 0., 0., 0., 0., 0., 0., 0., 1.],\n",
       "       [1., 0., 0., 0., 0., 0., 0., 0., 0., 1.],\n",
       "       [1., 0., 0., 0., 0., 0., 0., 0., 0., 1.],\n",
       "       [1., 0., 0., 0., 0., 0., 0., 0., 0., 1.],\n",
       "       [1., 1., 1., 1., 1., 1., 1., 1., 1., 1.]])"
      ]
     },
     "execution_count": 30,
     "metadata": {},
     "output_type": "execute_result"
    }
   ],
   "source": [
    "arr5"
   ]
  },
  {
   "cell_type": "code",
   "execution_count": 25,
   "id": "93ba69f1-d5a7-4549-bd94-316df3c0bf70",
   "metadata": {},
   "outputs": [],
   "source": [
    "a = np.arange(1,10).reshape(3,3)"
   ]
  },
  {
   "cell_type": "code",
   "execution_count": 27,
   "id": "5d0764f6-4939-4241-aba2-a40aa36a7e9c",
   "metadata": {},
   "outputs": [
    {
     "data": {
      "text/plain": [
       "array([[1, 2, 3],\n",
       "       [4, 5, 6],\n",
       "       [7, 8, 9]])"
      ]
     },
     "execution_count": 27,
     "metadata": {},
     "output_type": "execute_result"
    }
   ],
   "source": [
    "a"
   ]
  },
  {
   "cell_type": "code",
   "execution_count": 29,
   "id": "4c640e10-ae07-4b82-95bb-6559a869c9ea",
   "metadata": {},
   "outputs": [
    {
     "data": {
      "text/plain": [
       "array([[5, 6],\n",
       "       [8, 9]])"
      ]
     },
     "execution_count": 29,
     "metadata": {},
     "output_type": "execute_result"
    }
   ],
   "source": [
    "a[1:3,1:3]"
   ]
  },
  {
   "cell_type": "code",
   "execution_count": 31,
   "id": "41678ff6-60ea-4072-a103-37d6ab08e74e",
   "metadata": {},
   "outputs": [
    {
     "data": {
      "text/plain": [
       "array([[5, 6],\n",
       "       [8, 9]])"
      ]
     },
     "execution_count": 31,
     "metadata": {},
     "output_type": "execute_result"
    }
   ],
   "source": [
    "sa=a[1:3,1:3]\n",
    "sa#shallow copy"
   ]
  },
  {
   "cell_type": "code",
   "execution_count": 72,
   "id": "b3c1d30b-1396-4aa2-8362-5b930ac64d42",
   "metadata": {},
   "outputs": [],
   "source": [
    "sa[1,1]=5"
   ]
  },
  {
   "cell_type": "code",
   "execution_count": 74,
   "id": "607a1efd-e89f-4661-b484-898ecbccf491",
   "metadata": {},
   "outputs": [
    {
     "data": {
      "text/plain": [
       "array([[19, 16],\n",
       "       [ 8,  5]])"
      ]
     },
     "execution_count": 74,
     "metadata": {},
     "output_type": "execute_result"
    }
   ],
   "source": [
    "sa"
   ]
  },
  {
   "cell_type": "code",
   "execution_count": 44,
   "id": "2c8996ea-98ad-44f8-9b1e-5f6f7fe62f1d",
   "metadata": {},
   "outputs": [
    {
     "data": {
      "text/plain": [
       "array([[ 1,  2,  3],\n",
       "       [ 4,  5,  6],\n",
       "       [ 7,  8, 19]])"
      ]
     },
     "execution_count": 44,
     "metadata": {},
     "output_type": "execute_result"
    }
   ],
   "source": [
    "a"
   ]
  },
  {
   "cell_type": "code",
   "execution_count": 33,
   "id": "18cdf3bc-a615-4210-975f-9739b36f3459",
   "metadata": {},
   "outputs": [],
   "source": [
    "a[1,2]=16"
   ]
  },
  {
   "cell_type": "code",
   "execution_count": 35,
   "id": "36d3672d-9262-44ff-88ba-fae7c5be18e2",
   "metadata": {},
   "outputs": [
    {
     "data": {
      "text/plain": [
       "array([[ 1,  2,  3],\n",
       "       [ 4,  5, 16],\n",
       "       [ 7,  8,  9]])"
      ]
     },
     "execution_count": 35,
     "metadata": {},
     "output_type": "execute_result"
    }
   ],
   "source": [
    "a"
   ]
  },
  {
   "cell_type": "code",
   "execution_count": 37,
   "id": "1ccf677f-8e6d-4987-84b3-db4befe37769",
   "metadata": {},
   "outputs": [
    {
     "data": {
      "text/plain": [
       "array([[ 5, 16],\n",
       "       [ 8,  9]])"
      ]
     },
     "execution_count": 37,
     "metadata": {},
     "output_type": "execute_result"
    }
   ],
   "source": [
    "sa"
   ]
  },
  {
   "cell_type": "code",
   "execution_count": 84,
   "id": "d66d6248-0151-484d-9fb3-18e1abdcb583",
   "metadata": {},
   "outputs": [
    {
     "data": {
      "text/plain": [
       "array([[11,  2],\n",
       "       [ 4, 19]])"
      ]
     },
     "execution_count": 84,
     "metadata": {},
     "output_type": "execute_result"
    }
   ],
   "source": [
    "a[:2,:2]"
   ]
  },
  {
   "cell_type": "code",
   "execution_count": 78,
   "id": "c531ae7c-d648-404c-9a7e-48927d517a87",
   "metadata": {},
   "outputs": [
    {
     "data": {
      "text/plain": [
       "array([[11,  2,  3],\n",
       "       [ 4, 19, 16],\n",
       "       [ 7,  8,  5]])"
      ]
     },
     "execution_count": 78,
     "metadata": {},
     "output_type": "execute_result"
    }
   ],
   "source": [
    "#deep copy\n",
    "a[0,0]=11\n",
    "a"
   ]
  },
  {
   "cell_type": "code",
   "execution_count": 43,
   "id": "a59e11b3-9b5f-4c73-9e01-04f8830b53f7",
   "metadata": {},
   "outputs": [
    {
     "data": {
      "text/plain": [
       "array([[1, 2],\n",
       "       [4, 5]])"
      ]
     },
     "execution_count": 43,
     "metadata": {},
     "output_type": "execute_result"
    }
   ],
   "source": [
    "da=a[:2,:2].copy()\n",
    "da"
   ]
  },
  {
   "cell_type": "code",
   "execution_count": 45,
   "id": "f209dcda-8030-4ad4-b7dc-6b66f56cfc84",
   "metadata": {},
   "outputs": [
    {
     "data": {
      "text/plain": [
       "array([[1, 2],\n",
       "       [4, 5]])"
      ]
     },
     "execution_count": 45,
     "metadata": {},
     "output_type": "execute_result"
    }
   ],
   "source": [
    "da"
   ]
  },
  {
   "cell_type": "code",
   "execution_count": 47,
   "id": "f5501458-43c0-4f13-b148-b15d3464357a",
   "metadata": {},
   "outputs": [
    {
     "data": {
      "text/plain": [
       "5"
      ]
     },
     "execution_count": 47,
     "metadata": {},
     "output_type": "execute_result"
    }
   ],
   "source": [
    "da[1,1]"
   ]
  },
  {
   "cell_type": "code",
   "execution_count": 49,
   "id": "8058d352-7fea-4a19-bd33-bdd08c62a015",
   "metadata": {},
   "outputs": [
    {
     "data": {
      "text/plain": [
       "array([[ 1,  2],\n",
       "       [ 4, 15]])"
      ]
     },
     "execution_count": 49,
     "metadata": {},
     "output_type": "execute_result"
    }
   ],
   "source": [
    "da[1,1]=15\n",
    "da"
   ]
  },
  {
   "cell_type": "code",
   "execution_count": 51,
   "id": "2752de9c-c9d7-42d5-b9d1-525440bcddf5",
   "metadata": {},
   "outputs": [
    {
     "data": {
      "text/plain": [
       "array([[ 1,  2,  3],\n",
       "       [ 4,  5, 16],\n",
       "       [ 7,  8,  9]])"
      ]
     },
     "execution_count": 51,
     "metadata": {},
     "output_type": "execute_result"
    }
   ],
   "source": [
    "a"
   ]
  },
  {
   "cell_type": "code",
   "execution_count": 53,
   "id": "34b1ed13-0288-4ff2-ada3-9e7767b4b443",
   "metadata": {},
   "outputs": [
    {
     "data": {
      "text/plain": [
       "[1, 2, 3, 4]"
      ]
     },
     "execution_count": 53,
     "metadata": {},
     "output_type": "execute_result"
    }
   ],
   "source": [
    "a3=[1,2,3,4]\n",
    "a3"
   ]
  },
  {
   "cell_type": "code",
   "execution_count": 55,
   "id": "8857af5c-2fa9-41b3-b882-c859a787ea40",
   "metadata": {},
   "outputs": [],
   "source": [
    "a3=np.arange(1,5).reshape(2,2)"
   ]
  },
  {
   "cell_type": "code",
   "execution_count": 57,
   "id": "bc28af70-b81d-41a0-a998-fb62c36c34ca",
   "metadata": {},
   "outputs": [
    {
     "data": {
      "text/plain": [
       "array([[1, 2],\n",
       "       [3, 4]])"
      ]
     },
     "execution_count": 57,
     "metadata": {},
     "output_type": "execute_result"
    }
   ],
   "source": [
    "a3"
   ]
  },
  {
   "cell_type": "code",
   "execution_count": 59,
   "id": "46ac3883-d49c-4f1e-bf06-ac41a78be506",
   "metadata": {},
   "outputs": [
    {
     "data": {
      "text/plain": [
       "array([[1],\n",
       "       [2],\n",
       "       [3],\n",
       "       [4]])"
      ]
     },
     "execution_count": 59,
     "metadata": {},
     "output_type": "execute_result"
    }
   ],
   "source": [
    "a3.reshape(4,1)"
   ]
  },
  {
   "cell_type": "code",
   "execution_count": 122,
   "id": "2f869cb6-337c-4314-a298-b416ff5ee5c2",
   "metadata": {},
   "outputs": [
    {
     "data": {
      "text/plain": [
       "array([[0, 1, 2],\n",
       "       [3, 4, 5],\n",
       "       [6, 7, 8]])"
      ]
     },
     "execution_count": 122,
     "metadata": {},
     "output_type": "execute_result"
    }
   ],
   "source": [
    "a3=np.arange(0,9).reshape(3,3)\n",
    "a3"
   ]
  },
  {
   "cell_type": "code",
   "execution_count": 132,
   "id": "5bcc9e0f-dba1-4e64-9781-ad41a77b632d",
   "metadata": {},
   "outputs": [
    {
     "data": {
      "text/plain": [
       "array([[0, 1, 2, 3, 4, 5, 6, 7, 8]])"
      ]
     },
     "execution_count": 132,
     "metadata": {},
     "output_type": "execute_result"
    }
   ],
   "source": [
    "a3=np.arange(0,9).reshape(1,9)\n",
    "a3"
   ]
  },
  {
   "cell_type": "code",
   "execution_count": 134,
   "id": "7a3c0245-72e6-4798-93cc-b1331909a00f",
   "metadata": {},
   "outputs": [
    {
     "data": {
      "text/plain": [
       "\u001b[1;31mDocstring:\u001b[0m\n",
       "a.ravel([order])\n",
       "\n",
       "Return a flattened array.\n",
       "\n",
       "Refer to `numpy.ravel` for full documentation.\n",
       "\n",
       "See Also\n",
       "--------\n",
       "numpy.ravel : equivalent function\n",
       "\n",
       "ndarray.flat : a flat iterator on the array.\n",
       "\u001b[1;31mType:\u001b[0m      builtin_function_or_method"
      ]
     },
     "metadata": {},
     "output_type": "display_data"
    }
   ],
   "source": [
    "a3.ravel?"
   ]
  },
  {
   "cell_type": "code",
   "execution_count": 136,
   "id": "e7634e6d-bb0a-4c50-bd7a-7a6b2227bfc7",
   "metadata": {},
   "outputs": [
    {
     "data": {
      "text/plain": [
       "array([0, 1, 2, 3, 4, 5, 6, 7, 8])"
      ]
     },
     "execution_count": 136,
     "metadata": {},
     "output_type": "execute_result"
    }
   ],
   "source": [
    "a3.ravel()#3d and 2d array convert in 1d array"
   ]
  },
  {
   "cell_type": "code",
   "execution_count": 138,
   "id": "eef15ac9-70d6-4795-ba4f-6dd1940e52a8",
   "metadata": {},
   "outputs": [
    {
     "data": {
      "text/plain": [
       "array([0, 1, 2, 3, 4, 5, 6, 7, 8])"
      ]
     },
     "execution_count": 138,
     "metadata": {},
     "output_type": "execute_result"
    }
   ],
   "source": [
    "a3.flatten()"
   ]
  },
  {
   "cell_type": "code",
   "execution_count": 142,
   "id": "d6385fdd-741d-4d07-8a80-d42a34f91016",
   "metadata": {},
   "outputs": [
    {
     "data": {
      "text/plain": [
       "\u001b[1;31mDocstring:\u001b[0m\n",
       "a.flatten(order='C')\n",
       "\n",
       "Return a copy of the array collapsed into one dimension.\n",
       "\n",
       "Parameters\n",
       "----------\n",
       "order : {'C', 'F', 'A', 'K'}, optional\n",
       "    'C' means to flatten in row-major (C-style) order.\n",
       "    'F' means to flatten in column-major (Fortran-\n",
       "    style) order. 'A' means to flatten in column-major\n",
       "    order if `a` is Fortran *contiguous* in memory,\n",
       "    row-major order otherwise. 'K' means to flatten\n",
       "    `a` in the order the elements occur in memory.\n",
       "    The default is 'C'.\n",
       "\n",
       "Returns\n",
       "-------\n",
       "y : ndarray\n",
       "    A copy of the input array, flattened to one dimension.\n",
       "\n",
       "See Also\n",
       "--------\n",
       "ravel : Return a flattened array.\n",
       "flat : A 1-D flat iterator over the array.\n",
       "\n",
       "Examples\n",
       "--------\n",
       ">>> a = np.array([[1,2], [3,4]])\n",
       ">>> a.flatten()\n",
       "array([1, 2, 3, 4])\n",
       ">>> a.flatten('F')\n",
       "array([1, 3, 2, 4])\n",
       "\u001b[1;31mType:\u001b[0m      builtin_function_or_method"
      ]
     },
     "metadata": {},
     "output_type": "display_data"
    }
   ],
   "source": [
    "a3.flatten?"
   ]
  },
  {
   "cell_type": "code",
   "execution_count": 156,
   "id": "06ab8951-d24f-4cd6-a210-d8e1641931fe",
   "metadata": {},
   "outputs": [
    {
     "data": {
      "text/plain": [
       "array([[[0, 1, 2, 3, 4, 5, 6, 7, 8]]])"
      ]
     },
     "execution_count": 156,
     "metadata": {},
     "output_type": "execute_result"
    }
   ],
   "source": [
    "ar1=a3[:,np.newaxis]\n",
    "ar1"
   ]
  },
  {
   "cell_type": "markdown",
   "id": "a8fbb47b-b5ab-452d-9922-c4487a118804",
   "metadata": {},
   "source": [
    "#concatenation, joining of two arrays"
   ]
  },
  {
   "cell_type": "code",
   "execution_count": 158,
   "id": "eda547ff-cd3e-48a2-b00e-94ae48c27ed4",
   "metadata": {},
   "outputs": [
    {
     "data": {
      "text/plain": [
       "\u001b[1;31mCall signature:\u001b[0m  \u001b[0mnp\u001b[0m\u001b[1;33m.\u001b[0m\u001b[0mconcatenate\u001b[0m\u001b[1;33m(\u001b[0m\u001b[1;33m*\u001b[0m\u001b[0margs\u001b[0m\u001b[1;33m,\u001b[0m \u001b[1;33m**\u001b[0m\u001b[0mkwargs\u001b[0m\u001b[1;33m)\u001b[0m\u001b[1;33m\u001b[0m\u001b[1;33m\u001b[0m\u001b[0m\n",
       "\u001b[1;31mType:\u001b[0m            _ArrayFunctionDispatcher\n",
       "\u001b[1;31mString form:\u001b[0m     <built-in function concatenate>\n",
       "\u001b[1;31mDocstring:\u001b[0m      \n",
       "concatenate((a1, a2, ...), axis=0, out=None, dtype=None, casting=\"same_kind\")\n",
       "\n",
       "Join a sequence of arrays along an existing axis.\n",
       "\n",
       "Parameters\n",
       "----------\n",
       "a1, a2, ... : sequence of array_like\n",
       "    The arrays must have the same shape, except in the dimension\n",
       "    corresponding to `axis` (the first, by default).\n",
       "axis : int, optional\n",
       "    The axis along which the arrays will be joined.  If axis is None,\n",
       "    arrays are flattened before use.  Default is 0.\n",
       "out : ndarray, optional\n",
       "    If provided, the destination to place the result. The shape must be\n",
       "    correct, matching that of what concatenate would have returned if no\n",
       "    out argument were specified.\n",
       "dtype : str or dtype\n",
       "    If provided, the destination array will have this dtype. Cannot be\n",
       "    provided together with `out`.\n",
       "\n",
       "    .. versionadded:: 1.20.0\n",
       "\n",
       "casting : {'no', 'equiv', 'safe', 'same_kind', 'unsafe'}, optional\n",
       "    Controls what kind of data casting may occur. Defaults to 'same_kind'.\n",
       "\n",
       "    .. versionadded:: 1.20.0\n",
       "\n",
       "Returns\n",
       "-------\n",
       "res : ndarray\n",
       "    The concatenated array.\n",
       "\n",
       "See Also\n",
       "--------\n",
       "ma.concatenate : Concatenate function that preserves input masks.\n",
       "array_split : Split an array into multiple sub-arrays of equal or\n",
       "              near-equal size.\n",
       "split : Split array into a list of multiple sub-arrays of equal size.\n",
       "hsplit : Split array into multiple sub-arrays horizontally (column wise).\n",
       "vsplit : Split array into multiple sub-arrays vertically (row wise).\n",
       "dsplit : Split array into multiple sub-arrays along the 3rd axis (depth).\n",
       "stack : Stack a sequence of arrays along a new axis.\n",
       "block : Assemble arrays from blocks.\n",
       "hstack : Stack arrays in sequence horizontally (column wise).\n",
       "vstack : Stack arrays in sequence vertically (row wise).\n",
       "dstack : Stack arrays in sequence depth wise (along third dimension).\n",
       "column_stack : Stack 1-D arrays as columns into a 2-D array.\n",
       "\n",
       "Notes\n",
       "-----\n",
       "When one or more of the arrays to be concatenated is a MaskedArray,\n",
       "this function will return a MaskedArray object instead of an ndarray,\n",
       "but the input masks are *not* preserved. In cases where a MaskedArray\n",
       "is expected as input, use the ma.concatenate function from the masked\n",
       "array module instead.\n",
       "\n",
       "Examples\n",
       "--------\n",
       ">>> a = np.array([[1, 2], [3, 4]])\n",
       ">>> b = np.array([[5, 6]])\n",
       ">>> np.concatenate((a, b), axis=0)\n",
       "array([[1, 2],\n",
       "       [3, 4],\n",
       "       [5, 6]])\n",
       ">>> np.concatenate((a, b.T), axis=1)\n",
       "array([[1, 2, 5],\n",
       "       [3, 4, 6]])\n",
       ">>> np.concatenate((a, b), axis=None)\n",
       "array([1, 2, 3, 4, 5, 6])\n",
       "\n",
       "This function will not preserve masking of MaskedArray inputs.\n",
       "\n",
       ">>> a = np.ma.arange(3)\n",
       ">>> a[1] = np.ma.masked\n",
       ">>> b = np.arange(2, 5)\n",
       ">>> a\n",
       "masked_array(data=[0, --, 2],\n",
       "             mask=[False,  True, False],\n",
       "       fill_value=999999)\n",
       ">>> b\n",
       "array([2, 3, 4])\n",
       ">>> np.concatenate([a, b])\n",
       "masked_array(data=[0, 1, 2, 2, 3, 4],\n",
       "             mask=False,\n",
       "       fill_value=999999)\n",
       ">>> np.ma.concatenate([a, b])\n",
       "masked_array(data=[0, --, 2, 2, 3, 4],\n",
       "             mask=[False,  True, False, False, False, False],\n",
       "       fill_value=999999)\n",
       "\u001b[1;31mClass docstring:\u001b[0m\n",
       "Class to wrap functions with checks for __array_function__ overrides.\n",
       "\n",
       "All arguments are required, and can only be passed by position.\n",
       "\n",
       "Parameters\n",
       "----------\n",
       "dispatcher : function or None\n",
       "    The dispatcher function that returns a single sequence-like object\n",
       "    of all arguments relevant.  It must have the same signature (except\n",
       "    the default values) as the actual implementation.\n",
       "    If ``None``, this is a ``like=`` dispatcher and the\n",
       "    ``_ArrayFunctionDispatcher`` must be called with ``like`` as the\n",
       "    first (additional and positional) argument.\n",
       "implementation : function\n",
       "    Function that implements the operation on NumPy arrays without\n",
       "    overrides.  Arguments passed calling the ``_ArrayFunctionDispatcher``\n",
       "    will be forwarded to this (and the ``dispatcher``) as if using\n",
       "    ``*args, **kwargs``.\n",
       "\n",
       "Attributes\n",
       "----------\n",
       "_implementation : function\n",
       "    The original implementation passed in."
      ]
     },
     "metadata": {},
     "output_type": "display_data"
    }
   ],
   "source": [
    "np.concatenate?"
   ]
  },
  {
   "cell_type": "code",
   "execution_count": 61,
   "id": "f0b45f5c-248d-4c32-9876-59f13cc22c8a",
   "metadata": {},
   "outputs": [
    {
     "data": {
      "text/plain": [
       "array([[ 5, 16],\n",
       "       [ 8,  9],\n",
       "       [ 1,  2],\n",
       "       [ 4, 15]])"
      ]
     },
     "execution_count": 61,
     "metadata": {},
     "output_type": "execute_result"
    }
   ],
   "source": [
    "np.concatenate([sa,da])"
   ]
  },
  {
   "cell_type": "code",
   "execution_count": 63,
   "id": "b9c2d3a4-b9f8-4c05-949f-02fc6275c7f2",
   "metadata": {},
   "outputs": [
    {
     "data": {
      "text/plain": [
       "array([[ 5, 16,  1,  2],\n",
       "       [ 8,  9,  4, 15]])"
      ]
     },
     "execution_count": 63,
     "metadata": {},
     "output_type": "execute_result"
    }
   ],
   "source": [
    "ca=np.concatenate([sa,da],axis=1)#axis to specify row 0/ and column 1\n",
    "ca"
   ]
  },
  {
   "cell_type": "code",
   "execution_count": 11,
   "id": "2c3503b1-e0e1-40d2-8299-4f843fc04876",
   "metadata": {},
   "outputs": [
    {
     "data": {
      "text/plain": [
       "array([[1, 1, 1]])"
      ]
     },
     "execution_count": 11,
     "metadata": {},
     "output_type": "execute_result"
    }
   ],
   "source": [
    "a9=np.array([[1,1,1]])\n",
    "a9"
   ]
  },
  {
   "cell_type": "code",
   "execution_count": 15,
   "id": "ec3db1c7-58ad-408a-96a2-6836b871f1f9",
   "metadata": {},
   "outputs": [
    {
     "data": {
      "text/plain": [
       "array([[1, 1, 1, 1]])"
      ]
     },
     "execution_count": 15,
     "metadata": {},
     "output_type": "execute_result"
    }
   ],
   "source": [
    "a10=np.array([[1,1,1,1]])\n",
    "a10"
   ]
  },
  {
   "cell_type": "code",
   "execution_count": 65,
   "id": "bbc5b37a-1213-4e08-b98e-906ea3bfa6e1",
   "metadata": {},
   "outputs": [
    {
     "data": {
      "text/plain": [
       "array([[ 5, 16,  1,  2],\n",
       "       [ 8,  9,  4, 15],\n",
       "       [ 1,  1,  1,  1]])"
      ]
     },
     "execution_count": 65,
     "metadata": {},
     "output_type": "execute_result"
    }
   ],
   "source": [
    "np.concatenate([ca,a10])# for row no of col are equal \n",
    "                       #for col no of row are equal"
   ]
  },
  {
   "cell_type": "code",
   "execution_count": null,
   "id": "c35280d4-61d9-4f10-ba8b-8d6f8efb1f40",
   "metadata": {},
   "outputs": [],
   "source": [
    "#row h stack\n",
    "#col v stack"
   ]
  },
  {
   "cell_type": "code",
   "execution_count": 1,
   "id": "306a0d10-631e-4b32-a845-9ae9a3bb0323",
   "metadata": {},
   "outputs": [],
   "source": [
    "import numpy as np"
   ]
  },
  {
   "cell_type": "code",
   "execution_count": 94,
   "id": "8e1ee9c3-d0b8-4001-a86d-cd54259e4631",
   "metadata": {},
   "outputs": [],
   "source": [
    "#Stack arrays in sequence vertically (row wise).\n",
    "x=np.array([1,2,3])\n",
    "grid=np.array([[9,8,7],\n",
    "               [6,5,4]])"
   ]
  },
  {
   "cell_type": "code",
   "execution_count": 96,
   "id": "651d3ed8-89bc-4569-9cab-e709de3dae55",
   "metadata": {},
   "outputs": [
    {
     "data": {
      "text/plain": [
       "array([[1, 2, 3],\n",
       "       [9, 8, 7],\n",
       "       [6, 5, 4]])"
      ]
     },
     "execution_count": 96,
     "metadata": {},
     "output_type": "execute_result"
    }
   ],
   "source": [
    "np.vstack([x,grid])"
   ]
  },
  {
   "cell_type": "code",
   "execution_count": 98,
   "id": "4c8e25ca-890d-4641-bda9-f111a41fe856",
   "metadata": {},
   "outputs": [
    {
     "data": {
      "text/plain": [
       "array([1, 2, 3, 4])"
      ]
     },
     "execution_count": 98,
     "metadata": {},
     "output_type": "execute_result"
    }
   ],
   "source": [
    "np.hstack((x,[4]))"
   ]
  },
  {
   "cell_type": "code",
   "execution_count": 104,
   "id": "4fb03b8d-ddc3-4d48-b6be-81a3223c00ed",
   "metadata": {},
   "outputs": [
    {
     "data": {
      "text/plain": [
       "array([[1, 3],\n",
       "       [4, 5]])"
      ]
     },
     "execution_count": 104,
     "metadata": {},
     "output_type": "execute_result"
    }
   ],
   "source": [
    "ar=np.array([[1,3],\n",
    "            [4,5]])\n",
    "ar"
   ]
  },
  {
   "cell_type": "code",
   "execution_count": 112,
   "id": "6a0a65df-5650-4d04-9788-08d6ba15977c",
   "metadata": {},
   "outputs": [
    {
     "data": {
      "text/plain": [
       "array([[[1, 3],\n",
       "        [4, 5]]])"
      ]
     },
     "execution_count": 112,
     "metadata": {},
     "output_type": "execute_result"
    }
   ],
   "source": [
    "ar2=ar[np.newaxis]\n",
    "ar2"
   ]
  },
  {
   "cell_type": "code",
   "execution_count": 108,
   "id": "cc69edc2-4748-4ad1-a837-fa90a9519b90",
   "metadata": {},
   "outputs": [
    {
     "data": {
      "text/plain": [
       "array([[9, 8, 7],\n",
       "       [6, 5, 4]])"
      ]
     },
     "execution_count": 108,
     "metadata": {},
     "output_type": "execute_result"
    }
   ],
   "source": [
    "grid"
   ]
  },
  {
   "cell_type": "code",
   "execution_count": 110,
   "id": "0d0f089d-ea55-4598-b67f-e4fbc838e465",
   "metadata": {},
   "outputs": [
    {
     "data": {
      "text/plain": [
       "array([1, 2, 3])"
      ]
     },
     "execution_count": 110,
     "metadata": {},
     "output_type": "execute_result"
    }
   ],
   "source": [
    "x"
   ]
  },
  {
   "cell_type": "markdown",
   "id": "adba3963-e0f5-4c1f-89ab-f0b58afe68ac",
   "metadata": {},
   "source": [
    "#np.split\n",
    "#np.vsplit\n",
    "#np.hsplit"
   ]
  },
  {
   "cell_type": "code",
   "execution_count": 129,
   "id": "ebf6e027-6941-4751-ab55-be64b352cd34",
   "metadata": {},
   "outputs": [
    {
     "data": {
      "text/plain": [
       "array([1, 2, 3, 4, 5])"
      ]
     },
     "execution_count": 129,
     "metadata": {},
     "output_type": "execute_result"
    }
   ],
   "source": [
    "a=np.array([1,2,3,4,5])\n",
    "a"
   ]
  },
  {
   "cell_type": "code",
   "execution_count": 131,
   "id": "015497d3-41fa-45e2-bd1b-b4b99128add9",
   "metadata": {},
   "outputs": [
    {
     "data": {
      "text/plain": [
       "[array([1]), array([2]), array([3]), array([4]), array([5])]"
      ]
     },
     "execution_count": 131,
     "metadata": {},
     "output_type": "execute_result"
    }
   ],
   "source": [
    "np.split(a,5)"
   ]
  },
  {
   "cell_type": "code",
   "execution_count": 139,
   "id": "1459801c-e9b8-45c7-aee4-30ae74b7c416",
   "metadata": {},
   "outputs": [
    {
     "data": {
      "text/plain": [
       "[array([1]), array([2, 3, 4]), array([5])]"
      ]
     },
     "execution_count": 139,
     "metadata": {},
     "output_type": "execute_result"
    }
   ],
   "source": [
    "np.split(a,[1,4])\n",
    "#if we want split row wise or column wise so add 3rd element is axis."
   ]
  },
  {
   "cell_type": "code",
   "execution_count": 141,
   "id": "16af7848-b605-4c95-b104-f6ba043fde4b",
   "metadata": {},
   "outputs": [
    {
     "data": {
      "text/plain": [
       "[array([1]), array([2]), array([3, 4]), array([5])]"
      ]
     },
     "execution_count": 141,
     "metadata": {},
     "output_type": "execute_result"
    }
   ],
   "source": [
    "np.split(a,[1,2,4])"
   ]
  },
  {
   "cell_type": "code",
   "execution_count": 153,
   "id": "bc115109-0bc4-40c3-bb46-080a240cd340",
   "metadata": {},
   "outputs": [
    {
     "data": {
      "text/plain": [
       "array([[1, 2, 3, 4],\n",
       "       [5, 6, 7, 8]])"
      ]
     },
     "execution_count": 153,
     "metadata": {},
     "output_type": "execute_result"
    }
   ],
   "source": [
    "ar3=np.arange(1,9).reshape(2,4)\n",
    "ar3"
   ]
  },
  {
   "cell_type": "code",
   "execution_count": 155,
   "id": "cbbcfc5a-9e5a-467f-976c-9012caa25724",
   "metadata": {},
   "outputs": [
    {
     "data": {
      "text/plain": [
       "[array([[1, 2, 3, 4]]), array([[5, 6, 7, 8]])]"
      ]
     },
     "execution_count": 155,
     "metadata": {},
     "output_type": "execute_result"
    }
   ],
   "source": [
    "np.vsplit(ar3,2)"
   ]
  },
  {
   "cell_type": "code",
   "execution_count": 157,
   "id": "4dde0b5c-8762-4a7f-96f6-1758d2d78085",
   "metadata": {},
   "outputs": [
    {
     "data": {
      "text/plain": [
       "[array([[1, 2],\n",
       "        [5, 6]]),\n",
       " array([[3, 4],\n",
       "        [7, 8]])]"
      ]
     },
     "execution_count": 157,
     "metadata": {},
     "output_type": "execute_result"
    }
   ],
   "source": [
    "np.hsplit(ar3,2)"
   ]
  },
  {
   "cell_type": "code",
   "execution_count": 159,
   "id": "31402179-e5ca-4685-81e9-73230e594602",
   "metadata": {},
   "outputs": [
    {
     "data": {
      "text/plain": [
       "[array([[1, 2],\n",
       "        [5, 6]]),\n",
       " array([[3],\n",
       "        [7]]),\n",
       " array([[4],\n",
       "        [8]])]"
      ]
     },
     "execution_count": 159,
     "metadata": {},
     "output_type": "execute_result"
    }
   ],
   "source": [
    "np.hsplit(ar3,[2,3])"
   ]
  },
  {
   "cell_type": "code",
   "execution_count": 161,
   "id": "c90802ac-d004-4478-9c38-cf9614cfcb9a",
   "metadata": {},
   "outputs": [
    {
     "data": {
      "text/plain": [
       "13"
      ]
     },
     "execution_count": 161,
     "metadata": {},
     "output_type": "execute_result"
    }
   ],
   "source": [
    "np.sum(ar)"
   ]
  },
  {
   "cell_type": "code",
   "execution_count": 163,
   "id": "fdeea4c1-db79-42c3-b46a-c487f9fe8834",
   "metadata": {},
   "outputs": [
    {
     "data": {
      "text/plain": [
       "array([5, 8])"
      ]
     },
     "execution_count": 163,
     "metadata": {},
     "output_type": "execute_result"
    }
   ],
   "source": [
    "np.sum(ar,axis=0)"
   ]
  },
  {
   "cell_type": "code",
   "execution_count": 165,
   "id": "a66a6a25-1863-4e9e-95ba-fa1ec33e155e",
   "metadata": {},
   "outputs": [
    {
     "data": {
      "text/plain": [
       "array([4, 9])"
      ]
     },
     "execution_count": 165,
     "metadata": {},
     "output_type": "execute_result"
    }
   ],
   "source": [
    "np.sum(ar,axis=1)"
   ]
  },
  {
   "cell_type": "code",
   "execution_count": 167,
   "id": "f1f6c58a-e93b-441b-986a-95a89a2e2b47",
   "metadata": {},
   "outputs": [
    {
     "data": {
      "text/plain": [
       "5"
      ]
     },
     "execution_count": 167,
     "metadata": {},
     "output_type": "execute_result"
    }
   ],
   "source": [
    "np.max(ar)"
   ]
  },
  {
   "cell_type": "code",
   "execution_count": 169,
   "id": "d04b6178-8ab0-4e10-b601-9a19f0b59848",
   "metadata": {},
   "outputs": [
    {
     "data": {
      "text/plain": [
       "1"
      ]
     },
     "execution_count": 169,
     "metadata": {},
     "output_type": "execute_result"
    }
   ],
   "source": [
    "np.min(ar)"
   ]
  },
  {
   "cell_type": "code",
   "execution_count": 171,
   "id": "59919787-eaa1-4a66-9a04-05cc6307a33e",
   "metadata": {},
   "outputs": [
    {
     "data": {
      "text/plain": [
       "0"
      ]
     },
     "execution_count": 171,
     "metadata": {},
     "output_type": "execute_result"
    }
   ],
   "source": [
    "np.argmin(ar)\n",
    "#index of min element"
   ]
  },
  {
   "cell_type": "code",
   "execution_count": 173,
   "id": "70c4f7b2-766d-4c98-98ee-e9943c941167",
   "metadata": {},
   "outputs": [
    {
     "data": {
      "text/plain": [
       "3"
      ]
     },
     "execution_count": 173,
     "metadata": {},
     "output_type": "execute_result"
    }
   ],
   "source": [
    "np.argmax(ar)"
   ]
  },
  {
   "cell_type": "code",
   "execution_count": 175,
   "id": "9e347896-0576-4dcb-a064-d570f5936b34",
   "metadata": {},
   "outputs": [],
   "source": [
    "i=-5"
   ]
  },
  {
   "cell_type": "code",
   "execution_count": 177,
   "id": "977eaa26-6d65-4a1c-beda-33f8d5dd871e",
   "metadata": {},
   "outputs": [
    {
     "data": {
      "text/plain": [
       "5"
      ]
     },
     "execution_count": 177,
     "metadata": {},
     "output_type": "execute_result"
    }
   ],
   "source": [
    "np.abs(i)"
   ]
  },
  {
   "cell_type": "code",
   "execution_count": 179,
   "id": "8b2997d1-c26a-453e-a7eb-9faa68d56f4b",
   "metadata": {},
   "outputs": [
    {
     "data": {
      "text/plain": [
       "2.1875"
      ]
     },
     "execution_count": 179,
     "metadata": {},
     "output_type": "execute_result"
    }
   ],
   "source": [
    "np.var(ar)\n",
    "#variance"
   ]
  },
  {
   "cell_type": "code",
   "execution_count": 181,
   "id": "94b894a4-9086-42c7-8b41-3f7cd1ef465b",
   "metadata": {},
   "outputs": [
    {
     "data": {
      "text/plain": [
       "1.479019945774904"
      ]
     },
     "execution_count": 181,
     "metadata": {},
     "output_type": "execute_result"
    }
   ],
   "source": [
    "np.std(ar)\n",
    "#standard deviation"
   ]
  },
  {
   "cell_type": "code",
   "execution_count": 185,
   "id": "94c7807d-ae35-40e8-8d8e-6d6300f94209",
   "metadata": {},
   "outputs": [
    {
     "data": {
      "text/plain": [
       "3.5"
      ]
     },
     "execution_count": 185,
     "metadata": {},
     "output_type": "execute_result"
    }
   ],
   "source": [
    "np.median(ar)"
   ]
  },
  {
   "cell_type": "code",
   "execution_count": 187,
   "id": "2624250f-7781-402f-9567-7be92df436b2",
   "metadata": {},
   "outputs": [
    {
     "data": {
      "text/plain": [
       "60"
      ]
     },
     "execution_count": 187,
     "metadata": {},
     "output_type": "execute_result"
    }
   ],
   "source": [
    "np.prod(ar)\n",
    "#factorial"
   ]
  },
  {
   "cell_type": "markdown",
   "id": "82151058-22a6-4066-845e-6818a095db38",
   "metadata": {},
   "source": [
    "#hstack\n",
    "#vstack\n",
    "#split\n",
    "#hsplit\n",
    "#vsplit\n",
    "#aggreation"
   ]
  },
  {
   "cell_type": "code",
   "execution_count": 135,
   "id": "c57a5d14-06e4-47ad-8a48-ebf0d90f4da9",
   "metadata": {},
   "outputs": [],
   "source": [
    "import numpy as np"
   ]
  },
  {
   "cell_type": "code",
   "execution_count": 7,
   "id": "4c905666-29ae-4ae9-9352-0c248302b37f",
   "metadata": {},
   "outputs": [
    {
     "name": "stdout",
     "output_type": "stream",
     "text": [
      "[0 1 2 3 4] [5 5 5 5 5]\n"
     ]
    }
   ],
   "source": [
    "a=np.arange(5)\n",
    "a\n",
    "b=np.full(5,5)\n",
    "print(a,b)"
   ]
  },
  {
   "cell_type": "code",
   "execution_count": 9,
   "id": "ae66c6ab-3734-4317-a337-1fa64e9092b6",
   "metadata": {},
   "outputs": [
    {
     "data": {
      "text/plain": [
       "array([5, 6, 7, 8, 9])"
      ]
     },
     "execution_count": 9,
     "metadata": {},
     "output_type": "execute_result"
    }
   ],
   "source": [
    "a+b"
   ]
  },
  {
   "cell_type": "code",
   "execution_count": 13,
   "id": "c3a9b820-92e1-4501-b43c-ec5bc0276faf",
   "metadata": {},
   "outputs": [
    {
     "data": {
      "text/plain": [
       "array([[3],\n",
       "       [3]])"
      ]
     },
     "execution_count": 13,
     "metadata": {},
     "output_type": "execute_result"
    }
   ],
   "source": [
    "c=np.full(2,3)[:,np.newaxis]\n",
    "c"
   ]
  },
  {
   "cell_type": "code",
   "execution_count": 15,
   "id": "a18de10a-17b3-4918-ba83-b68477d05a9b",
   "metadata": {},
   "outputs": [
    {
     "data": {
      "text/plain": [
       "array([[8, 8, 8, 8, 8],\n",
       "       [8, 8, 8, 8, 8]])"
      ]
     },
     "execution_count": 15,
     "metadata": {},
     "output_type": "execute_result"
    }
   ],
   "source": [
    "b+c"
   ]
  },
  {
   "cell_type": "code",
   "execution_count": 27,
   "id": "f8d68506-e511-40ee-980c-839703288c0b",
   "metadata": {},
   "outputs": [
    {
     "name": "stdout",
     "output_type": "stream",
     "text": [
      "[[1]\n",
      " [1]]\n"
     ]
    },
    {
     "data": {
      "text/plain": [
       "array([[4, 4],\n",
       "       [4, 4]])"
      ]
     },
     "metadata": {},
     "output_type": "display_data"
    },
    {
     "data": {
      "text/plain": [
       "array([[4, 4],\n",
       "       [4, 4]])"
      ]
     },
     "metadata": {},
     "output_type": "display_data"
    },
    {
     "data": {
      "text/plain": [
       "array([[9, 9],\n",
       "       [9, 9]])"
      ]
     },
     "metadata": {},
     "output_type": "display_data"
    }
   ],
   "source": [
    "m=np.full(2,3)\n",
    "n=np.full(2,1)[:,np.newaxis]\n",
    "s=m+n\n",
    "print(n)\n",
    "display(m+n,s)\n",
    "display(s+5)\n",
    "#broadcasting ex matrix is 1x2 and 2x1 =2x2"
   ]
  },
  {
   "cell_type": "code",
   "execution_count": 53,
   "id": "b4c1c551-5bc1-4e81-9643-d648f727f5d7",
   "metadata": {},
   "outputs": [
    {
     "data": {
      "text/plain": [
       "array([[1., 1., 1.],\n",
       "       [1., 1., 1.],\n",
       "       [1., 1., 1.]])"
      ]
     },
     "metadata": {},
     "output_type": "display_data"
    },
    {
     "data": {
      "text/plain": [
       "array([0, 1, 2])"
      ]
     },
     "metadata": {},
     "output_type": "display_data"
    },
    {
     "data": {
      "text/plain": [
       "array([[1., 2., 3.],\n",
       "       [1., 2., 3.],\n",
       "       [1., 2., 3.]])"
      ]
     },
     "metadata": {},
     "output_type": "display_data"
    }
   ],
   "source": [
    "o=np.ones((3,3))\n",
    "a=np.arange(3)\n",
    "display(o,a)\n",
    "display(o+a)"
   ]
  },
  {
   "cell_type": "code",
   "execution_count": 55,
   "id": "64ae66f9-b3a3-42d3-8b30-a0091594b7ca",
   "metadata": {},
   "outputs": [
    {
     "data": {
      "text/plain": [
       "array([False, False,  True])"
      ]
     },
     "execution_count": 55,
     "metadata": {},
     "output_type": "execute_result"
    }
   ],
   "source": [
    "a>1"
   ]
  },
  {
   "cell_type": "code",
   "execution_count": 57,
   "id": "4ca0d180-b290-4bb5-b09b-ac898d7d8130",
   "metadata": {},
   "outputs": [
    {
     "data": {
      "text/plain": [
       "array([False, False,  True])"
      ]
     },
     "execution_count": 57,
     "metadata": {},
     "output_type": "execute_result"
    }
   ],
   "source": [
    "a==2"
   ]
  },
  {
   "cell_type": "code",
   "execution_count": 59,
   "id": "a621e76e-ae46-4df8-8bc9-778fc7b57673",
   "metadata": {},
   "outputs": [
    {
     "data": {
      "text/plain": [
       "array([ True, False, False])"
      ]
     },
     "execution_count": 59,
     "metadata": {},
     "output_type": "execute_result"
    }
   ],
   "source": [
    "a<1"
   ]
  },
  {
   "cell_type": "code",
   "execution_count": 61,
   "id": "0bb98a57-2519-4018-ae0b-bd4f0fc00807",
   "metadata": {},
   "outputs": [
    {
     "data": {
      "text/plain": [
       "array([False, False, False])"
      ]
     },
     "execution_count": 61,
     "metadata": {},
     "output_type": "execute_result"
    }
   ],
   "source": [
    "a<-1"
   ]
  },
  {
   "cell_type": "markdown",
   "id": "69704d83-7993-4381-8fd8-6dff85852dde",
   "metadata": {},
   "source": [
    "#ASSIGMENT-1"
   ]
  },
  {
   "cell_type": "code",
   "execution_count": 1,
   "id": "7572e2ea-0338-4e04-8c0c-027e2645c731",
   "metadata": {},
   "outputs": [],
   "source": [
    "import numpy as np"
   ]
  },
  {
   "cell_type": "code",
   "execution_count": 221,
   "id": "dcbd1228-f47c-434a-b9b9-9ef6ba59e0f1",
   "metadata": {},
   "outputs": [
    {
     "data": {
      "text/plain": [
       "array([0., 0., 0., 0., 0., 0., 0., 0., 0., 0.])"
      ]
     },
     "execution_count": 221,
     "metadata": {},
     "output_type": "execute_result"
    }
   ],
   "source": [
    "#2.Create an array of 10 zeros \n",
    "zeroarray=np.zeros(10)\n",
    "zeroarray"
   ]
  },
  {
   "cell_type": "code",
   "execution_count": 223,
   "id": "4bf536b6-ae40-4a49-8665-c329bc008ca2",
   "metadata": {},
   "outputs": [
    {
     "data": {
      "text/plain": [
       "array([1., 1., 1., 1., 1., 1., 1., 1., 1., 1.])"
      ]
     },
     "execution_count": 223,
     "metadata": {},
     "output_type": "execute_result"
    }
   ],
   "source": [
    "#3.Create an array of 10 ones  \n",
    "onesarray=np.ones(10)\n",
    "onesarray"
   ]
  },
  {
   "cell_type": "code",
   "execution_count": 225,
   "id": "2be779af-25b0-4e7e-8964-37bdcb738287",
   "metadata": {},
   "outputs": [
    {
     "data": {
      "text/plain": [
       "array([10, 11, 12, 13, 14, 15, 16, 17, 18, 19, 20, 21, 22, 23, 24, 25, 26,\n",
       "       27, 28, 29, 30, 31, 32, 33, 34, 35, 36, 37, 38, 39, 40, 41, 42, 43,\n",
       "       44, 45, 46, 47, 48, 49, 50])"
      ]
     },
     "execution_count": 225,
     "metadata": {},
     "output_type": "execute_result"
    }
   ],
   "source": [
    "#4.Create an array of the integers from 10 to 50 \n",
    "integerarray=np.arange(10, 51)\n",
    "integerarray"
   ]
  },
  {
   "cell_type": "code",
   "execution_count": 227,
   "id": "20dfd353-73a0-4c75-9e9b-d36ea830608c",
   "metadata": {},
   "outputs": [
    {
     "data": {
      "text/plain": [
       "array([10, 12, 14, 16, 18, 20, 22, 24, 26, 28, 30, 32, 34, 36, 38, 40, 42,\n",
       "       44, 46, 48, 50])"
      ]
     },
     "execution_count": 227,
     "metadata": {},
     "output_type": "execute_result"
    }
   ],
   "source": [
    "#5.Create an array of all the even integers from 10 to 50\n",
    "even_array=np.arange(10, 51, 2)\n",
    "even_array"
   ]
  },
  {
   "cell_type": "code",
   "execution_count": 229,
   "id": "0dc29508-872f-4419-b0a7-0fe9712be281",
   "metadata": {},
   "outputs": [
    {
     "data": {
      "text/plain": [
       "array([[0, 1, 2],\n",
       "       [3, 4, 5],\n",
       "       [6, 7, 8]])"
      ]
     },
     "execution_count": 229,
     "metadata": {},
     "output_type": "execute_result"
    }
   ],
   "source": [
    "#6.Create a 3x3 matrix with values ranging from 0 to 8 \n",
    "A1=np.arange(0,9).reshape(3,3)\n",
    "A1"
   ]
  },
  {
   "cell_type": "code",
   "execution_count": 233,
   "id": "f16db51e-a4bc-414a-9500-9181a794a078",
   "metadata": {},
   "outputs": [
    {
     "data": {
      "text/plain": [
       "array([[1., 0., 0.],\n",
       "       [0., 1., 0.],\n",
       "       [0., 0., 1.]])"
      ]
     },
     "execution_count": 233,
     "metadata": {},
     "output_type": "execute_result"
    }
   ],
   "source": [
    "#7.Create a 3x3 identity matrix \n",
    "A2=np.eye(3,3)\n",
    "A2"
   ]
  },
  {
   "cell_type": "code",
   "execution_count": 237,
   "id": "01854ec5-a788-4679-b7cd-deb045b3803e",
   "metadata": {},
   "outputs": [
    {
     "data": {
      "text/plain": [
       "array([0.86400257, 0.23193662, 0.2809262 ])"
      ]
     },
     "execution_count": 237,
     "metadata": {},
     "output_type": "execute_result"
    }
   ],
   "source": [
    "#8. use NumPy to generate a random number between 0 to 1\n",
    "random_number=np.random.rand(3)\n",
    "random_number"
   ]
  },
  {
   "cell_type": "code",
   "execution_count": 241,
   "id": "64a6acbf-a287-42bd-a6d9-4a632ce3f399",
   "metadata": {},
   "outputs": [
    {
     "data": {
      "text/plain": [
       "array([-0.53440906, -0.72826779,  0.98681451, -1.49580251,  1.36176893,\n",
       "       -2.09496283, -0.30678278,  0.60941239, -1.22656278,  1.02499428,\n",
       "        0.8493212 ,  0.47793336, -0.95375908, -0.07042205,  2.07895413,\n",
       "       -0.71551285,  0.0371595 , -1.81961713, -1.25185262, -0.49519268,\n",
       "        2.15748638,  0.18668134, -0.45726042, -0.77058391,  1.241607  ])"
      ]
     },
     "execution_count": 241,
     "metadata": {},
     "output_type": "execute_result"
    }
   ],
   "source": [
    "#9. Use Numpy to generate an array of 25 random numbers sampled from a standard normal distribution  \n",
    "random_array1 = np.random.randn(25)\n",
    "random_array1"
   ]
  },
  {
   "cell_type": "code",
   "execution_count": 253,
   "id": "89326c35-563a-46e8-8815-1f0baaee346e",
   "metadata": {},
   "outputs": [
    {
     "data": {
      "text/plain": [
       "array([[0.01, 0.02, 0.03, 0.04, 0.05, 0.06, 0.07, 0.08, 0.09, 0.1 ],\n",
       "       [0.11, 0.12, 0.13, 0.14, 0.15, 0.16, 0.17, 0.18, 0.19, 0.2 ],\n",
       "       [0.21, 0.22, 0.23, 0.24, 0.25, 0.26, 0.27, 0.28, 0.29, 0.3 ],\n",
       "       [0.31, 0.32, 0.33, 0.34, 0.35, 0.36, 0.37, 0.38, 0.39, 0.4 ],\n",
       "       [0.41, 0.42, 0.43, 0.44, 0.45, 0.46, 0.47, 0.48, 0.49, 0.5 ],\n",
       "       [0.51, 0.52, 0.53, 0.54, 0.55, 0.56, 0.57, 0.58, 0.59, 0.6 ],\n",
       "       [0.61, 0.62, 0.63, 0.64, 0.65, 0.66, 0.67, 0.68, 0.69, 0.7 ],\n",
       "       [0.71, 0.72, 0.73, 0.74, 0.75, 0.76, 0.77, 0.78, 0.79, 0.8 ],\n",
       "       [0.81, 0.82, 0.83, 0.84, 0.85, 0.86, 0.87, 0.88, 0.89, 0.9 ],\n",
       "       [0.91, 0.92, 0.93, 0.94, 0.95, 0.96, 0.97, 0.98, 0.99, 1.  ]])"
      ]
     },
     "execution_count": 253,
     "metadata": {},
     "output_type": "execute_result"
    }
   ],
   "source": [
    "#10. Create a matrix of 10x10 matrix of linearly spaced elements from 0.01 to 1 \n",
    "linearelements = np.linspace(0.01, 1, 100).reshape(10,10)\n",
    "linearelements "
   ]
  },
  {
   "cell_type": "code",
   "execution_count": 255,
   "id": "321d47ec-0af2-4873-af7f-10c022c2d8dd",
   "metadata": {},
   "outputs": [
    {
     "data": {
      "text/plain": [
       "array([0.        , 0.05263158, 0.10526316, 0.15789474, 0.21052632,\n",
       "       0.26315789, 0.31578947, 0.36842105, 0.42105263, 0.47368421,\n",
       "       0.52631579, 0.57894737, 0.63157895, 0.68421053, 0.73684211,\n",
       "       0.78947368, 0.84210526, 0.89473684, 0.94736842, 1.        ])"
      ]
     },
     "execution_count": 255,
     "metadata": {},
     "output_type": "execute_result"
    }
   ],
   "source": [
    "#11. Create an array of 20 linearly spaced points between 0 and 1\n",
    "linear2 = np.linspace(0, 1, 20)\n",
    "linear2 "
   ]
  },
  {
   "cell_type": "code",
   "execution_count": 265,
   "id": "5af2a9d5-07cf-4426-971d-a223d5e1ccac",
   "metadata": {},
   "outputs": [
    {
     "data": {
      "text/plain": [
       "array([[ 1,  2,  3,  4,  5],\n",
       "       [ 6,  7,  8,  9, 10],\n",
       "       [11, 12, 13, 14, 15],\n",
       "       [16, 17, 18, 19, 20],\n",
       "       [21, 22, 23, 24, 25]])"
      ]
     },
     "execution_count": 265,
     "metadata": {},
     "output_type": "execute_result"
    }
   ],
   "source": [
    "#12.Create a 5x5 matrix as  \n",
    "\n",
    "A4 = np.array([[ 1,  2,  3,  4,  5], \n",
    "               [ 6,  7,  8,  9, 10], \n",
    "               [11, 12, 13, 14, 15], \n",
    "               [16, 17, 18, 19, 20], \n",
    "               [21, 22, 23, 24, 25]])\n",
    "A4"
   ]
  },
  {
   "cell_type": "code",
   "execution_count": 273,
   "id": "7c0c0493-d864-4a06-9126-ec07b665a85e",
   "metadata": {},
   "outputs": [
    {
     "data": {
      "text/plain": [
       "array([[ 7,  8,  9, 10],\n",
       "       [12, 13, 14, 15],\n",
       "       [17, 18, 19, 20]])"
      ]
     },
     "execution_count": 273,
     "metadata": {},
     "output_type": "execute_result"
    }
   ],
   "source": [
    "#find following using slicing \n",
    "submatrix = A4[1:4, 1:5]\n",
    "submatrix "
   ]
  },
  {
   "cell_type": "code",
   "execution_count": 277,
   "id": "1f9f8226-fda0-4f3e-9f32-f65284748bf1",
   "metadata": {},
   "outputs": [
    {
     "data": {
      "text/plain": [
       "20"
      ]
     },
     "execution_count": 277,
     "metadata": {},
     "output_type": "execute_result"
    }
   ],
   "source": [
    "#b.20\n",
    "b=A4[3, 4]\n",
    "b"
   ]
  },
  {
   "cell_type": "code",
   "execution_count": 283,
   "id": "1049df99-9549-484d-af88-dffe485bf1f4",
   "metadata": {},
   "outputs": [
    {
     "data": {
      "text/plain": [
       "array([ 7, 12, 17])"
      ]
     },
     "execution_count": 283,
     "metadata": {},
     "output_type": "execute_result"
    }
   ],
   "source": [
    "# c\n",
    "submatrixc = A4[1:4, 1]\n",
    "submatrixc"
   ]
  },
  {
   "cell_type": "code",
   "execution_count": 287,
   "id": "c47b0bea-98c3-4776-8b80-24c524d8f092",
   "metadata": {},
   "outputs": [
    {
     "data": {
      "text/plain": [
       "array([21, 22, 23, 24, 25])"
      ]
     },
     "execution_count": 287,
     "metadata": {},
     "output_type": "execute_result"
    }
   ],
   "source": [
    "#d.array([21, 22, 23, 24, 25]) \n",
    "d = A4[4]\n",
    "d"
   ]
  },
  {
   "cell_type": "code",
   "execution_count": 293,
   "id": "4c1d0bb1-af3a-415d-ad8a-2898c7273b79",
   "metadata": {},
   "outputs": [
    {
     "data": {
      "text/plain": [
       "array([[16, 17, 18, 19, 20],\n",
       "       [21, 22, 23, 24, 25]])"
      ]
     },
     "execution_count": 293,
     "metadata": {},
     "output_type": "execute_result"
    }
   ],
   "source": [
    "#e.\n",
    "e = A4[3:5]\n",
    "e"
   ]
  },
  {
   "cell_type": "code",
   "execution_count": 295,
   "id": "b5da5baf-cff0-4398-ab53-27a476870e73",
   "metadata": {},
   "outputs": [
    {
     "data": {
      "text/plain": [
       "325"
      ]
     },
     "execution_count": 295,
     "metadata": {},
     "output_type": "execute_result"
    }
   ],
   "source": [
    "#13. Get sum of all values in matrix\n",
    "sum=np.sum(A4)\n",
    "sum"
   ]
  },
  {
   "cell_type": "code",
   "execution_count": 297,
   "id": "76fbfd62-b795-4467-ab35-e1706425b451",
   "metadata": {},
   "outputs": [
    {
     "data": {
      "text/plain": [
       "array([55, 60, 65, 70, 75])"
      ]
     },
     "execution_count": 297,
     "metadata": {},
     "output_type": "execute_result"
    }
   ],
   "source": [
    "#14.Get sum of all the columns in matrix\n",
    "sumcolumnwise=np.sum(A4,axis=0)\n",
    "sumcolumnwise"
   ]
  },
  {
   "cell_type": "code",
   "execution_count": 301,
   "id": "70e09072-c5d8-49cb-acac-2fa254c6d04a",
   "metadata": {},
   "outputs": [
    {
     "data": {
      "text/plain": [
       "array([1.41421356, 1.41421356, 1.41421356, 1.41421356, 1.41421356])"
      ]
     },
     "execution_count": 301,
     "metadata": {},
     "output_type": "execute_result"
    }
   ],
   "source": [
    "#15. Get Standard deviation , varience , minimum, maximum from matrix row wis.\n",
    "Standarddeviation=np.std(A4,axis=1)\n",
    "Standarddeviation"
   ]
  },
  {
   "cell_type": "code",
   "execution_count": 303,
   "id": "df227070-3a94-4a8b-9856-37ee19df36ab",
   "metadata": {},
   "outputs": [
    {
     "data": {
      "text/plain": [
       "array([2., 2., 2., 2., 2.])"
      ]
     },
     "execution_count": 303,
     "metadata": {},
     "output_type": "execute_result"
    }
   ],
   "source": [
    "varience=np.var(A4,axis=1)\n",
    "varience "
   ]
  },
  {
   "cell_type": "code",
   "execution_count": 305,
   "id": "1a114640-c92a-450e-856c-707dfff8d553",
   "metadata": {},
   "outputs": [
    {
     "data": {
      "text/plain": [
       "array([ 1,  6, 11, 16, 21])"
      ]
     },
     "execution_count": 305,
     "metadata": {},
     "output_type": "execute_result"
    }
   ],
   "source": [
    "minimum=np.min(A4,axis=1)\n",
    "minimum"
   ]
  },
  {
   "cell_type": "code",
   "execution_count": 307,
   "id": "b3db3473-4f47-4436-8ef6-b8c58449cd28",
   "metadata": {},
   "outputs": [
    {
     "data": {
      "text/plain": [
       "array([ 5, 10, 15, 20, 25])"
      ]
     },
     "execution_count": 307,
     "metadata": {},
     "output_type": "execute_result"
    }
   ],
   "source": [
    "maximum=np.max(A4,axis=1)\n",
    "maximum"
   ]
  },
  {
   "cell_type": "code",
   "execution_count": 311,
   "id": "5899e6c2-a31a-4a66-90a2-6d40cdcae3e6",
   "metadata": {},
   "outputs": [
    {
     "data": {
      "text/plain": [
       "array([[0., 0., 0., 0., 0.],\n",
       "       [0., 0., 0., 0., 0.],\n",
       "       [0., 0., 0., 0., 0.],\n",
       "       [0., 0., 0., 0., 0.],\n",
       "       [0., 0., 0., 0., 0.]])"
      ]
     },
     "execution_count": 311,
     "metadata": {},
     "output_type": "execute_result"
    }
   ],
   "source": [
    "#16.create 2 d matrix with all border values nan and\n",
    "A5=np.zeros((5,5))\n",
    "A5"
   ]
  },
  {
   "cell_type": "code",
   "execution_count": 313,
   "id": "7137e9d4-177d-4f81-937c-e035d2f98ee7",
   "metadata": {},
   "outputs": [
    {
     "data": {
      "text/plain": [
       "array([[nan, nan, nan, nan, nan],\n",
       "       [ 0.,  0.,  0.,  0.,  0.],\n",
       "       [ 0.,  0.,  0.,  0.,  0.],\n",
       "       [ 0.,  0.,  0.,  0.,  0.],\n",
       "       [ 0.,  0.,  0.,  0.,  0.]])"
      ]
     },
     "execution_count": 313,
     "metadata": {},
     "output_type": "execute_result"
    }
   ],
   "source": [
    "A5[0, :] = np.nan         \n",
    "A5"
   ]
  },
  {
   "cell_type": "code",
   "execution_count": 315,
   "id": "2300f245-e289-482c-a3c7-d7786bf919e6",
   "metadata": {},
   "outputs": [
    {
     "data": {
      "text/plain": [
       "array([[nan, nan, nan, nan, nan],\n",
       "       [ 0.,  0.,  0.,  0.,  0.],\n",
       "       [ 0.,  0.,  0.,  0.,  0.],\n",
       "       [ 0.,  0.,  0.,  0.,  0.],\n",
       "       [nan, nan, nan, nan, nan]])"
      ]
     },
     "execution_count": 315,
     "metadata": {},
     "output_type": "execute_result"
    }
   ],
   "source": [
    "A5[-1, :] = np.nan         \n",
    "A5"
   ]
  },
  {
   "cell_type": "code",
   "execution_count": 317,
   "id": "b31f837b-d6f8-43fa-91ff-be92d9891e82",
   "metadata": {},
   "outputs": [
    {
     "data": {
      "text/plain": [
       "array([[nan, nan, nan, nan, nan],\n",
       "       [nan,  0.,  0.,  0.,  0.],\n",
       "       [nan,  0.,  0.,  0.,  0.],\n",
       "       [nan,  0.,  0.,  0.,  0.],\n",
       "       [nan, nan, nan, nan, nan]])"
      ]
     },
     "execution_count": 317,
     "metadata": {},
     "output_type": "execute_result"
    }
   ],
   "source": [
    "A5[:, 0] = np.nan          \n",
    "A5"
   ]
  },
  {
   "cell_type": "code",
   "execution_count": 319,
   "id": "fcdb418d-b80e-496d-8a53-16a252883a5c",
   "metadata": {},
   "outputs": [
    {
     "data": {
      "text/plain": [
       "array([[nan, nan, nan, nan, nan],\n",
       "       [nan,  0.,  0.,  0., nan],\n",
       "       [nan,  0.,  0.,  0., nan],\n",
       "       [nan,  0.,  0.,  0., nan],\n",
       "       [nan, nan, nan, nan, nan]])"
      ]
     },
     "execution_count": 319,
     "metadata": {},
     "output_type": "execute_result"
    }
   ],
   "source": [
    "A5[:, -1] = np.nan\n",
    "A5"
   ]
  },
  {
   "cell_type": "markdown",
   "id": "5111ac6b-3ee8-423f-a095-3c60a6fc130e",
   "metadata": {},
   "source": [
    "#ASSIGMENT-2"
   ]
  },
  {
   "cell_type": "code",
   "execution_count": 65,
   "id": "b0b93c06-e2ed-4001-b7ae-5c9f44860785",
   "metadata": {},
   "outputs": [
    {
     "data": {
      "text/plain": [
       "array([[[ 1,  2,  3],\n",
       "        [ 4,  5,  6]],\n",
       "\n",
       "       [[ 7,  8,  9],\n",
       "        [10, 11, 12]],\n",
       "\n",
       "       [[13, 14, 15],\n",
       "        [16, 17, 18]]])"
      ]
     },
     "execution_count": 65,
     "metadata": {},
     "output_type": "execute_result"
    }
   ],
   "source": [
    "#1.Create 1-D, 2-D and 3-D numpy array\n",
    "array1d = np.arange(1, 3)\n",
    "array1d\n",
    "array2d = np.arange(1,10).reshape(3,3)\n",
    "array2d\n",
    "array3d = np.arange(1,19).reshape(3,2,3)\n",
    "array3d\n"
   ]
  },
  {
   "cell_type": "code",
   "execution_count": 67,
   "id": "fc74f418-c18a-436f-a96f-a94c066739da",
   "metadata": {},
   "outputs": [
    {
     "data": {
      "text/plain": [
       "dtype('int32')"
      ]
     },
     "execution_count": 67,
     "metadata": {},
     "output_type": "execute_result"
    }
   ],
   "source": [
    "#2. Print data type of array. \n",
    "array1d.dtype"
   ]
  },
  {
   "cell_type": "code",
   "execution_count": 77,
   "id": "b066f1af-2669-47a9-af67-389d20fcbb30",
   "metadata": {},
   "outputs": [
    {
     "data": {
      "text/plain": [
       "(2,)"
      ]
     },
     "execution_count": 77,
     "metadata": {},
     "output_type": "execute_result"
    }
   ],
   "source": [
    "#3.Print shape and dimensions of all the three different array.\n",
    "array1d.ndim\n",
    "array1d.shape\n"
   ]
  },
  {
   "cell_type": "code",
   "execution_count": 79,
   "id": "2434a9a3-53d8-4059-b509-f4747a892c3e",
   "metadata": {},
   "outputs": [
    {
     "data": {
      "text/plain": [
       "(3, 3)"
      ]
     },
     "execution_count": 79,
     "metadata": {},
     "output_type": "execute_result"
    }
   ],
   "source": [
    "array2d.ndim\n",
    "array2d.shape"
   ]
  },
  {
   "cell_type": "code",
   "execution_count": 81,
   "id": "3de92844-7fed-4227-a7c7-b02330b44835",
   "metadata": {},
   "outputs": [
    {
     "data": {
      "text/plain": [
       "(3, 2, 3)"
      ]
     },
     "execution_count": 81,
     "metadata": {},
     "output_type": "execute_result"
    }
   ],
   "source": [
    "array3d.ndim\n",
    "array3d.shape"
   ]
  },
  {
   "cell_type": "code",
   "execution_count": 83,
   "id": "8146767f-b239-4571-8015-341ad7cc26c2",
   "metadata": {},
   "outputs": [
    {
     "data": {
      "text/plain": [
       "array([0., 0., 0., 0., 0., 0., 0., 0., 0., 0., 0., 0.])"
      ]
     },
     "execution_count": 83,
     "metadata": {},
     "output_type": "execute_result"
    }
   ],
   "source": [
    "#4.Create another 1-D array of 12 elements filled with zero \n",
    "np.zeros(12)"
   ]
  },
  {
   "cell_type": "code",
   "execution_count": 85,
   "id": "4229b4fd-144d-4d6b-b08c-fde09065a841",
   "metadata": {},
   "outputs": [
    {
     "data": {
      "text/plain": [
       "array([[1., 1., 1., 1.],\n",
       "       [1., 1., 1., 1.],\n",
       "       [1., 1., 1., 1.]])"
      ]
     },
     "execution_count": 85,
     "metadata": {},
     "output_type": "execute_result"
    }
   ],
   "source": [
    "#5.Create another 2-D array elements filled with ones. \n",
    "np.ones((3,4))"
   ]
  },
  {
   "cell_type": "code",
   "execution_count": 139,
   "id": "46160030-187f-4fee-a3da-ee80bb452cfb",
   "metadata": {},
   "outputs": [
    {
     "name": "stdout",
     "output_type": "stream",
     "text": [
      "[85 90 78 92 88 76 95 89 84 91 87 93 82 79 86 94 77 83 80 96]\n"
     ]
    }
   ],
   "source": [
    "#6.Create a 1-D array known as Maths Marks out of 100 having 20 elements.\n",
    "Maths_Marks = np.array([85, 90, 78, 92, 88, 76, 95, 89, 84, 91,\n",
    "                        87, 93, 82, 79, 86, 94, 77, 83, 80, 96])\n",
    "print(Maths_Marks)\n"
   ]
  },
  {
   "cell_type": "code",
   "execution_count": 89,
   "id": "53b7c132-37af-4e0e-9c06-8fe999619e64",
   "metadata": {},
   "outputs": [
    {
     "data": {
      "text/plain": [
       "[5, 2, 8, 1, 3]"
      ]
     },
     "execution_count": 89,
     "metadata": {},
     "output_type": "execute_result"
    }
   ],
   "source": [
    "#7.Sort the above array in ascending and descending order. \n",
    "array = [5,2,8,1,3]\n",
    "array"
   ]
  },
  {
   "cell_type": "code",
   "execution_count": 91,
   "id": "5269bf0d-e4b4-40dd-9626-97ee9a66b630",
   "metadata": {},
   "outputs": [
    {
     "data": {
      "text/plain": [
       "[1, 2, 3, 5, 8]"
      ]
     },
     "execution_count": 91,
     "metadata": {},
     "output_type": "execute_result"
    }
   ],
   "source": [
    "ascending = sorted(array)\n",
    "ascending"
   ]
  },
  {
   "cell_type": "code",
   "execution_count": 93,
   "id": "b49c2c23-d1ac-4826-998b-60eb2ffa59d6",
   "metadata": {},
   "outputs": [
    {
     "data": {
      "text/plain": [
       "[8, 5, 3, 2, 1]"
      ]
     },
     "execution_count": 93,
     "metadata": {},
     "output_type": "execute_result"
    }
   ],
   "source": [
    "descending = sorted(array,reverse=True)\n",
    "descending"
   ]
  },
  {
   "cell_type": "code",
   "execution_count": 213,
   "id": "c4b54909-92f8-461e-a4b3-6f4ca695242e",
   "metadata": {},
   "outputs": [
    {
     "data": {
      "text/plain": [
       "array([42, 17,  8, 99, 23, 56, 78])"
      ]
     },
     "execution_count": 213,
     "metadata": {},
     "output_type": "execute_result"
    }
   ],
   "source": [
    "#8.Create a copy of sorted array to another variable by deep copying. \n",
    "D1 = np.array([42, 17, 8, 99, 23, 56, 78])\n",
    "D1"
   ]
  },
  {
   "cell_type": "code",
   "execution_count": 217,
   "id": "95d3e347-9af1-4da5-a69e-03829320eaae",
   "metadata": {},
   "outputs": [
    {
     "data": {
      "text/plain": [
       "array([ 8, 17, 23, 42, 56, 78, 99])"
      ]
     },
     "execution_count": 217,
     "metadata": {},
     "output_type": "execute_result"
    }
   ],
   "source": [
    "sortedarray = np.sort(D1)\n",
    "sortedarray"
   ]
  },
  {
   "cell_type": "code",
   "execution_count": 219,
   "id": "64cd645c-c0c7-4f8b-9b17-3ebecb9f7014",
   "metadata": {},
   "outputs": [
    {
     "data": {
      "text/plain": [
       "array([ 8, 17, 23, 42, 56, 78, 99])"
      ]
     },
     "execution_count": 219,
     "metadata": {},
     "output_type": "execute_result"
    }
   ],
   "source": [
    "deepcopyarray = sortedarray.copy()\n",
    "deepcopyarray"
   ]
  },
  {
   "cell_type": "code",
   "execution_count": 99,
   "id": "9fe96993-f24e-4ef7-b2d8-72e82a7ca9f4",
   "metadata": {},
   "outputs": [
    {
     "data": {
      "text/plain": [
       "array([[1., 0., 0., 0., 0.],\n",
       "       [0., 1., 0., 0., 0.],\n",
       "       [0., 0., 1., 0., 0.],\n",
       "       [0., 0., 0., 1., 0.],\n",
       "       [0., 0., 0., 0., 1.]])"
      ]
     },
     "execution_count": 99,
     "metadata": {},
     "output_type": "execute_result"
    }
   ],
   "source": [
    "#9. Create 2-D array of 5x5 which is an identity matrix and then convert 1D.\n",
    "a1=np.eye(5,5)\n",
    "a1"
   ]
  },
  {
   "cell_type": "code",
   "execution_count": 103,
   "id": "39cc6375-1e19-4c63-8491-b9e73703303c",
   "metadata": {},
   "outputs": [
    {
     "data": {
      "text/plain": [
       "array([1., 0., 0., 0., 0., 0., 1., 0., 0., 0., 0., 0., 1., 0., 0., 0., 0.,\n",
       "       0., 1., 0., 0., 0., 0., 0., 1.])"
      ]
     },
     "execution_count": 103,
     "metadata": {},
     "output_type": "execute_result"
    }
   ],
   "source": [
    "a1.flatten()"
   ]
  },
  {
   "cell_type": "code",
   "execution_count": 105,
   "id": "6860c7da-5541-4562-90fc-a718a8700a20",
   "metadata": {},
   "outputs": [
    {
     "data": {
      "text/plain": [
       "array([[0, 1, 2],\n",
       "       [3, 4, 5],\n",
       "       [6, 7, 8],\n",
       "       [1, 1, 1]])"
      ]
     },
     "execution_count": 105,
     "metadata": {},
     "output_type": "execute_result"
    }
   ],
   "source": [
    "#10.Create 2-D array of 3x3. Add one more row to it. \n",
    "a9=np.array([[1,1,1]])\n",
    "a9\n",
    "arr7=np.arange(0,9).reshape(3,3)\n",
    "arr7\n",
    "np.concatenate([arr7,a9])\n"
   ]
  },
  {
   "cell_type": "code",
   "execution_count": 145,
   "id": "786258df-379f-4f89-a292-891dd9ae45ee",
   "metadata": {},
   "outputs": [
    {
     "data": {
      "text/plain": [
       "array([[ 0,  1,  2,  3,  4],\n",
       "       [ 5,  6,  7,  8,  9],\n",
       "       [10, 11, 12, 13, 14],\n",
       "       [15, 16, 17, 18, 19]])"
      ]
     },
     "execution_count": 145,
     "metadata": {},
     "output_type": "execute_result"
    }
   ],
   "source": [
    "#11.Split above array created vertically and horizontally.\n",
    "split=np.arange(0,20).reshape(4,5)\n",
    "split"
   ]
  },
  {
   "cell_type": "code",
   "execution_count": 151,
   "id": "0097c917-ef04-44e2-96f7-57f0129ed876",
   "metadata": {},
   "outputs": [
    {
     "data": {
      "text/plain": [
       "[array([[0, 1, 2, 3, 4]]),\n",
       " array([[5, 6, 7, 8, 9]]),\n",
       " array([[10, 11, 12, 13, 14]]),\n",
       " array([[15, 16, 17, 18, 19]])]"
      ]
     },
     "execution_count": 151,
     "metadata": {},
     "output_type": "execute_result"
    }
   ],
   "source": [
    "vertically=np.vsplit(split,4)\n",
    "vertically"
   ]
  },
  {
   "cell_type": "code",
   "execution_count": 169,
   "id": "3d32f3db-5ec2-4ab7-84dd-0309c5d791cf",
   "metadata": {},
   "outputs": [
    {
     "data": {
      "text/plain": [
       "[array([[ 0],\n",
       "        [ 5],\n",
       "        [10],\n",
       "        [15]]),\n",
       " array([[ 1],\n",
       "        [ 6],\n",
       "        [11],\n",
       "        [16]]),\n",
       " array([[ 2],\n",
       "        [ 7],\n",
       "        [12],\n",
       "        [17]]),\n",
       " array([[ 3],\n",
       "        [ 8],\n",
       "        [13],\n",
       "        [18]]),\n",
       " array([[ 4],\n",
       "        [ 9],\n",
       "        [14],\n",
       "        [19]])]"
      ]
     },
     "execution_count": 169,
     "metadata": {},
     "output_type": "execute_result"
    }
   ],
   "source": [
    "horizontally=np.hsplit(split,5)\n",
    "horizontally"
   ]
  },
  {
   "cell_type": "code",
   "execution_count": 173,
   "id": "4121cdd2-2a40-4c95-b35e-9e3c38edec2c",
   "metadata": {},
   "outputs": [
    {
     "data": {
      "text/plain": [
       "array([[1., 0., 0., 0.],\n",
       "       [0., 1., 0., 0.],\n",
       "       [0., 0., 1., 0.],\n",
       "       [0., 0., 0., 1.]])"
      ]
     },
     "execution_count": 173,
     "metadata": {},
     "output_type": "execute_result"
    }
   ],
   "source": [
    "#12.Create 4x4 identity matrix. Add 4 to each element.\n",
    "identity=np.eye(4)\n",
    "identity"
   ]
  },
  {
   "cell_type": "code",
   "execution_count": 177,
   "id": "bc661aa5-9a67-4c38-83f9-3a679a3d8aed",
   "metadata": {},
   "outputs": [
    {
     "data": {
      "text/plain": [
       "array([[5., 4., 4., 4.],\n",
       "       [4., 5., 4., 4.],\n",
       "       [4., 4., 5., 4.],\n",
       "       [4., 4., 4., 5.]])"
      ]
     },
     "execution_count": 177,
     "metadata": {},
     "output_type": "execute_result"
    }
   ],
   "source": [
    "modify=identity+4\n",
    "modify"
   ]
  },
  {
   "cell_type": "code",
   "execution_count": 183,
   "id": "51eaf476-b1f8-444a-80f8-1a3e31272cf1",
   "metadata": {},
   "outputs": [
    {
     "data": {
      "text/plain": [
       "array([3.1415, 2.7182, 1.4142, 9.8066, 6.626 , 7.389 ])"
      ]
     },
     "execution_count": 183,
     "metadata": {},
     "output_type": "execute_result"
    }
   ],
   "source": [
    "#13. Create 1-D array. Initialize with floating point values. Display its ceil,floor and round (with 2 decimal’s). \n",
    "floatarray= np.array([3.1415, 2.7182, 1.4142, 9.8066, 6.626, 7.389])\n",
    "floatarray"
   ]
  },
  {
   "cell_type": "code",
   "execution_count": 187,
   "id": "67f5c728-0975-4065-8a12-6669aff86d3c",
   "metadata": {},
   "outputs": [
    {
     "data": {
      "text/plain": [
       "array([ 4.,  3.,  2., 10.,  7.,  8.])"
      ]
     },
     "execution_count": 187,
     "metadata": {},
     "output_type": "execute_result"
    }
   ],
   "source": [
    "ceilarray=np.ceil(floatarray)\n",
    "ceilarray"
   ]
  },
  {
   "cell_type": "code",
   "execution_count": 191,
   "id": "c593ab0f-73a9-420b-b4ea-1b0521a655dc",
   "metadata": {},
   "outputs": [
    {
     "data": {
      "text/plain": [
       "array([3., 2., 1., 9., 6., 7.])"
      ]
     },
     "execution_count": 191,
     "metadata": {},
     "output_type": "execute_result"
    }
   ],
   "source": [
    "floorarray=np.floor(floatarray)\n",
    "floorarray"
   ]
  },
  {
   "cell_type": "code",
   "execution_count": 193,
   "id": "3f9be1b0-57cc-4451-bf8c-51d579a0e34d",
   "metadata": {},
   "outputs": [
    {
     "data": {
      "text/plain": [
       "array([ 3.,  3.,  1., 10.,  7.,  7.])"
      ]
     },
     "execution_count": 193,
     "metadata": {},
     "output_type": "execute_result"
    }
   ],
   "source": [
    "roundarray=np.round(floatarray)\n",
    "roundarray"
   ]
  },
  {
   "cell_type": "code",
   "execution_count": 107,
   "id": "aada6e08-89ad-4532-a70e-1bac2e27a057",
   "metadata": {},
   "outputs": [
    {
     "data": {
      "text/plain": [
       "array([[ 0,  1,  2,  3,  4],\n",
       "       [ 5,  6,  7,  8,  9],\n",
       "       [10, 11, 12, 13, 14],\n",
       "       [15, 16, 17, 18, 19],\n",
       "       [20, 21, 22, 23, 24]])"
      ]
     },
     "execution_count": 107,
     "metadata": {},
     "output_type": "execute_result"
    }
   ],
   "source": [
    "#14. Create 5x5 matrix. Display min, max, variance and standard deviation column-wise.\n",
    "a11=np.arange(0,25).reshape(5,5)\n",
    "a11"
   ]
  },
  {
   "cell_type": "code",
   "execution_count": 195,
   "id": "7ecf4530-ebae-4427-95fd-0e0ffa43d0d7",
   "metadata": {},
   "outputs": [
    {
     "data": {
      "text/plain": [
       "array([0, 1, 2, 3, 4])"
      ]
     },
     "execution_count": 195,
     "metadata": {},
     "output_type": "execute_result"
    }
   ],
   "source": [
    "np.min(a11,axis=0)"
   ]
  },
  {
   "cell_type": "code",
   "execution_count": 199,
   "id": "7ee3d51f-8266-4e00-8adf-026d87a95cb2",
   "metadata": {},
   "outputs": [
    {
     "data": {
      "text/plain": [
       "array([20, 21, 22, 23, 24])"
      ]
     },
     "execution_count": 199,
     "metadata": {},
     "output_type": "execute_result"
    }
   ],
   "source": [
    "np.max(a11,axis=0)"
   ]
  },
  {
   "cell_type": "code",
   "execution_count": 201,
   "id": "604dfde6-b81f-43c8-bb7f-1770037faba3",
   "metadata": {},
   "outputs": [
    {
     "data": {
      "text/plain": [
       "array([50., 50., 50., 50., 50.])"
      ]
     },
     "execution_count": 201,
     "metadata": {},
     "output_type": "execute_result"
    }
   ],
   "source": [
    "np.var(a11,axis=0)"
   ]
  },
  {
   "cell_type": "code",
   "execution_count": 203,
   "id": "ce481f00-875b-45f9-8b47-7f8d3d0e3250",
   "metadata": {},
   "outputs": [
    {
     "data": {
      "text/plain": [
       "array([7.07106781, 7.07106781, 7.07106781, 7.07106781, 7.07106781])"
      ]
     },
     "execution_count": 203,
     "metadata": {},
     "output_type": "execute_result"
    }
   ],
   "source": [
    "np.std(a11,axis=0)"
   ]
  },
  {
   "cell_type": "code",
   "execution_count": 205,
   "id": "8131170e-542b-4ba5-8836-0bd6170e9a26",
   "metadata": {},
   "outputs": [
    {
     "data": {
      "text/plain": [
       "array([0., 0., 0., 0., 0., 0., 0., 0., 0., 0.])"
      ]
     },
     "execution_count": 205,
     "metadata": {},
     "output_type": "execute_result"
    }
   ],
   "source": [
    "#15.Create a null vector of size 10 with 6th value filled with 200. \n",
    "nullvector=np.zeros(10)\n",
    "nullvector"
   ]
  },
  {
   "cell_type": "code",
   "execution_count": 209,
   "id": "9031648d-2044-4251-b765-41d7032c5f65",
   "metadata": {},
   "outputs": [
    {
     "data": {
      "text/plain": [
       "array([  0.,   0.,   0.,   0.,   0., 200.,   0.,   0.,   0.,   0.])"
      ]
     },
     "execution_count": 209,
     "metadata": {},
     "output_type": "execute_result"
    }
   ],
   "source": [
    "nullvector[5]=200\n",
    "nullvector"
   ]
  },
  {
   "cell_type": "code",
   "execution_count": 5,
   "id": "ca2debef-46d2-4c4c-be9f-db11e3fd1b72",
   "metadata": {},
   "outputs": [
    {
     "data": {
      "text/plain": [
       "array([100, 101, 102, 103, 104, 105, 106, 107, 108, 109, 110, 111, 112,\n",
       "       113, 114, 115, 116, 117, 118, 119, 120, 121, 122, 123, 124, 125,\n",
       "       126, 127, 128, 129, 130, 131, 132, 133, 134, 135, 136, 137, 138,\n",
       "       139, 140, 141, 142, 143, 144, 145, 146, 147, 148, 149, 150])"
      ]
     },
     "execution_count": 5,
     "metadata": {},
     "output_type": "execute_result"
    }
   ],
   "source": [
    "#16.Create a 1-D Array/Vector with values ranging from 100 to 150 in sequence.\n",
    "array1d=np.arange(100, 151)\n",
    "array1d"
   ]
  },
  {
   "cell_type": "code",
   "execution_count": 15,
   "id": "d0929564-3354-4030-945f-53e765720d1b",
   "metadata": {},
   "outputs": [
    {
     "data": {
      "text/plain": [
       "array([150, 149, 148, 147, 146, 145, 144, 143, 142, 141, 140, 139, 138,\n",
       "       137, 136, 135, 134, 133, 132, 131, 130, 129, 128, 127, 126, 125,\n",
       "       124, 123, 122, 121, 120, 119, 118, 117, 116, 115, 114, 113, 112,\n",
       "       111, 110, 109, 108, 107, 106, 105, 104, 103, 102, 101, 100])"
      ]
     },
     "execution_count": 15,
     "metadata": {},
     "output_type": "execute_result"
    }
   ],
   "source": [
    "#17.Reverse the above vector.\n",
    "reverse=array1d[::-1]\n",
    "reverse"
   ]
  },
  {
   "cell_type": "code",
   "execution_count": 17,
   "id": "df674ff5-334a-4dfb-9ace-d7c566066a2c",
   "metadata": {},
   "outputs": [
    {
     "data": {
      "text/plain": [
       "array([[ 0,  1,  2,  3,  4],\n",
       "       [ 5,  6,  7,  8,  9],\n",
       "       [10, 11, 12, 13, 14],\n",
       "       [15, 16, 17, 18, 19],\n",
       "       [20, 21, 22, 23, 24]])"
      ]
     },
     "execution_count": 17,
     "metadata": {},
     "output_type": "execute_result"
    }
   ],
   "source": [
    "#18. Create a 5x5 matrix with values ranging from 0-24 using some function.\n",
    "matrix1 = np.arange(25).reshape(5, 5)\n",
    "matrix1"
   ]
  },
  {
   "cell_type": "code",
   "execution_count": 19,
   "id": "4a860728-9248-44a4-90ed-0cb6123854a7",
   "metadata": {},
   "outputs": [
    {
     "data": {
      "text/plain": [
       "array([1, 0, 2, 0, 0, 4, 0, 8])"
      ]
     },
     "execution_count": 19,
     "metadata": {},
     "output_type": "execute_result"
    }
   ],
   "source": [
    "#19.Find indices of nonzero elements from [1,0,2,0,0,4,0,8]\n",
    "H1 = np.array([1, 0, 2, 0, 0, 4, 0, 8])\n",
    "H1"
   ]
  },
  {
   "cell_type": "code",
   "execution_count": 21,
   "id": "6934ccbf-3d49-4d9b-a64a-af101502f702",
   "metadata": {},
   "outputs": [
    {
     "data": {
      "text/plain": [
       "(array([0, 2, 5, 7], dtype=int64),)"
      ]
     },
     "execution_count": 21,
     "metadata": {},
     "output_type": "execute_result"
    }
   ],
   "source": [
    "nonzero=np.nonzero(H1)\n",
    "nonzero"
   ]
  },
  {
   "cell_type": "code",
   "execution_count": 23,
   "id": "80371b9d-c095-459f-9517-d1446a44ced2",
   "metadata": {},
   "outputs": [
    {
     "data": {
      "text/plain": [
       "array([[1., 1., 1., 1., 1., 1., 1., 1., 1., 1.],\n",
       "       [1., 1., 1., 1., 1., 1., 1., 1., 1., 1.],\n",
       "       [1., 1., 1., 1., 1., 1., 1., 1., 1., 1.],\n",
       "       [1., 1., 1., 1., 1., 1., 1., 1., 1., 1.],\n",
       "       [1., 1., 1., 1., 1., 1., 1., 1., 1., 1.],\n",
       "       [1., 1., 1., 1., 1., 1., 1., 1., 1., 1.],\n",
       "       [1., 1., 1., 1., 1., 1., 1., 1., 1., 1.],\n",
       "       [1., 1., 1., 1., 1., 1., 1., 1., 1., 1.],\n",
       "       [1., 1., 1., 1., 1., 1., 1., 1., 1., 1.],\n",
       "       [1., 1., 1., 1., 1., 1., 1., 1., 1., 1.]])"
      ]
     },
     "execution_count": 23,
     "metadata": {},
     "output_type": "execute_result"
    }
   ],
   "source": [
    "#20.Create a 10x10 matrix with 1 on the borders and 0 inside.\n",
    "arr9= np.ones([10,10])\n",
    "arr9"
   ]
  },
  {
   "cell_type": "code",
   "execution_count": 25,
   "id": "b54c5950-f4f9-4d6a-b522-8bc0acafc2ab",
   "metadata": {},
   "outputs": [
    {
     "data": {
      "text/plain": [
       "array([[1., 1., 1., 1., 1., 1., 1., 1., 1., 1.],\n",
       "       [1., 0., 0., 0., 0., 0., 0., 0., 0., 1.],\n",
       "       [1., 0., 0., 0., 0., 0., 0., 0., 0., 1.],\n",
       "       [1., 0., 0., 0., 0., 0., 0., 0., 0., 1.],\n",
       "       [1., 0., 0., 0., 0., 0., 0., 0., 0., 1.],\n",
       "       [1., 0., 0., 0., 0., 0., 0., 0., 0., 1.],\n",
       "       [1., 0., 0., 0., 0., 0., 0., 0., 0., 1.],\n",
       "       [1., 0., 0., 0., 0., 0., 0., 0., 0., 1.],\n",
       "       [1., 0., 0., 0., 0., 0., 0., 0., 0., 1.],\n",
       "       [1., 1., 1., 1., 1., 1., 1., 1., 1., 1.]])"
      ]
     },
     "execution_count": 25,
     "metadata": {},
     "output_type": "execute_result"
    }
   ],
   "source": [
    "arr9[1:9,1:9]=0\n",
    "arr9"
   ]
  },
  {
   "cell_type": "code",
   "execution_count": 38,
   "id": "73f481f7-f8fa-40d8-a130-b903cd1c580a",
   "metadata": {},
   "outputs": [
    {
     "data": {
      "text/plain": [
       "array([[0, 0, 0, 0, 0, 0, 0, 0],\n",
       "       [0, 0, 0, 0, 0, 0, 0, 0],\n",
       "       [0, 0, 0, 0, 0, 0, 0, 0],\n",
       "       [0, 0, 0, 0, 0, 0, 0, 0],\n",
       "       [0, 0, 0, 0, 0, 0, 0, 0],\n",
       "       [0, 0, 0, 0, 0, 0, 0, 0],\n",
       "       [0, 0, 0, 0, 0, 0, 0, 0],\n",
       "       [0, 0, 0, 0, 0, 0, 0, 0]])"
      ]
     },
     "execution_count": 38,
     "metadata": {},
     "output_type": "execute_result"
    }
   ],
   "source": [
    "#21.Create 8x8 matrix and fill with 1 and 0 in checkerboard pattern.\n",
    "checkerboard = np.zeros((8,8),dtype=int)\n",
    "checkerboard"
   ]
  },
  {
   "cell_type": "code",
   "execution_count": 42,
   "id": "e44a71a7-7c8e-46a2-bc53-890d6a35b317",
   "metadata": {},
   "outputs": [
    {
     "data": {
      "text/plain": [
       "array([[0, 1, 0, 1, 0, 1, 0, 1],\n",
       "       [1, 0, 1, 0, 1, 0, 1, 0],\n",
       "       [0, 1, 0, 1, 0, 1, 0, 1],\n",
       "       [1, 0, 1, 0, 1, 0, 1, 0],\n",
       "       [0, 1, 0, 1, 0, 1, 0, 1],\n",
       "       [1, 0, 1, 0, 1, 0, 1, 0],\n",
       "       [0, 1, 0, 1, 0, 1, 0, 1],\n",
       "       [1, 0, 1, 0, 1, 0, 1, 0]])"
      ]
     },
     "execution_count": 42,
     "metadata": {},
     "output_type": "execute_result"
    }
   ],
   "source": [
    "checkerboard[1::2, ::2] = 1  \n",
    "checkerboard[::2, 1::2] = 1  \n",
    "checkerboard"
   ]
  },
  {
   "cell_type": "code",
   "execution_count": 84,
   "id": "e29ad251-496e-49bb-8428-a0de127b9d86",
   "metadata": {},
   "outputs": [
    {
     "data": {
      "text/plain": [
       "array([[1, 8, 7],\n",
       "       [6, 8, 4],\n",
       "       [7, 5, 4]])"
      ]
     },
     "execution_count": 84,
     "metadata": {},
     "output_type": "execute_result"
    }
   ],
   "source": [
    "#22.Create two 3x3 matrix with random integer values. Perform matrix addition, multiplication and subtraction\n",
    "matrix1 = np.random.randint(1, 11,(3, 3))\n",
    "matrix1"
   ]
  },
  {
   "cell_type": "code",
   "execution_count": 82,
   "id": "11f71190-6e68-4d7e-a9ee-45bd7438eabb",
   "metadata": {},
   "outputs": [
    {
     "data": {
      "text/plain": [
       "array([[ 6,  1,  1],\n",
       "       [ 9, 10,  3],\n",
       "       [ 9,  9,  1]])"
      ]
     },
     "execution_count": 82,
     "metadata": {},
     "output_type": "execute_result"
    }
   ],
   "source": [
    "matrix2 = np.random.randint(1,11,(3, 3))\n",
    "matrix2"
   ]
  },
  {
   "cell_type": "code",
   "execution_count": 86,
   "id": "f9111e0f-6746-4c37-9b33-33aa53c72a76",
   "metadata": {},
   "outputs": [
    {
     "data": {
      "text/plain": [
       "array([[ 7,  9,  8],\n",
       "       [15, 18,  7],\n",
       "       [16, 14,  5]])"
      ]
     },
     "execution_count": 86,
     "metadata": {},
     "output_type": "execute_result"
    }
   ],
   "source": [
    "addition = np.add(matrix1, matrix2)\n",
    "addition"
   ]
  },
  {
   "cell_type": "code",
   "execution_count": 90,
   "id": "baf68283-efc7-476f-b010-2698a98f482e",
   "metadata": {},
   "outputs": [
    {
     "data": {
      "text/plain": [
       "array([[-5,  7,  6],\n",
       "       [-3, -2,  1],\n",
       "       [-2, -4,  3]])"
      ]
     },
     "execution_count": 90,
     "metadata": {},
     "output_type": "execute_result"
    }
   ],
   "source": [
    "subtraction = np.subtract(matrix1, matrix2)\n",
    "subtraction"
   ]
  },
  {
   "cell_type": "code",
   "execution_count": 92,
   "id": "f61cbd5e-744e-4ccb-84c4-c280c3aa7278",
   "metadata": {},
   "outputs": [
    {
     "data": {
      "text/plain": [
       "array([[ 6,  8,  7],\n",
       "       [54, 80, 12],\n",
       "       [63, 45,  4]])"
      ]
     },
     "execution_count": 92,
     "metadata": {},
     "output_type": "execute_result"
    }
   ],
   "source": [
    "multiplication = np.multiply(matrix1, matrix2)\n",
    "multiplication"
   ]
  }
 ],
 "metadata": {
  "kernelspec": {
   "display_name": "Python 3 (ipykernel)",
   "language": "python",
   "name": "python3"
  },
  "language_info": {
   "codemirror_mode": {
    "name": "ipython",
    "version": 3
   },
   "file_extension": ".py",
   "mimetype": "text/x-python",
   "name": "python",
   "nbconvert_exporter": "python",
   "pygments_lexer": "ipython3",
   "version": "3.12.4"
  }
 },
 "nbformat": 4,
 "nbformat_minor": 5
}
